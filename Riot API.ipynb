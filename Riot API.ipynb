{
 "cells": [
  {
   "cell_type": "markdown",
   "metadata": {},
   "source": [
    "# Riot API "
   ]
  },
  {
   "cell_type": "markdown",
   "metadata": {},
   "source": [
    "This analysis isn't endorsed by Riot Games and doesn't reflect the views or opinions of Riot Games or anyone officially involved in producing or managing Riot Games properties. Riot Games, and all associated properties are trademarks or registered trademarks of Riot Games, Inc."
   ]
  },
  {
   "cell_type": "markdown",
   "metadata": {},
   "source": [
    "REMINDER: API changes every couple of days, each hash changes along with it!"
   ]
  },
  {
   "cell_type": "markdown",
   "metadata": {},
   "source": [
    "## To Do\n",
    "\n",
    "1. (Current) Code experimentation\n",
    "2. Running Collection for Dataset\n",
    "3. Preparing Analysis"
   ]
  },
  {
   "cell_type": "markdown",
   "metadata": {},
   "source": [
    "Priority\n",
    "* Scheduling running of the collection code\n",
    "\n",
    "* SQL alchemy \n",
    "    * Duplicate handling\n",
    "    * [TODO] Logging just to see what's happening\n",
    "    * [TODO] Sessions/Transactions?\n",
    "\n",
    "\n",
    "* Environment Preparation (Isolating just the necessary libraries to run this code\n",
    "    * Is there a Better way of showing the needed libaries?\n",
    "\n",
    "* Workflow for analysis\n",
    "    * Generic\n",
    "        * Match ID\n",
    "            * Username\n",
    "                * Ranking\n",
    "    * Targeted\n",
    "        * Username\n",
    "           * Match information of previous matches"
   ]
  },
  {
   "cell_type": "markdown",
   "metadata": {},
   "source": [
    "## Goal\n",
    "\n",
    "Showcase DataScience with limited Data\n",
    "\n",
    "## Plan\n",
    "\n",
    "1. API ingestion into clear columns\n",
    "1. Database Setup\n",
    "    1. Users (puuid, summonerid, username)\n",
    "    1. Ranking Table (summoner revision date, rank, title, lp)\n",
    "1. Database insertion of data\n",
    "    1. How to cache this data for the future\n",
    "1. Explaining more about Team Fight Tactics\n",
    "\n",
    "\n",
    "## Ideas:\n",
    "* Damange Dealt to other players and time and placement and RANK and Region as interesting factors\n",
    "\n",
    "* Invert Optimal question: \"What makes BOT4?\" \n",
    "    * Hypothesis: Inaccurate player understanding of their comp powerlevel relative to other players\n",
    "        * playing too greedy when actually weak\n",
    "        * hoping for a full comp\n",
    "\n",
    "    * \"Partial comps may work to make top 4\"\n",
    "* Damage over time that kills \n",
    "\n",
    "* Did they see the loss coming? \n",
    "* Did they low-roll? Items/Units \n",
    "* Did they have enough gold to roll for anything? \n",
    "\n",
    "* Hypothesis, you need a certain health and damage dealt threshold to be top 4\n",
    "\n",
    "\n",
    "    \n",
    "    * For lower ranked gameplay, this is more apparent during the rank reset when top players can optimize better and will peter out to be more uniform per rank\n",
    "    * But with high ranks being more tight since they can position\n",
    "\n",
    "* Optimal setup for different comps\n",
    "    * Example: For Sharpshooters how much higher is the average placement for Teemo Chosen vs Vayne Chosen\n",
    "* COnditional Matches\n",
    "    * If a match was close what are \"good enough\" comps\n",
    "    * If contested, which comps do better\n",
    " \n",
    "\n",
    "## Links\n",
    "* https://developer.riotgames.com/apis\n",
    "\n",
    "* https://requests.readthedocs.io/en/latest/user/quickstart/\n",
    "\n",
    "\n",
    "## Lessons Learned\n",
    "* Python Requests .json() returns a dict that can be encoded to JSON (AKA deserialization) requires serialization to turn into proper JSON. Difference is that the deserialization creates a dictionary that uses single quotes. However JSON requires double quotes for strings! Can use json library function dumps to serialize, or just replace single quotations with double quotations. \n",
    "\n",
    "* SQL Alchemy \n",
    "    * Object Oriented Programming\n",
    "    * Sessions and transactions for logging purposes\n",
    "    * Mostly flexible backend. There are some backend specific functions that is not universal\n",
    "\n",
    "* Github\n",
    "    * Hiding APIs \n",
    "\n",
    "* Rate Limiting\n",
    "    * Decorator Factories (Merging Decorators)"
   ]
  },
  {
   "cell_type": "markdown",
   "metadata": {},
   "source": [
    "# Classes \n",
    "classes for more structured code? Probably best for showcasing and the API Limter decorator\n",
    "\n",
    "objects & methods\n",
    "* user\n",
    "    * username\n",
    "    * PUUID\n",
    "    \n",
    "\n",
    "\n",
    "* match\n",
    "\n",
    "* user ranking information\n",
    "\n",
    "\n",
    "\n",
    "\n",
    "* Requests from the API\n",
    "    * Request \"account info\" given username\n",
    "    * Request ranking information given summoner id\n",
    "    * Request Match IDs given puuid and n latest matches\n",
    "    * Request Match Information given Match IDs\n",
    "    \n",
    "* Inserts to the Database\n",
    "    * Basically One For each table \n",
    "\n",
    "Questions:\n",
    "* How do classes interact with each other, especially with piping methods into and out of different classes? \n",
    "* Are there other reused classes like user and match? (Maybe within the breakdown of the data from API to Database"
   ]
  },
  {
   "cell_type": "code",
   "execution_count": 74,
   "metadata": {},
   "outputs": [],
   "source": [
    "# https://pypi.org/project/ratelimit/\n",
    "from ratelimit import limits, sleep_and_retry\n",
    "#        > 20 requests every 1 seconds(s)        \n",
    "#        > 100 requests every 2 minutes(s)\n",
    "# 10 calls per minute\n",
    "CALLS = 10\n",
    "RATE_LIMIT = 60\n",
    "\n",
    "# 1 calls per 2 seconds\n",
    "CALLS_2 = 1 \n",
    "RATE_LIMIT_2 = 2\n",
    "\n",
    "\n",
    "# Make all the api calls limited based on rate\n",
    "@sleep_and_retry\n",
    "@limits(calls=CALLS, period=RATE_LIMIT)\n",
    "def check_limit():\n",
    "    ''' Empty function just to check for calls to API '''\n",
    "    return\n",
    "\n",
    "@sleep_and_retry\n",
    "@limits(calls=CALLS_2, period=RATE_LIMIT_2)\n",
    "def check_limit_2():\n",
    "    ''' Empty function just to check for calls to API '''\n",
    "    return"
   ]
  },
  {
   "cell_type": "code",
   "execution_count": 75,
   "metadata": {},
   "outputs": [],
   "source": [
    "# Decorator factory to merge the decorators together!\n",
    "def merged_decorator_with_args(CALLS, RATE_LIMIT, CALLS_2, RATE_LIMIT_2):\n",
    "    # pass the arguments to the decorator factories and\n",
    "    # obtain the actual decorators\n",
    "    deco2 = limits(calls=CALLS, period=RATE_LIMIT)\n",
    "    deco1 = limits(calls=CALLS_2, period=RATE_LIMIT_2)\n",
    "\n",
    "    # create a function decorator that applies the two\n",
    "    # decorators we just created\n",
    "    def real_decorator(func):\n",
    "        return deco2(deco1(func))\n",
    "\n",
    "    return real_decorator\n",
    "\n",
    "# Good start, will need to add-in sleep_and_retry\n",
    "    # also will need to say what is not working data validation\n",
    "# Will need to make the API calls functions... Maybe this should be a class\n",
    "    # Technically these are different methods\n",
    "        # Header with the API\n",
    "        # Different links which are used for the library Requests request.get .... the URL and the argument\n",
    "            # The JSON responses are broken down and then included in the the SQL insert\n",
    "# One class for breaking the data down\n",
    "# One class for inserting the database\n",
    "\n"
   ]
  },
  {
   "cell_type": "code",
   "execution_count": 82,
   "metadata": {},
   "outputs": [],
   "source": [
    "def test():\n",
    "    check_limit()\n",
    "    check_limit_2()\n",
    "    return \"test\"\n",
    "\n",
    "def test2():\n",
    "    check_limit()\n",
    "    check_limit_2()\n",
    "    return \"test2\""
   ]
  },
  {
   "cell_type": "code",
   "execution_count": 102,
   "metadata": {},
   "outputs": [],
   "source": [
    "@merged_decorator_with_args(CALLS, RATE_LIMIT, CALLS_2, RATE_LIMIT_2)\n",
    "def test3():\n",
    "    return \"test3\""
   ]
  },
  {
   "cell_type": "code",
   "execution_count": 1,
   "metadata": {},
   "outputs": [],
   "source": [
    "# Libraries\n",
    "import requests\n",
    "# import json # Requests already converts JSON into dict"
   ]
  },
  {
   "cell_type": "code",
   "execution_count": 2,
   "metadata": {},
   "outputs": [],
   "source": [
    "# Api Key Needs to be changed every couple of days!!!!\n",
    "    #api_key = \"EXAMPLE-NUMBERS-LETTERS-UPPERCASE-LOWERCASE\"\n",
    "# Header for API queries\n",
    "%run config.py"
   ]
  },
  {
   "cell_type": "code",
   "execution_count": 3,
   "metadata": {},
   "outputs": [],
   "source": [
    "# API response dictionary (human readable errors)\n",
    "API_Responses = {\n",
    "    200: \"OK\",\n",
    "    400: \"Bad request\",\n",
    "    401: \"Unauthorized\",\n",
    "    403: \"Forbidden\",\n",
    "    404: \"Data not found\",\n",
    "    405: \"Method not allowed\",\n",
    "    415: \"Unsupported media type\",\n",
    "    429: \"Rate limit exceeded\",\n",
    "    500: \"Internal server error\",\n",
    "    502: \"Bad gateway\",\n",
    "    503: \"Service unavailable\",\n",
    "    504: \"Gateway timeout\"\n",
    "}\n",
    "# TODO Create error handling depending on API response\n"
   ]
  },
  {
   "cell_type": "code",
   "execution_count": 4,
   "metadata": {},
   "outputs": [
    {
     "name": "stdout",
     "output_type": "stream",
     "text": [
      "OK\n"
     ]
    }
   ],
   "source": [
    "# How to make a request for username\n",
    "# use headers variable always? \n",
    "# NA only, probably different <>.api.riotgames.com \n",
    "\n",
    "summoner_request = \"AutoBattleBot\";\n",
    "search_summoner = 'https://na1.api.riotgames.com/tft/summoner/v1/summoners/by-name/'+summoner_request\n",
    "\n",
    "\n",
    "response_search_summoner = requests.get(search_summoner, headers=headers)\n",
    "print(API_Responses[response_search_summoner.status_code])\n",
    "\n",
    "# Should have some sort of verifcation\n",
    "# Should have some sort of error code to response"
   ]
  },
  {
   "cell_type": "code",
   "execution_count": 5,
   "metadata": {},
   "outputs": [
    {
     "name": "stdout",
     "output_type": "stream",
     "text": [
      "{'id': 'eLVSC31XyJpUcssw1Xx14DeMCaXZNdXqM3N2qgNTTD1tzDD8', 'accountId': '9saQlcagNsGYGvRvGr8gZrvm1JdJRlQXQpQ2qVgdqYzxV1lee1ce_13l', 'puuid': 'PvVcIk6ij_ib-lFOp-euC__GoPz4GTim3dMXe1XdzBAEDXBgL5ElnUSJRBDNSE2_qAb2qULSoEDVjA', 'name': 'AutoBattleBot', 'profileIconId': 29, 'revisionDate': 1603349358000, 'summonerLevel': 1}\n"
     ]
    }
   ],
   "source": [
    "print(response_search_summoner.json())"
   ]
  },
  {
   "cell_type": "code",
   "execution_count": 6,
   "metadata": {},
   "outputs": [
    {
     "name": "stdout",
     "output_type": "stream",
     "text": [
      "{'Content-Type': 'application/json;charset=utf-8', 'Date': 'Fri, 11 Dec 2020 05:30:22 GMT, Fri, 11 Dec 2020  05:30:22 GMT', 'X-Riot-Edge-Trace-Id': '7da30b49-7b4a-4e1f-9688-bedd515c5a25', 'Connection': 'keep-alive'}\n"
     ]
    }
   ],
   "source": [
    "r = requests.head(url=search_summoner)\n",
    "print(r.headers)"
   ]
  },
  {
   "cell_type": "code",
   "execution_count": null,
   "metadata": {},
   "outputs": [],
   "source": []
  },
  {
   "cell_type": "code",
   "execution_count": 27,
   "metadata": {},
   "outputs": [
    {
     "name": "stdout",
     "output_type": "stream",
     "text": [
      "puuid: PvVcIk6ij_ib-lFOp-euC__GoPz4GTim3dMXe1XdzBAEDXBgL5ElnUSJRBDNSE2_qAb2qULSoEDVjA\n",
      "summoner_id: eLVSC31XyJpUcssw1Xx14DeMCaXZNdXqM3N2qgNTTD1tzDD8\n"
     ]
    }
   ],
   "source": [
    "# How we convert to JSON and parse through\n",
    "# Guessing it should be fine because each header is easily searched on RIOT API and they won't change\n",
    "\n",
    "response_search_summoner_dict = response_search_summoner.json()\n",
    "# Player Universally Unique IDentifiers (newer way)\n",
    "puuid = response_search_summoner_dict['puuid']\n",
    "# summoner id - mroe region based identification (old way)\n",
    "summoner_id = response_search_summoner_dict['id']\n",
    "\n",
    "print(\"puuid: \" + puuid)\n",
    "print(\"summoner_id: \" + summoner_id)"
   ]
  },
  {
   "cell_type": "code",
   "execution_count": 28,
   "metadata": {},
   "outputs": [
    {
     "name": "stdout",
     "output_type": "stream",
     "text": [
      "OK\n"
     ]
    }
   ],
   "source": [
    "# Request ranking information based on summoner id\n",
    "\n",
    "search_ranking = \"https://na1.api.riotgames.com/tft/league/v1/entries/by-summoner/\" + summoner_id\n",
    "\n",
    "response_search_ranking = requests.get(search_ranking, headers=headers)\n",
    "print(API_Responses[response_search_ranking.status_code])\n"
   ]
  },
  {
   "cell_type": "code",
   "execution_count": 15,
   "metadata": {},
   "outputs": [
    {
     "name": "stdout",
     "output_type": "stream",
     "text": [
      "{'leagueId': '41343c48-50bd-4175-a877-95770e208f04', 'queueType': 'RANKED_TFT', 'tier': 'PLATINUM', 'rank': 'I', 'summonerId': 'MnEQ6BcFXhipHCnnuM344LZ8bJ7rqkN61pXGhmPWMw-k5PqW', 'summonerName': '88chwain', 'leaguePoints': 0, 'wins': 26, 'losses': 165, 'veteran': False, 'inactive': False, 'freshBlood': True, 'hotStreak': False}\n"
     ]
    }
   ],
   "source": [
    "# returns a list! instead of a dictionary... so we'll need to fix it....\n",
    "print(response_search_ranking.json()[0])"
   ]
  },
  {
   "cell_type": "code",
   "execution_count": 16,
   "metadata": {},
   "outputs": [],
   "source": [
    "response_search_ranking_dict = response_search_ranking.json()[0]\n",
    "tier = response_search_ranking_dict['tier']\n",
    "rank = response_search_ranking_dict['rank']\n",
    "LP = response_search_ranking_dict['leaguePoints']\n",
    "wins = response_search_ranking_dict['wins']\n",
    "losses = response_search_ranking_dict['losses']\n",
    "\n",
    "#unsure about these metrics\n",
    "#veteran = response_search_ranking_dict['veteran']\n",
    "#inactive = response_search_ranking_dict['inactive']\n",
    "#freshBlood = response_search_ranking_dict['freshBlood']\n",
    "#hotStreak = response_search_ranking_dict['hotStreak']"
   ]
  },
  {
   "cell_type": "code",
   "execution_count": 17,
   "metadata": {},
   "outputs": [
    {
     "name": "stdout",
     "output_type": "stream",
     "text": [
      "OK\n"
     ]
    }
   ],
   "source": [
    "# Request for Match IDs based on puuid\n",
    "n_recent_matches = 20\n",
    "search_match = \"https://americas.api.riotgames.com/tft/match/v1/matches/by-puuid/\" + puuid + \"/ids?count=\"+ str(n_recent_matches)\n",
    "\n",
    "response_search_match = requests.get(search_match, headers=headers)\n",
    "print(API_Responses[response_search_match.status_code])"
   ]
  },
  {
   "cell_type": "code",
   "execution_count": 18,
   "metadata": {},
   "outputs": [],
   "source": [
    "response_search_match_dict = response_search_match.json()\n",
    "# Player Unique User Identification -Used instead of raw name\n",
    "response_search_match_dict\n",
    "\n",
    "match_list = dict()\n",
    "# From 0 to n_recent_matches\n",
    "for number, match_id in enumerate(response_search_match_dict):\n",
    "    match_list[number]= match_id\n"
   ]
  },
  {
   "cell_type": "code",
   "execution_count": 19,
   "metadata": {},
   "outputs": [
    {
     "data": {
      "text/plain": [
       "{0: 'NA1_3630152875',\n",
       " 1: 'NA1_3628829278',\n",
       " 2: 'NA1_3628851759',\n",
       " 3: 'NA1_3627838012',\n",
       " 4: 'NA1_3627812452',\n",
       " 5: 'NA1_3627501044',\n",
       " 6: 'NA1_3626440134',\n",
       " 7: 'NA1_3626341535',\n",
       " 8: 'NA1_3626174069',\n",
       " 9: 'NA1_3625892017',\n",
       " 10: 'NA1_3624488945',\n",
       " 11: 'NA1_3624530116',\n",
       " 12: 'NA1_3624442500',\n",
       " 13: 'NA1_3623568534',\n",
       " 14: 'NA1_3623510920',\n",
       " 15: 'NA1_3623422925',\n",
       " 16: 'NA1_3623345978',\n",
       " 17: 'NA1_3623289356',\n",
       " 18: 'NA1_3623081923',\n",
       " 19: 'NA1_3622906182'}"
      ]
     },
     "execution_count": 19,
     "metadata": {},
     "output_type": "execute_result"
    }
   ],
   "source": [
    "match_list\n",
    "#match_list[0]"
   ]
  },
  {
   "cell_type": "code",
   "execution_count": 20,
   "metadata": {},
   "outputs": [
    {
     "name": "stdout",
     "output_type": "stream",
     "text": [
      "OK\n"
     ]
    }
   ],
   "source": [
    "# Match Information\n",
    "search_match_info = \"https://americas.api.riotgames.com/tft/match/v1/matches/\" + match_list[0]\n",
    "\n",
    "response_search_match_info = requests.get(search_match_info, headers=headers)\n",
    "print(API_Responses[response_search_match_info.status_code])"
   ]
  },
  {
   "cell_type": "code",
   "execution_count": 21,
   "metadata": {},
   "outputs": [],
   "source": [
    "response_search_match_info_dict = response_search_match_info.json()"
   ]
  },
  {
   "cell_type": "code",
   "execution_count": 22,
   "metadata": {},
   "outputs": [
    {
     "name": "stdout",
     "output_type": "stream",
     "text": [
      "{'metadata': {'data_version': '5', 'match_id': 'NA1_3630152875', 'participants': ['pLp88KkYvcbTnKevXUb33CMol_eJSWq4xHjgINLW5iegO3Wtg0sUSy6LSJe44HQasMW90D_90-4C3w', 'OmFkLrQBN-xs0haPk5ooh-g2Of5Or7nqyQlEh0G7ed2fTVYErqbfylYYKu7PHSMGWQ0jSluxKC3hFw', 'JzKl_pACMSDQ_bY38GvOAdCu62yAnU9AUyiTnwJThphb5X4HmLC0GiV7LP9zxXItY139Eri1blg3aw', 'ARzZ8ZIsfhefpafFh9gvDLXbpA6Ws30QDbmhoUs8K6xsw1GGVmhEHwWCuUw7TQ5a5cjU15p9VX7XWQ', '_ILPMfKQrbeIN6auqksi_ajKmXaiLqeSQyvZlAOycAGqlLzN8XlpmiMvIUfJ_8lx1Ag8ZE7lEOKIDA', 'ZgaJ0EurUEW_InpChbfGMZt6Oda24huCDe1deMX70ltmvMjQaARxoYnPv8JDi9xQGLRCOj20Rfn2Rw', 'BsTuu6EscV1ofuNOBzBIQMaYOaglXrAumTmjGWKq8CdcU3cmSxZczwcntma8eimh14JpYnVDm-6Rkg', 'idjfj6nouxMYDnkAbsUrzJyjYVcfMu7BkLKAtVXIZGsdTdU-22sevGQEqLJmYa8AgE3jcfi0oACcmQ']}, 'info': {'game_datetime': 1603498465558, 'game_length': 2052.78662109375, 'game_version': 'Version 10.21.339.2173 (Oct 09 2020/15:54:03) [PUBLIC] <Releases/10.21>', 'participants': [{'companion': {'content_ID': '64691b63-1603-443e-bde5-727148f440ed', 'skin_ID': 4, 'species': 'PetMiner'}, 'gold_left': 1, 'last_round': 35, 'level': 8, 'placement': 2, 'players_eliminated': 0, 'puuid': 'pLp88KkYvcbTnKevXUb33CMol_eJSWq4xHjgINLW5iegO3Wtg0sUSy6LSJe44HQasMW90D_90-4C3w', 'time_eliminated': 2044.4974365234375, 'total_damage_to_players': 122, 'traits': [{'name': 'Cultist', 'num_units': 2, 'style': 0, 'tier_current': 0, 'tier_total': 3}, {'name': 'Fortune', 'num_units': 1, 'style': 0, 'tier_current': 0, 'tier_total': 2}, {'name': 'Keeper', 'num_units': 1, 'style': 0, 'tier_current': 0, 'tier_total': 3}, {'name': 'Set4_Adept', 'num_units': 1, 'style': 0, 'tier_current': 0, 'tier_total': 3}, {'name': 'Set4_Assassin', 'num_units': 4, 'style': 3, 'tier_current': 2, 'tier_total': 3}, {'name': 'Set4_Mystic', 'num_units': 1, 'style': 0, 'tier_current': 0, 'tier_total': 3}, {'name': 'Set4_Ninja', 'num_units': 4, 'style': 3, 'tier_current': 2, 'tier_total': 2}, {'name': 'Set4_Shade', 'num_units': 3, 'style': 3, 'tier_current': 2, 'tier_total': 3}, {'name': 'Set4_Tormented', 'num_units': 1, 'style': 3, 'tier_current': 1, 'tier_total': 1}, {'name': 'Warlord', 'num_units': 2, 'style': 0, 'tier_current': 0, 'tier_total': 3}], 'units': [{'character_id': 'TFT4_Zed', 'items': [], 'name': '', 'rarity': 1, 'tier': 2}, {'character_id': 'TFT4_Pyke', 'items': [], 'name': '', 'rarity': 1, 'tier': 1}, {'character_id': 'TFT4_Akali', 'chosen': 'Set4_Assassin', 'items': [22, 19, 44], 'name': '', 'rarity': 2, 'tier': 3}, {'character_id': 'TFT4_Kennen', 'items': [35, 78], 'name': '', 'rarity': 2, 'tier': 2}, {'character_id': 'TFT4_Katarina', 'items': [45, 69, 13], 'name': '', 'rarity': 2, 'tier': 2}, {'character_id': 'TFT4_Evelynn', 'items': [47], 'name': '', 'rarity': 2, 'tier': 2}, {'character_id': 'TFT4_Shen', 'items': [25], 'name': '', 'rarity': 3, 'tier': 2}, {'character_id': 'TFT4_Kayn', 'items': [], 'name': '', 'rarity': 4, 'tier': 1}]}, {'companion': {'content_ID': '89c0c2b7-fa70-434f-8a33-1a9256894d71', 'skin_ID': 15, 'species': 'PetAkaliDragon'}, 'gold_left': 8, 'last_round': 30, 'level': 8, 'placement': 8, 'players_eliminated': 0, 'puuid': 'OmFkLrQBN-xs0haPk5ooh-g2Of5Or7nqyQlEh0G7ed2fTVYErqbfylYYKu7PHSMGWQ0jSluxKC3hFw', 'time_eliminated': 1733.4749755859375, 'total_damage_to_players': 76, 'traits': [{'name': 'Cultist', 'num_units': 2, 'style': 0, 'tier_current': 0, 'tier_total': 3}, {'name': 'Dusk', 'num_units': 2, 'style': 1, 'tier_current': 1, 'tier_total': 3}, {'name': 'Fortune', 'num_units': 1, 'style': 0, 'tier_current': 0, 'tier_total': 2}, {'name': 'Set4_Adept', 'num_units': 1, 'style': 0, 'tier_current': 0, 'tier_total': 3}, {'name': 'Set4_Enlightened', 'num_units': 1, 'style': 0, 'tier_current': 0, 'tier_total': 3}, {'name': 'Set4_Mage', 'num_units': 2, 'style': 0, 'tier_current': 0, 'tier_total': 3}, {'name': 'Set4_Mystic', 'num_units': 4, 'style': 3, 'tier_current': 2, 'tier_total': 3}, {'name': 'Set4_Ninja', 'num_units': 1, 'style': 1, 'tier_current': 1, 'tier_total': 2}, {'name': 'Set4_Spirit', 'num_units': 1, 'style': 0, 'tier_current': 0, 'tier_total': 2}, {'name': 'Set4_Vanguard', 'num_units': 3, 'style': 1, 'tier_current': 1, 'tier_total': 4}], 'units': [{'character_id': 'TFT4_Janna', 'items': [], 'name': '', 'rarity': 1, 'tier': 2}, {'character_id': 'TFT4_Thresh', 'items': [], 'name': '', 'rarity': 1, 'tier': 2}, {'character_id': 'TFT4_Aatrox', 'items': [], 'name': '', 'rarity': 3, 'tier': 2}, {'character_id': 'TFT4_Ahri', 'chosen': 'Set4_Mage', 'items': [39, 39], 'name': '', 'rarity': 3, 'tier': 2}, {'character_id': 'TFT4_Cassiopeia', 'items': [], 'name': '', 'rarity': 3, 'tier': 1}, {'character_id': 'TFT4_Sejuani', 'items': [25, 36, 25], 'name': '', 'rarity': 3, 'tier': 2}, {'character_id': 'TFT4_Shen', 'items': [59], 'name': '', 'rarity': 3, 'tier': 1}, {'character_id': 'TFT4_Zilean', 'items': [], 'name': '', 'rarity': 4, 'tier': 1}]}, {'companion': {'content_ID': 'd66207bf-7aeb-4727-9583-da16ca48e9cb', 'skin_ID': 7, 'species': 'PetSGCat'}, 'gold_left': 0, 'last_round': 31, 'level': 8, 'placement': 5, 'players_eliminated': 0, 'puuid': 'JzKl_pACMSDQ_bY38GvOAdCu62yAnU9AUyiTnwJThphb5X4HmLC0GiV7LP9zxXItY139Eri1blg3aw', 'time_eliminated': 1803.9434814453125, 'total_damage_to_players': 51, 'traits': [{'name': 'Cultist', 'num_units': 2, 'style': 0, 'tier_current': 0, 'tier_total': 3}, {'name': 'Dusk', 'num_units': 4, 'style': 3, 'tier_current': 2, 'tier_total': 3}, {'name': 'Fortune', 'num_units': 1, 'style': 0, 'tier_current': 0, 'tier_total': 2}, {'name': 'Set4_Mystic', 'num_units': 2, 'style': 1, 'tier_current': 1, 'tier_total': 3}, {'name': 'Set4_Spirit', 'num_units': 2, 'style': 1, 'tier_current': 1, 'tier_total': 2}, {'name': 'Set4_Vanguard', 'num_units': 2, 'style': 1, 'tier_current': 1, 'tier_total': 4}, {'name': 'Sharpshooter', 'num_units': 4, 'style': 3, 'tier_current': 2, 'tier_total': 3}], 'units': [{'character_id': 'TFT4_Vayne', 'chosen': 'Dusk', 'items': [23, 15, 16], 'name': '', 'rarity': 0, 'tier': 3}, {'character_id': 'TFT4_Teemo', 'items': [34], 'name': '', 'rarity': 1, 'tier': 2}, {'character_id': 'TFT4_Thresh', 'items': [], 'name': '', 'rarity': 1, 'tier': 2}, {'character_id': 'TFT4_Yuumi', 'items': [], 'name': '', 'rarity': 2, 'tier': 2}, {'character_id': 'TFT4_Jinx', 'items': [], 'name': '', 'rarity': 2, 'tier': 1}, {'character_id': 'TFT4_Aatrox', 'items': [57], 'name': '', 'rarity': 3, 'tier': 2}, {'character_id': 'TFT4_Cassiopeia', 'items': [7], 'name': '', 'rarity': 3, 'tier': 1}, {'character_id': 'TFT4_Jhin', 'items': [16, 15], 'name': '', 'rarity': 3, 'tier': 2}]}, {'companion': {'content_ID': '879354f5-f2a9-41f6-b493-38287a0a7b0e', 'skin_ID': 7, 'species': 'PetChoncc'}, 'gold_left': 1, 'last_round': 31, 'level': 8, 'placement': 7, 'players_eliminated': 0, 'puuid': 'ARzZ8ZIsfhefpafFh9gvDLXbpA6Ws30QDbmhoUs8K6xsw1GGVmhEHwWCuUw7TQ5a5cjU15p9VX7XWQ', 'time_eliminated': 1813.9998779296875, 'total_damage_to_players': 58, 'traits': [{'name': 'Cultist', 'num_units': 1, 'style': 0, 'tier_current': 0, 'tier_total': 3}, {'name': 'Divine', 'num_units': 5, 'style': 2, 'tier_current': 2, 'tier_total': 4}, {'name': 'Duelist', 'num_units': 1, 'style': 0, 'tier_current': 0, 'tier_total': 4}, {'name': 'Fortune', 'num_units': 1, 'style': 0, 'tier_current': 0, 'tier_total': 2}, {'name': 'Hunter', 'num_units': 2, 'style': 1, 'tier_current': 1, 'tier_total': 4}, {'name': 'Set4_Adept', 'num_units': 1, 'style': 0, 'tier_current': 0, 'tier_total': 3}, {'name': 'Set4_Brawler', 'num_units': 1, 'style': 0, 'tier_current': 0, 'tier_total': 4}, {'name': 'Set4_Dazzler', 'num_units': 1, 'style': 0, 'tier_current': 0, 'tier_total': 2}, {'name': 'Set4_Elderwood', 'num_units': 1, 'style': 0, 'tier_current': 0, 'tier_total': 3}, {'name': 'Set4_Enlightened', 'num_units': 1, 'style': 0, 'tier_current': 0, 'tier_total': 3}, {'name': 'Set4_Vanguard', 'num_units': 4, 'style': 2, 'tier_current': 2, 'tier_total': 4}], 'units': [{'character_id': 'TFT4_Wukong', 'items': [], 'name': '', 'rarity': 0, 'tier': 2}, {'character_id': 'TFT4_Hecarim', 'items': [], 'name': '', 'rarity': 1, 'tier': 2}, {'character_id': 'TFT4_Jax', 'items': [], 'name': '', 'rarity': 1, 'tier': 2}, {'character_id': 'TFT4_Irelia', 'items': [45], 'name': '', 'rarity': 2, 'tier': 2}, {'character_id': 'TFT4_Lux', 'items': [], 'name': '', 'rarity': 2, 'tier': 2}, {'character_id': 'TFT4_Aatrox', 'items': [], 'name': '', 'rarity': 3, 'tier': 2}, {'character_id': 'TFT4_Warwick', 'chosen': 'Hunter', 'items': [24, 24, 69], 'name': '', 'rarity': 3, 'tier': 2}, {'character_id': 'TFT4_Sejuani', 'items': [14, 35, 36], 'name': '', 'rarity': 3, 'tier': 2}]}, {'companion': {'content_ID': '969b1b5f-3e5d-44fd-bfa3-1aa798c4b73a', 'skin_ID': 20, 'species': 'PetGhosty'}, 'gold_left': 2, 'last_round': 31, 'level': 8, 'placement': 6, 'players_eliminated': 0, 'puuid': '_ILPMfKQrbeIN6auqksi_ajKmXaiLqeSQyvZlAOycAGqlLzN8XlpmiMvIUfJ_8lx1Ag8ZE7lEOKIDA', 'time_eliminated': 1807.47607421875, 'total_damage_to_players': 79, 'traits': [{'name': 'Boss', 'num_units': 1, 'style': 3, 'tier_current': 1, 'tier_total': 1}, {'name': 'Divine', 'num_units': 1, 'style': 0, 'tier_current': 0, 'tier_total': 4}, {'name': 'Fortune', 'num_units': 1, 'style': 0, 'tier_current': 0, 'tier_total': 2}, {'name': 'Hunter', 'num_units': 2, 'style': 1, 'tier_current': 1, 'tier_total': 4}, {'name': 'Moonlight', 'num_units': 1, 'style': 0, 'tier_current': 0, 'tier_total': 2}, {'name': 'Set4_Brawler', 'num_units': 8, 'style': 4, 'tier_current': 4, 'tier_total': 4}, {'name': 'Set4_Elderwood', 'num_units': 3, 'style': 1, 'tier_current': 1, 'tier_total': 3}, {'name': 'Warlord', 'num_units': 1, 'style': 0, 'tier_current': 0, 'tier_total': 3}], 'units': [{'character_id': 'TFT4_Maokai', 'items': [], 'name': '', 'rarity': 0, 'tier': 2}, {'character_id': 'TFT4_TahmKench', 'items': [], 'name': '', 'rarity': 0, 'tier': 2}, {'character_id': 'TFT4_Sylas', 'items': [], 'name': '', 'rarity': 1, 'tier': 1}, {'character_id': 'TFT4_Vi', 'items': [67], 'name': '', 'rarity': 1, 'tier': 2}, {'character_id': 'TFT4_Nunu', 'chosen': 'Set4_Brawler', 'items': [13, 77, 24], 'name': '', 'rarity': 2, 'tier': 3}, {'character_id': 'TFT4_Warwick', 'items': [], 'name': '', 'rarity': 3, 'tier': 1}, {'character_id': 'TFT4_Ashe', 'items': [23, 69, 29], 'name': '', 'rarity': 3, 'tier': 1}, {'character_id': 'TFT4_Sett', 'items': [], 'name': '', 'rarity': 4, 'tier': 1}]}, {'companion': {'content_ID': 'ce633db0-0a20-4eeb-8154-cd176675d4f1', 'skin_ID': 14, 'species': 'PetAkaliDragon'}, 'gold_left': 22, 'last_round': 34, 'level': 8, 'placement': 3, 'players_eliminated': 2, 'puuid': 'ZgaJ0EurUEW_InpChbfGMZt6Oda24huCDe1deMX70ltmvMjQaARxoYnPv8JDi9xQGLRCOj20Rfn2Rw', 'time_eliminated': 1991.2718505859375, 'total_damage_to_players': 119, 'traits': [{'name': 'Divine', 'num_units': 6, 'style': 3, 'tier_current': 3, 'tier_total': 4}, {'name': 'Duelist', 'num_units': 2, 'style': 1, 'tier_current': 1, 'tier_total': 4}, {'name': 'Hunter', 'num_units': 3, 'style': 2, 'tier_current': 2, 'tier_total': 4}, {'name': 'Set4_Adept', 'num_units': 3, 'style': 3, 'tier_current': 2, 'tier_total': 3}, {'name': 'Set4_Brawler', 'num_units': 1, 'style': 0, 'tier_current': 0, 'tier_total': 4}, {'name': 'Set4_Elderwood', 'num_units': 1, 'style': 0, 'tier_current': 0, 'tier_total': 3}, {'name': 'Set4_Enlightened', 'num_units': 1, 'style': 0, 'tier_current': 0, 'tier_total': 3}, {'name': 'Set4_Mystic', 'num_units': 2, 'style': 1, 'tier_current': 1, 'tier_total': 3}, {'name': 'Set4_Ninja', 'num_units': 1, 'style': 1, 'tier_current': 1, 'tier_total': 2}, {'name': 'Set4_Spirit', 'num_units': 2, 'style': 1, 'tier_current': 1, 'tier_total': 2}], 'units': [{'character_id': 'TFT4_Jax', 'items': [27, 35, 79], 'name': '', 'rarity': 1, 'tier': 2}, {'character_id': 'TFT4_Irelia', 'items': [], 'name': '', 'rarity': 2, 'tier': 2}, {'character_id': 'TFT4_Yuumi', 'items': [], 'name': '', 'rarity': 2, 'tier': 2}, {'character_id': 'TFT4_Kindred', 'items': [18], 'name': '', 'rarity': 2, 'tier': 2}, {'character_id': 'TFT4_Warwick', 'items': [26, 33, 29], 'name': '', 'rarity': 3, 'tier': 2}, {'character_id': 'TFT4_Ashe', 'items': [49, 18, 23], 'name': '', 'rarity': 3, 'tier': 2}, {'character_id': 'TFT4_Shen', 'chosen': 'Set4_Adept', 'items': [57], 'name': '', 'rarity': 3, 'tier': 2}, {'character_id': 'TFT4_LeeSin', 'items': [], 'name': '', 'rarity': 4, 'tier': 1}]}, {'companion': {'content_ID': '969b1b5f-3e5d-44fd-bfa3-1aa798c4b73a', 'skin_ID': 20, 'species': 'PetGhosty'}, 'gold_left': 1, 'last_round': 35, 'level': 8, 'placement': 1, 'players_eliminated': 3, 'puuid': 'BsTuu6EscV1ofuNOBzBIQMaYOaglXrAumTmjGWKq8CdcU3cmSxZczwcntma8eimh14JpYnVDm-6Rkg', 'time_eliminated': 2044.4974365234375, 'total_damage_to_players': 199, 'traits': [{'name': 'Dusk', 'num_units': 3, 'style': 1, 'tier_current': 1, 'tier_total': 3}, {'name': 'Fortune', 'num_units': 1, 'style': 0, 'tier_current': 0, 'tier_total': 2}, {'name': 'Set4_Adept', 'num_units': 1, 'style': 0, 'tier_current': 0, 'tier_total': 3}, {'name': 'Set4_Enlightened', 'num_units': 1, 'style': 0, 'tier_current': 0, 'tier_total': 3}, {'name': 'Set4_Mage', 'num_units': 3, 'style': 1, 'tier_current': 1, 'tier_total': 3}, {'name': 'Set4_Mystic', 'num_units': 4, 'style': 3, 'tier_current': 2, 'tier_total': 3}, {'name': 'Set4_Ninja', 'num_units': 1, 'style': 1, 'tier_current': 1, 'tier_total': 2}, {'name': 'Set4_Spirit', 'num_units': 2, 'style': 1, 'tier_current': 1, 'tier_total': 2}, {'name': 'Set4_Vanguard', 'num_units': 3, 'style': 1, 'tier_current': 1, 'tier_total': 4}], 'units': [{'character_id': 'TFT4_Janna', 'items': [46, 48], 'name': '', 'rarity': 1, 'tier': 2}, {'character_id': 'TFT4_Thresh', 'items': [], 'name': '', 'rarity': 1, 'tier': 2}, {'character_id': 'TFT4_Yuumi', 'items': [], 'name': '', 'rarity': 2, 'tier': 2}, {'character_id': 'TFT4_Ahri', 'items': [33, 14, 3], 'name': '', 'rarity': 3, 'tier': 2}, {'character_id': 'TFT4_Cassiopeia', 'items': [], 'name': '', 'rarity': 3, 'tier': 2}, {'character_id': 'TFT4_Sejuani', 'chosen': 'Set4_Vanguard', 'items': [36, 27, 56], 'name': '', 'rarity': 3, 'tier': 2}, {'character_id': 'TFT4_Shen', 'items': [], 'name': '', 'rarity': 3, 'tier': 2}, {'character_id': 'TFT4_Lillia', 'items': [45], 'name': '', 'rarity': 4, 'tier': 1}]}, {'companion': {'content_ID': '6166ada4-50c8-4b63-90ad-847f6f24cc08', 'skin_ID': 7, 'species': 'PetPenguKnight'}, 'gold_left': 1, 'last_round': 33, 'level': 8, 'placement': 4, 'players_eliminated': 0, 'puuid': 'idjfj6nouxMYDnkAbsUrzJyjYVcfMu7BkLKAtVXIZGsdTdU-22sevGQEqLJmYa8AgE3jcfi0oACcmQ', 'time_eliminated': 1921.84619140625, 'total_damage_to_players': 79, 'traits': [{'name': 'Boss', 'num_units': 1, 'style': 3, 'tier_current': 1, 'tier_total': 1}, {'name': 'Cultist', 'num_units': 1, 'style': 0, 'tier_current': 0, 'tier_total': 3}, {'name': 'Dusk', 'num_units': 2, 'style': 1, 'tier_current': 1, 'tier_total': 3}, {'name': 'Emperor', 'num_units': 1, 'style': 3, 'tier_current': 1, 'tier_total': 1}, {'name': 'Fortune', 'num_units': 1, 'style': 0, 'tier_current': 0, 'tier_total': 2}, {'name': 'Keeper', 'num_units': 4, 'style': 3, 'tier_current': 2, 'tier_total': 3}, {'name': 'Set4_Assassin', 'num_units': 4, 'style': 3, 'tier_current': 2, 'tier_total': 3}, {'name': 'Set4_Brawler', 'num_units': 1, 'style': 0, 'tier_current': 0, 'tier_total': 4}, {'name': 'Set4_Enlightened', 'num_units': 1, 'style': 0, 'tier_current': 0, 'tier_total': 3}, {'name': 'Set4_Ninja', 'num_units': 1, 'style': 1, 'tier_current': 1, 'tier_total': 2}, {'name': 'Warlord', 'num_units': 3, 'style': 1, 'tier_current': 1, 'tier_total': 3}], 'units': [{'character_id': 'TFT4_JarvanIV', 'items': [57, 11, 14], 'name': '', 'rarity': 1, 'tier': 2}, {'character_id': 'TFT4_Pyke', 'items': [56, 38], 'name': '', 'rarity': 1, 'tier': 2}, {'character_id': 'TFT4_Kennen', 'items': [15, 39], 'name': '', 'rarity': 2, 'tier': 2}, {'character_id': 'TFT4_Katarina', 'items': [69, 35], 'name': '', 'rarity': 2, 'tier': 2}, {'character_id': 'TFT4_Riven', 'items': [], 'name': '', 'rarity': 3, 'tier': 1}, {'character_id': 'TFT4_Talon', 'chosen': 'Set4_Assassin', 'items': [], 'name': '', 'rarity': 3, 'tier': 2}, {'character_id': 'TFT4_Sett', 'items': [33, 13, 69], 'name': '', 'rarity': 4, 'tier': 2}, {'character_id': 'TFT4_Azir', 'items': [], 'name': '', 'rarity': 4, 'tier': 1}]}], 'queue_id': 1100, 'tft_set_number': 4}}\n"
     ]
    }
   ],
   "source": [
    "print(response_search_match_info_dict)"
   ]
  },
  {
   "cell_type": "code",
   "execution_count": 23,
   "metadata": {},
   "outputs": [
    {
     "name": "stdout",
     "output_type": "stream",
     "text": [
      "{'info': {'game_datetime': 1603498465558,\n",
      "          'game_length': 2052.78662109375,\n",
      "          'game_version': 'Version 10.21.339.2173 (Oct 09 2020/15:54:03) '\n",
      "                          '[PUBLIC] <Releases/10.21>',\n",
      "          'participants': [{'companion': {'content_ID': '64691b63-1603-443e-bde5-727148f440ed',\n",
      "                                          'skin_ID': 4,\n",
      "                                          'species': 'PetMiner'},\n",
      "                            'gold_left': 1,\n",
      "                            'last_round': 35,\n",
      "                            'level': 8,\n",
      "                            'placement': 2,\n",
      "                            'players_eliminated': 0,\n",
      "                            'puuid': 'pLp88KkYvcbTnKevXUb33CMol_eJSWq4xHjgINLW5iegO3Wtg0sUSy6LSJe44HQasMW90D_90-4C3w',\n",
      "                            'time_eliminated': 2044.4974365234375,\n",
      "                            'total_damage_to_players': 122,\n",
      "                            'traits': [{'name': 'Cultist',\n",
      "                                        'num_units': 2,\n",
      "                                        'style': 0,\n",
      "                                        'tier_current': 0,\n",
      "                                        'tier_total': 3},\n",
      "                                       {'name': 'Fortune',\n",
      "                                        'num_units': 1,\n",
      "                                        'style': 0,\n",
      "                                        'tier_current': 0,\n",
      "                                        'tier_total': 2},\n",
      "                                       {'name': 'Keeper',\n",
      "                                        'num_units': 1,\n",
      "                                        'style': 0,\n",
      "                                        'tier_current': 0,\n",
      "                                        'tier_total': 3},\n",
      "                                       {'name': 'Set4_Adept',\n",
      "                                        'num_units': 1,\n",
      "                                        'style': 0,\n",
      "                                        'tier_current': 0,\n",
      "                                        'tier_total': 3},\n",
      "                                       {'name': 'Set4_Assassin',\n",
      "                                        'num_units': 4,\n",
      "                                        'style': 3,\n",
      "                                        'tier_current': 2,\n",
      "                                        'tier_total': 3},\n",
      "                                       {'name': 'Set4_Mystic',\n",
      "                                        'num_units': 1,\n",
      "                                        'style': 0,\n",
      "                                        'tier_current': 0,\n",
      "                                        'tier_total': 3},\n",
      "                                       {'name': 'Set4_Ninja',\n",
      "                                        'num_units': 4,\n",
      "                                        'style': 3,\n",
      "                                        'tier_current': 2,\n",
      "                                        'tier_total': 2},\n",
      "                                       {'name': 'Set4_Shade',\n",
      "                                        'num_units': 3,\n",
      "                                        'style': 3,\n",
      "                                        'tier_current': 2,\n",
      "                                        'tier_total': 3},\n",
      "                                       {'name': 'Set4_Tormented',\n",
      "                                        'num_units': 1,\n",
      "                                        'style': 3,\n",
      "                                        'tier_current': 1,\n",
      "                                        'tier_total': 1},\n",
      "                                       {'name': 'Warlord',\n",
      "                                        'num_units': 2,\n",
      "                                        'style': 0,\n",
      "                                        'tier_current': 0,\n",
      "                                        'tier_total': 3}],\n",
      "                            'units': [{'character_id': 'TFT4_Zed',\n",
      "                                       'items': [],\n",
      "                                       'name': '',\n",
      "                                       'rarity': 1,\n",
      "                                       'tier': 2},\n",
      "                                      {'character_id': 'TFT4_Pyke',\n",
      "                                       'items': [],\n",
      "                                       'name': '',\n",
      "                                       'rarity': 1,\n",
      "                                       'tier': 1},\n",
      "                                      {'character_id': 'TFT4_Akali',\n",
      "                                       'chosen': 'Set4_Assassin',\n",
      "                                       'items': [22, 19, 44],\n",
      "                                       'name': '',\n",
      "                                       'rarity': 2,\n",
      "                                       'tier': 3},\n",
      "                                      {'character_id': 'TFT4_Kennen',\n",
      "                                       'items': [35, 78],\n",
      "                                       'name': '',\n",
      "                                       'rarity': 2,\n",
      "                                       'tier': 2},\n",
      "                                      {'character_id': 'TFT4_Katarina',\n",
      "                                       'items': [45, 69, 13],\n",
      "                                       'name': '',\n",
      "                                       'rarity': 2,\n",
      "                                       'tier': 2},\n",
      "                                      {'character_id': 'TFT4_Evelynn',\n",
      "                                       'items': [47],\n",
      "                                       'name': '',\n",
      "                                       'rarity': 2,\n",
      "                                       'tier': 2},\n",
      "                                      {'character_id': 'TFT4_Shen',\n",
      "                                       'items': [25],\n",
      "                                       'name': '',\n",
      "                                       'rarity': 3,\n",
      "                                       'tier': 2},\n",
      "                                      {'character_id': 'TFT4_Kayn',\n",
      "                                       'items': [],\n",
      "                                       'name': '',\n",
      "                                       'rarity': 4,\n",
      "                                       'tier': 1}]},\n",
      "                           {'companion': {'content_ID': '89c0c2b7-fa70-434f-8a33-1a9256894d71',\n",
      "                                          'skin_ID': 15,\n",
      "                                          'species': 'PetAkaliDragon'},\n",
      "                            'gold_left': 8,\n",
      "                            'last_round': 30,\n",
      "                            'level': 8,\n",
      "                            'placement': 8,\n",
      "                            'players_eliminated': 0,\n",
      "                            'puuid': 'OmFkLrQBN-xs0haPk5ooh-g2Of5Or7nqyQlEh0G7ed2fTVYErqbfylYYKu7PHSMGWQ0jSluxKC3hFw',\n",
      "                            'time_eliminated': 1733.4749755859375,\n",
      "                            'total_damage_to_players': 76,\n",
      "                            'traits': [{'name': 'Cultist',\n",
      "                                        'num_units': 2,\n",
      "                                        'style': 0,\n",
      "                                        'tier_current': 0,\n",
      "                                        'tier_total': 3},\n",
      "                                       {'name': 'Dusk',\n",
      "                                        'num_units': 2,\n",
      "                                        'style': 1,\n",
      "                                        'tier_current': 1,\n",
      "                                        'tier_total': 3},\n",
      "                                       {'name': 'Fortune',\n",
      "                                        'num_units': 1,\n",
      "                                        'style': 0,\n",
      "                                        'tier_current': 0,\n",
      "                                        'tier_total': 2},\n",
      "                                       {'name': 'Set4_Adept',\n",
      "                                        'num_units': 1,\n",
      "                                        'style': 0,\n",
      "                                        'tier_current': 0,\n",
      "                                        'tier_total': 3},\n",
      "                                       {'name': 'Set4_Enlightened',\n",
      "                                        'num_units': 1,\n",
      "                                        'style': 0,\n",
      "                                        'tier_current': 0,\n",
      "                                        'tier_total': 3},\n",
      "                                       {'name': 'Set4_Mage',\n",
      "                                        'num_units': 2,\n",
      "                                        'style': 0,\n",
      "                                        'tier_current': 0,\n",
      "                                        'tier_total': 3},\n",
      "                                       {'name': 'Set4_Mystic',\n",
      "                                        'num_units': 4,\n",
      "                                        'style': 3,\n",
      "                                        'tier_current': 2,\n",
      "                                        'tier_total': 3},\n",
      "                                       {'name': 'Set4_Ninja',\n",
      "                                        'num_units': 1,\n",
      "                                        'style': 1,\n",
      "                                        'tier_current': 1,\n",
      "                                        'tier_total': 2},\n",
      "                                       {'name': 'Set4_Spirit',\n",
      "                                        'num_units': 1,\n",
      "                                        'style': 0,\n",
      "                                        'tier_current': 0,\n",
      "                                        'tier_total': 2},\n",
      "                                       {'name': 'Set4_Vanguard',\n",
      "                                        'num_units': 3,\n",
      "                                        'style': 1,\n",
      "                                        'tier_current': 1,\n",
      "                                        'tier_total': 4}],\n",
      "                            'units': [{'character_id': 'TFT4_Janna',\n",
      "                                       'items': [],\n",
      "                                       'name': '',\n",
      "                                       'rarity': 1,\n",
      "                                       'tier': 2},\n",
      "                                      {'character_id': 'TFT4_Thresh',\n",
      "                                       'items': [],\n",
      "                                       'name': '',\n",
      "                                       'rarity': 1,\n",
      "                                       'tier': 2},\n",
      "                                      {'character_id': 'TFT4_Aatrox',\n",
      "                                       'items': [],\n",
      "                                       'name': '',\n",
      "                                       'rarity': 3,\n",
      "                                       'tier': 2},\n",
      "                                      {'character_id': 'TFT4_Ahri',\n",
      "                                       'chosen': 'Set4_Mage',\n",
      "                                       'items': [39, 39],\n",
      "                                       'name': '',\n",
      "                                       'rarity': 3,\n",
      "                                       'tier': 2},\n",
      "                                      {'character_id': 'TFT4_Cassiopeia',\n",
      "                                       'items': [],\n",
      "                                       'name': '',\n",
      "                                       'rarity': 3,\n",
      "                                       'tier': 1},\n",
      "                                      {'character_id': 'TFT4_Sejuani',\n",
      "                                       'items': [25, 36, 25],\n",
      "                                       'name': '',\n",
      "                                       'rarity': 3,\n",
      "                                       'tier': 2},\n",
      "                                      {'character_id': 'TFT4_Shen',\n",
      "                                       'items': [59],\n",
      "                                       'name': '',\n",
      "                                       'rarity': 3,\n",
      "                                       'tier': 1},\n",
      "                                      {'character_id': 'TFT4_Zilean',\n",
      "                                       'items': [],\n",
      "                                       'name': '',\n",
      "                                       'rarity': 4,\n",
      "                                       'tier': 1}]},\n",
      "                           {'companion': {'content_ID': 'd66207bf-7aeb-4727-9583-da16ca48e9cb',\n",
      "                                          'skin_ID': 7,\n",
      "                                          'species': 'PetSGCat'},\n",
      "                            'gold_left': 0,\n",
      "                            'last_round': 31,\n",
      "                            'level': 8,\n",
      "                            'placement': 5,\n",
      "                            'players_eliminated': 0,\n",
      "                            'puuid': 'JzKl_pACMSDQ_bY38GvOAdCu62yAnU9AUyiTnwJThphb5X4HmLC0GiV7LP9zxXItY139Eri1blg3aw',\n",
      "                            'time_eliminated': 1803.9434814453125,\n",
      "                            'total_damage_to_players': 51,\n",
      "                            'traits': [{'name': 'Cultist',\n",
      "                                        'num_units': 2,\n",
      "                                        'style': 0,\n",
      "                                        'tier_current': 0,\n",
      "                                        'tier_total': 3},\n",
      "                                       {'name': 'Dusk',\n",
      "                                        'num_units': 4,\n",
      "                                        'style': 3,\n",
      "                                        'tier_current': 2,\n",
      "                                        'tier_total': 3},\n",
      "                                       {'name': 'Fortune',\n",
      "                                        'num_units': 1,\n",
      "                                        'style': 0,\n",
      "                                        'tier_current': 0,\n",
      "                                        'tier_total': 2},\n",
      "                                       {'name': 'Set4_Mystic',\n",
      "                                        'num_units': 2,\n",
      "                                        'style': 1,\n",
      "                                        'tier_current': 1,\n",
      "                                        'tier_total': 3},\n",
      "                                       {'name': 'Set4_Spirit',\n",
      "                                        'num_units': 2,\n",
      "                                        'style': 1,\n",
      "                                        'tier_current': 1,\n",
      "                                        'tier_total': 2},\n",
      "                                       {'name': 'Set4_Vanguard',\n",
      "                                        'num_units': 2,\n",
      "                                        'style': 1,\n",
      "                                        'tier_current': 1,\n",
      "                                        'tier_total': 4},\n",
      "                                       {'name': 'Sharpshooter',\n",
      "                                        'num_units': 4,\n",
      "                                        'style': 3,\n",
      "                                        'tier_current': 2,\n",
      "                                        'tier_total': 3}],\n",
      "                            'units': [{'character_id': 'TFT4_Vayne',\n",
      "                                       'chosen': 'Dusk',\n",
      "                                       'items': [23, 15, 16],\n",
      "                                       'name': '',\n",
      "                                       'rarity': 0,\n",
      "                                       'tier': 3},\n",
      "                                      {'character_id': 'TFT4_Teemo',\n",
      "                                       'items': [34],\n",
      "                                       'name': '',\n",
      "                                       'rarity': 1,\n",
      "                                       'tier': 2},\n",
      "                                      {'character_id': 'TFT4_Thresh',\n",
      "                                       'items': [],\n",
      "                                       'name': '',\n",
      "                                       'rarity': 1,\n",
      "                                       'tier': 2},\n",
      "                                      {'character_id': 'TFT4_Yuumi',\n",
      "                                       'items': [],\n",
      "                                       'name': '',\n",
      "                                       'rarity': 2,\n",
      "                                       'tier': 2},\n",
      "                                      {'character_id': 'TFT4_Jinx',\n",
      "                                       'items': [],\n",
      "                                       'name': '',\n",
      "                                       'rarity': 2,\n",
      "                                       'tier': 1},\n",
      "                                      {'character_id': 'TFT4_Aatrox',\n",
      "                                       'items': [57],\n",
      "                                       'name': '',\n",
      "                                       'rarity': 3,\n",
      "                                       'tier': 2},\n",
      "                                      {'character_id': 'TFT4_Cassiopeia',\n",
      "                                       'items': [7],\n",
      "                                       'name': '',\n",
      "                                       'rarity': 3,\n",
      "                                       'tier': 1},\n",
      "                                      {'character_id': 'TFT4_Jhin',\n",
      "                                       'items': [16, 15],\n",
      "                                       'name': '',\n",
      "                                       'rarity': 3,\n",
      "                                       'tier': 2}]},\n",
      "                           {'companion': {'content_ID': '879354f5-f2a9-41f6-b493-38287a0a7b0e',\n",
      "                                          'skin_ID': 7,\n",
      "                                          'species': 'PetChoncc'},\n",
      "                            'gold_left': 1,\n",
      "                            'last_round': 31,\n",
      "                            'level': 8,\n",
      "                            'placement': 7,\n",
      "                            'players_eliminated': 0,\n",
      "                            'puuid': 'ARzZ8ZIsfhefpafFh9gvDLXbpA6Ws30QDbmhoUs8K6xsw1GGVmhEHwWCuUw7TQ5a5cjU15p9VX7XWQ',\n",
      "                            'time_eliminated': 1813.9998779296875,\n",
      "                            'total_damage_to_players': 58,\n",
      "                            'traits': [{'name': 'Cultist',\n",
      "                                        'num_units': 1,\n",
      "                                        'style': 0,\n",
      "                                        'tier_current': 0,\n",
      "                                        'tier_total': 3},\n",
      "                                       {'name': 'Divine',\n",
      "                                        'num_units': 5,\n",
      "                                        'style': 2,\n",
      "                                        'tier_current': 2,\n",
      "                                        'tier_total': 4},\n",
      "                                       {'name': 'Duelist',\n",
      "                                        'num_units': 1,\n",
      "                                        'style': 0,\n",
      "                                        'tier_current': 0,\n",
      "                                        'tier_total': 4},\n",
      "                                       {'name': 'Fortune',\n",
      "                                        'num_units': 1,\n",
      "                                        'style': 0,\n",
      "                                        'tier_current': 0,\n",
      "                                        'tier_total': 2},\n",
      "                                       {'name': 'Hunter',\n",
      "                                        'num_units': 2,\n",
      "                                        'style': 1,\n",
      "                                        'tier_current': 1,\n",
      "                                        'tier_total': 4},\n",
      "                                       {'name': 'Set4_Adept',\n",
      "                                        'num_units': 1,\n",
      "                                        'style': 0,\n",
      "                                        'tier_current': 0,\n",
      "                                        'tier_total': 3},\n",
      "                                       {'name': 'Set4_Brawler',\n",
      "                                        'num_units': 1,\n",
      "                                        'style': 0,\n",
      "                                        'tier_current': 0,\n",
      "                                        'tier_total': 4},\n",
      "                                       {'name': 'Set4_Dazzler',\n",
      "                                        'num_units': 1,\n",
      "                                        'style': 0,\n",
      "                                        'tier_current': 0,\n",
      "                                        'tier_total': 2},\n",
      "                                       {'name': 'Set4_Elderwood',\n",
      "                                        'num_units': 1,\n",
      "                                        'style': 0,\n",
      "                                        'tier_current': 0,\n",
      "                                        'tier_total': 3},\n",
      "                                       {'name': 'Set4_Enlightened',\n",
      "                                        'num_units': 1,\n",
      "                                        'style': 0,\n",
      "                                        'tier_current': 0,\n",
      "                                        'tier_total': 3},\n",
      "                                       {'name': 'Set4_Vanguard',\n",
      "                                        'num_units': 4,\n",
      "                                        'style': 2,\n",
      "                                        'tier_current': 2,\n",
      "                                        'tier_total': 4}],\n",
      "                            'units': [{'character_id': 'TFT4_Wukong',\n",
      "                                       'items': [],\n",
      "                                       'name': '',\n",
      "                                       'rarity': 0,\n",
      "                                       'tier': 2},\n",
      "                                      {'character_id': 'TFT4_Hecarim',\n",
      "                                       'items': [],\n",
      "                                       'name': '',\n",
      "                                       'rarity': 1,\n",
      "                                       'tier': 2},\n",
      "                                      {'character_id': 'TFT4_Jax',\n",
      "                                       'items': [],\n",
      "                                       'name': '',\n",
      "                                       'rarity': 1,\n",
      "                                       'tier': 2},\n",
      "                                      {'character_id': 'TFT4_Irelia',\n",
      "                                       'items': [45],\n",
      "                                       'name': '',\n",
      "                                       'rarity': 2,\n",
      "                                       'tier': 2},\n",
      "                                      {'character_id': 'TFT4_Lux',\n",
      "                                       'items': [],\n",
      "                                       'name': '',\n",
      "                                       'rarity': 2,\n",
      "                                       'tier': 2},\n",
      "                                      {'character_id': 'TFT4_Aatrox',\n",
      "                                       'items': [],\n",
      "                                       'name': '',\n",
      "                                       'rarity': 3,\n",
      "                                       'tier': 2},\n",
      "                                      {'character_id': 'TFT4_Warwick',\n",
      "                                       'chosen': 'Hunter',\n",
      "                                       'items': [24, 24, 69],\n",
      "                                       'name': '',\n",
      "                                       'rarity': 3,\n",
      "                                       'tier': 2},\n",
      "                                      {'character_id': 'TFT4_Sejuani',\n",
      "                                       'items': [14, 35, 36],\n",
      "                                       'name': '',\n",
      "                                       'rarity': 3,\n",
      "                                       'tier': 2}]},\n",
      "                           {'companion': {'content_ID': '969b1b5f-3e5d-44fd-bfa3-1aa798c4b73a',\n",
      "                                          'skin_ID': 20,\n",
      "                                          'species': 'PetGhosty'},\n",
      "                            'gold_left': 2,\n",
      "                            'last_round': 31,\n",
      "                            'level': 8,\n",
      "                            'placement': 6,\n",
      "                            'players_eliminated': 0,\n",
      "                            'puuid': '_ILPMfKQrbeIN6auqksi_ajKmXaiLqeSQyvZlAOycAGqlLzN8XlpmiMvIUfJ_8lx1Ag8ZE7lEOKIDA',\n",
      "                            'time_eliminated': 1807.47607421875,\n",
      "                            'total_damage_to_players': 79,\n",
      "                            'traits': [{'name': 'Boss',\n",
      "                                        'num_units': 1,\n",
      "                                        'style': 3,\n",
      "                                        'tier_current': 1,\n",
      "                                        'tier_total': 1},\n",
      "                                       {'name': 'Divine',\n",
      "                                        'num_units': 1,\n",
      "                                        'style': 0,\n",
      "                                        'tier_current': 0,\n",
      "                                        'tier_total': 4},\n",
      "                                       {'name': 'Fortune',\n",
      "                                        'num_units': 1,\n",
      "                                        'style': 0,\n",
      "                                        'tier_current': 0,\n",
      "                                        'tier_total': 2},\n",
      "                                       {'name': 'Hunter',\n",
      "                                        'num_units': 2,\n",
      "                                        'style': 1,\n",
      "                                        'tier_current': 1,\n",
      "                                        'tier_total': 4},\n",
      "                                       {'name': 'Moonlight',\n",
      "                                        'num_units': 1,\n",
      "                                        'style': 0,\n",
      "                                        'tier_current': 0,\n",
      "                                        'tier_total': 2},\n",
      "                                       {'name': 'Set4_Brawler',\n",
      "                                        'num_units': 8,\n",
      "                                        'style': 4,\n",
      "                                        'tier_current': 4,\n",
      "                                        'tier_total': 4},\n",
      "                                       {'name': 'Set4_Elderwood',\n",
      "                                        'num_units': 3,\n",
      "                                        'style': 1,\n",
      "                                        'tier_current': 1,\n",
      "                                        'tier_total': 3},\n",
      "                                       {'name': 'Warlord',\n",
      "                                        'num_units': 1,\n",
      "                                        'style': 0,\n",
      "                                        'tier_current': 0,\n",
      "                                        'tier_total': 3}],\n",
      "                            'units': [{'character_id': 'TFT4_Maokai',\n",
      "                                       'items': [],\n",
      "                                       'name': '',\n",
      "                                       'rarity': 0,\n",
      "                                       'tier': 2},\n",
      "                                      {'character_id': 'TFT4_TahmKench',\n",
      "                                       'items': [],\n",
      "                                       'name': '',\n",
      "                                       'rarity': 0,\n",
      "                                       'tier': 2},\n",
      "                                      {'character_id': 'TFT4_Sylas',\n",
      "                                       'items': [],\n",
      "                                       'name': '',\n",
      "                                       'rarity': 1,\n",
      "                                       'tier': 1},\n",
      "                                      {'character_id': 'TFT4_Vi',\n",
      "                                       'items': [67],\n",
      "                                       'name': '',\n",
      "                                       'rarity': 1,\n",
      "                                       'tier': 2},\n",
      "                                      {'character_id': 'TFT4_Nunu',\n",
      "                                       'chosen': 'Set4_Brawler',\n",
      "                                       'items': [13, 77, 24],\n",
      "                                       'name': '',\n",
      "                                       'rarity': 2,\n",
      "                                       'tier': 3},\n",
      "                                      {'character_id': 'TFT4_Warwick',\n",
      "                                       'items': [],\n",
      "                                       'name': '',\n",
      "                                       'rarity': 3,\n",
      "                                       'tier': 1},\n",
      "                                      {'character_id': 'TFT4_Ashe',\n",
      "                                       'items': [23, 69, 29],\n",
      "                                       'name': '',\n",
      "                                       'rarity': 3,\n",
      "                                       'tier': 1},\n",
      "                                      {'character_id': 'TFT4_Sett',\n",
      "                                       'items': [],\n",
      "                                       'name': '',\n",
      "                                       'rarity': 4,\n",
      "                                       'tier': 1}]},\n",
      "                           {'companion': {'content_ID': 'ce633db0-0a20-4eeb-8154-cd176675d4f1',\n",
      "                                          'skin_ID': 14,\n",
      "                                          'species': 'PetAkaliDragon'},\n",
      "                            'gold_left': 22,\n",
      "                            'last_round': 34,\n",
      "                            'level': 8,\n",
      "                            'placement': 3,\n",
      "                            'players_eliminated': 2,\n",
      "                            'puuid': 'ZgaJ0EurUEW_InpChbfGMZt6Oda24huCDe1deMX70ltmvMjQaARxoYnPv8JDi9xQGLRCOj20Rfn2Rw',\n",
      "                            'time_eliminated': 1991.2718505859375,\n",
      "                            'total_damage_to_players': 119,\n",
      "                            'traits': [{'name': 'Divine',\n",
      "                                        'num_units': 6,\n",
      "                                        'style': 3,\n",
      "                                        'tier_current': 3,\n",
      "                                        'tier_total': 4},\n",
      "                                       {'name': 'Duelist',\n",
      "                                        'num_units': 2,\n",
      "                                        'style': 1,\n",
      "                                        'tier_current': 1,\n",
      "                                        'tier_total': 4},\n",
      "                                       {'name': 'Hunter',\n",
      "                                        'num_units': 3,\n",
      "                                        'style': 2,\n",
      "                                        'tier_current': 2,\n",
      "                                        'tier_total': 4},\n",
      "                                       {'name': 'Set4_Adept',\n",
      "                                        'num_units': 3,\n",
      "                                        'style': 3,\n",
      "                                        'tier_current': 2,\n",
      "                                        'tier_total': 3},\n",
      "                                       {'name': 'Set4_Brawler',\n",
      "                                        'num_units': 1,\n",
      "                                        'style': 0,\n",
      "                                        'tier_current': 0,\n",
      "                                        'tier_total': 4},\n",
      "                                       {'name': 'Set4_Elderwood',\n",
      "                                        'num_units': 1,\n",
      "                                        'style': 0,\n",
      "                                        'tier_current': 0,\n",
      "                                        'tier_total': 3},\n",
      "                                       {'name': 'Set4_Enlightened',\n",
      "                                        'num_units': 1,\n",
      "                                        'style': 0,\n",
      "                                        'tier_current': 0,\n",
      "                                        'tier_total': 3},\n",
      "                                       {'name': 'Set4_Mystic',\n",
      "                                        'num_units': 2,\n",
      "                                        'style': 1,\n",
      "                                        'tier_current': 1,\n",
      "                                        'tier_total': 3},\n",
      "                                       {'name': 'Set4_Ninja',\n",
      "                                        'num_units': 1,\n",
      "                                        'style': 1,\n",
      "                                        'tier_current': 1,\n",
      "                                        'tier_total': 2},\n",
      "                                       {'name': 'Set4_Spirit',\n",
      "                                        'num_units': 2,\n",
      "                                        'style': 1,\n",
      "                                        'tier_current': 1,\n",
      "                                        'tier_total': 2}],\n",
      "                            'units': [{'character_id': 'TFT4_Jax',\n",
      "                                       'items': [27, 35, 79],\n",
      "                                       'name': '',\n",
      "                                       'rarity': 1,\n",
      "                                       'tier': 2},\n",
      "                                      {'character_id': 'TFT4_Irelia',\n",
      "                                       'items': [],\n",
      "                                       'name': '',\n",
      "                                       'rarity': 2,\n",
      "                                       'tier': 2},\n",
      "                                      {'character_id': 'TFT4_Yuumi',\n",
      "                                       'items': [],\n",
      "                                       'name': '',\n",
      "                                       'rarity': 2,\n",
      "                                       'tier': 2},\n",
      "                                      {'character_id': 'TFT4_Kindred',\n",
      "                                       'items': [18],\n",
      "                                       'name': '',\n",
      "                                       'rarity': 2,\n",
      "                                       'tier': 2},\n",
      "                                      {'character_id': 'TFT4_Warwick',\n",
      "                                       'items': [26, 33, 29],\n",
      "                                       'name': '',\n",
      "                                       'rarity': 3,\n",
      "                                       'tier': 2},\n",
      "                                      {'character_id': 'TFT4_Ashe',\n",
      "                                       'items': [49, 18, 23],\n",
      "                                       'name': '',\n",
      "                                       'rarity': 3,\n",
      "                                       'tier': 2},\n",
      "                                      {'character_id': 'TFT4_Shen',\n",
      "                                       'chosen': 'Set4_Adept',\n",
      "                                       'items': [57],\n",
      "                                       'name': '',\n",
      "                                       'rarity': 3,\n",
      "                                       'tier': 2},\n",
      "                                      {'character_id': 'TFT4_LeeSin',\n",
      "                                       'items': [],\n",
      "                                       'name': '',\n",
      "                                       'rarity': 4,\n",
      "                                       'tier': 1}]},\n",
      "                           {'companion': {'content_ID': '969b1b5f-3e5d-44fd-bfa3-1aa798c4b73a',\n",
      "                                          'skin_ID': 20,\n",
      "                                          'species': 'PetGhosty'},\n",
      "                            'gold_left': 1,\n",
      "                            'last_round': 35,\n",
      "                            'level': 8,\n",
      "                            'placement': 1,\n",
      "                            'players_eliminated': 3,\n",
      "                            'puuid': 'BsTuu6EscV1ofuNOBzBIQMaYOaglXrAumTmjGWKq8CdcU3cmSxZczwcntma8eimh14JpYnVDm-6Rkg',\n",
      "                            'time_eliminated': 2044.4974365234375,\n",
      "                            'total_damage_to_players': 199,\n",
      "                            'traits': [{'name': 'Dusk',\n",
      "                                        'num_units': 3,\n",
      "                                        'style': 1,\n",
      "                                        'tier_current': 1,\n",
      "                                        'tier_total': 3},\n",
      "                                       {'name': 'Fortune',\n",
      "                                        'num_units': 1,\n",
      "                                        'style': 0,\n",
      "                                        'tier_current': 0,\n",
      "                                        'tier_total': 2},\n",
      "                                       {'name': 'Set4_Adept',\n",
      "                                        'num_units': 1,\n",
      "                                        'style': 0,\n",
      "                                        'tier_current': 0,\n",
      "                                        'tier_total': 3},\n",
      "                                       {'name': 'Set4_Enlightened',\n",
      "                                        'num_units': 1,\n",
      "                                        'style': 0,\n",
      "                                        'tier_current': 0,\n",
      "                                        'tier_total': 3},\n",
      "                                       {'name': 'Set4_Mage',\n",
      "                                        'num_units': 3,\n",
      "                                        'style': 1,\n",
      "                                        'tier_current': 1,\n",
      "                                        'tier_total': 3},\n",
      "                                       {'name': 'Set4_Mystic',\n",
      "                                        'num_units': 4,\n",
      "                                        'style': 3,\n",
      "                                        'tier_current': 2,\n",
      "                                        'tier_total': 3},\n",
      "                                       {'name': 'Set4_Ninja',\n",
      "                                        'num_units': 1,\n",
      "                                        'style': 1,\n",
      "                                        'tier_current': 1,\n",
      "                                        'tier_total': 2},\n",
      "                                       {'name': 'Set4_Spirit',\n",
      "                                        'num_units': 2,\n",
      "                                        'style': 1,\n",
      "                                        'tier_current': 1,\n",
      "                                        'tier_total': 2},\n",
      "                                       {'name': 'Set4_Vanguard',\n",
      "                                        'num_units': 3,\n",
      "                                        'style': 1,\n",
      "                                        'tier_current': 1,\n",
      "                                        'tier_total': 4}],\n",
      "                            'units': [{'character_id': 'TFT4_Janna',\n",
      "                                       'items': [46, 48],\n",
      "                                       'name': '',\n",
      "                                       'rarity': 1,\n",
      "                                       'tier': 2},\n",
      "                                      {'character_id': 'TFT4_Thresh',\n",
      "                                       'items': [],\n",
      "                                       'name': '',\n",
      "                                       'rarity': 1,\n",
      "                                       'tier': 2},\n",
      "                                      {'character_id': 'TFT4_Yuumi',\n",
      "                                       'items': [],\n",
      "                                       'name': '',\n",
      "                                       'rarity': 2,\n",
      "                                       'tier': 2},\n",
      "                                      {'character_id': 'TFT4_Ahri',\n",
      "                                       'items': [33, 14, 3],\n",
      "                                       'name': '',\n",
      "                                       'rarity': 3,\n",
      "                                       'tier': 2},\n",
      "                                      {'character_id': 'TFT4_Cassiopeia',\n",
      "                                       'items': [],\n",
      "                                       'name': '',\n",
      "                                       'rarity': 3,\n",
      "                                       'tier': 2},\n",
      "                                      {'character_id': 'TFT4_Sejuani',\n",
      "                                       'chosen': 'Set4_Vanguard',\n",
      "                                       'items': [36, 27, 56],\n",
      "                                       'name': '',\n",
      "                                       'rarity': 3,\n",
      "                                       'tier': 2},\n",
      "                                      {'character_id': 'TFT4_Shen',\n",
      "                                       'items': [],\n",
      "                                       'name': '',\n",
      "                                       'rarity': 3,\n",
      "                                       'tier': 2},\n",
      "                                      {'character_id': 'TFT4_Lillia',\n",
      "                                       'items': [45],\n",
      "                                       'name': '',\n",
      "                                       'rarity': 4,\n",
      "                                       'tier': 1}]},\n",
      "                           {'companion': {'content_ID': '6166ada4-50c8-4b63-90ad-847f6f24cc08',\n",
      "                                          'skin_ID': 7,\n",
      "                                          'species': 'PetPenguKnight'},\n",
      "                            'gold_left': 1,\n",
      "                            'last_round': 33,\n",
      "                            'level': 8,\n",
      "                            'placement': 4,\n",
      "                            'players_eliminated': 0,\n",
      "                            'puuid': 'idjfj6nouxMYDnkAbsUrzJyjYVcfMu7BkLKAtVXIZGsdTdU-22sevGQEqLJmYa8AgE3jcfi0oACcmQ',\n",
      "                            'time_eliminated': 1921.84619140625,\n",
      "                            'total_damage_to_players': 79,\n",
      "                            'traits': [{'name': 'Boss',\n",
      "                                        'num_units': 1,\n",
      "                                        'style': 3,\n",
      "                                        'tier_current': 1,\n",
      "                                        'tier_total': 1},\n",
      "                                       {'name': 'Cultist',\n",
      "                                        'num_units': 1,\n",
      "                                        'style': 0,\n",
      "                                        'tier_current': 0,\n",
      "                                        'tier_total': 3},\n",
      "                                       {'name': 'Dusk',\n",
      "                                        'num_units': 2,\n",
      "                                        'style': 1,\n",
      "                                        'tier_current': 1,\n",
      "                                        'tier_total': 3},\n",
      "                                       {'name': 'Emperor',\n",
      "                                        'num_units': 1,\n",
      "                                        'style': 3,\n",
      "                                        'tier_current': 1,\n",
      "                                        'tier_total': 1},\n",
      "                                       {'name': 'Fortune',\n",
      "                                        'num_units': 1,\n",
      "                                        'style': 0,\n",
      "                                        'tier_current': 0,\n",
      "                                        'tier_total': 2},\n",
      "                                       {'name': 'Keeper',\n",
      "                                        'num_units': 4,\n",
      "                                        'style': 3,\n",
      "                                        'tier_current': 2,\n",
      "                                        'tier_total': 3},\n",
      "                                       {'name': 'Set4_Assassin',\n",
      "                                        'num_units': 4,\n",
      "                                        'style': 3,\n",
      "                                        'tier_current': 2,\n",
      "                                        'tier_total': 3},\n",
      "                                       {'name': 'Set4_Brawler',\n",
      "                                        'num_units': 1,\n",
      "                                        'style': 0,\n",
      "                                        'tier_current': 0,\n",
      "                                        'tier_total': 4},\n",
      "                                       {'name': 'Set4_Enlightened',\n",
      "                                        'num_units': 1,\n",
      "                                        'style': 0,\n",
      "                                        'tier_current': 0,\n",
      "                                        'tier_total': 3},\n",
      "                                       {'name': 'Set4_Ninja',\n",
      "                                        'num_units': 1,\n",
      "                                        'style': 1,\n",
      "                                        'tier_current': 1,\n",
      "                                        'tier_total': 2},\n",
      "                                       {'name': 'Warlord',\n",
      "                                        'num_units': 3,\n",
      "                                        'style': 1,\n",
      "                                        'tier_current': 1,\n",
      "                                        'tier_total': 3}],\n",
      "                            'units': [{'character_id': 'TFT4_JarvanIV',\n",
      "                                       'items': [57, 11, 14],\n",
      "                                       'name': '',\n",
      "                                       'rarity': 1,\n",
      "                                       'tier': 2},\n",
      "                                      {'character_id': 'TFT4_Pyke',\n",
      "                                       'items': [56, 38],\n",
      "                                       'name': '',\n",
      "                                       'rarity': 1,\n",
      "                                       'tier': 2},\n",
      "                                      {'character_id': 'TFT4_Kennen',\n",
      "                                       'items': [15, 39],\n",
      "                                       'name': '',\n",
      "                                       'rarity': 2,\n",
      "                                       'tier': 2},\n",
      "                                      {'character_id': 'TFT4_Katarina',\n",
      "                                       'items': [69, 35],\n",
      "                                       'name': '',\n",
      "                                       'rarity': 2,\n",
      "                                       'tier': 2},\n",
      "                                      {'character_id': 'TFT4_Riven',\n",
      "                                       'items': [],\n",
      "                                       'name': '',\n",
      "                                       'rarity': 3,\n",
      "                                       'tier': 1},\n",
      "                                      {'character_id': 'TFT4_Talon',\n",
      "                                       'chosen': 'Set4_Assassin',\n",
      "                                       'items': [],\n",
      "                                       'name': '',\n",
      "                                       'rarity': 3,\n",
      "                                       'tier': 2},\n",
      "                                      {'character_id': 'TFT4_Sett',\n",
      "                                       'items': [33, 13, 69],\n",
      "                                       'name': '',\n",
      "                                       'rarity': 4,\n",
      "                                       'tier': 2},\n",
      "                                      {'character_id': 'TFT4_Azir',\n",
      "                                       'items': [],\n",
      "                                       'name': '',\n",
      "                                       'rarity': 4,\n",
      "                                       'tier': 1}]}],\n",
      "          'queue_id': 1100,\n",
      "          'tft_set_number': 4},\n",
      " 'metadata': {'data_version': '5',\n",
      "              'match_id': 'NA1_3630152875',\n",
      "              'participants': ['pLp88KkYvcbTnKevXUb33CMol_eJSWq4xHjgINLW5iegO3Wtg0sUSy6LSJe44HQasMW90D_90-4C3w',\n",
      "                               'OmFkLrQBN-xs0haPk5ooh-g2Of5Or7nqyQlEh0G7ed2fTVYErqbfylYYKu7PHSMGWQ0jSluxKC3hFw',\n",
      "                               'JzKl_pACMSDQ_bY38GvOAdCu62yAnU9AUyiTnwJThphb5X4HmLC0GiV7LP9zxXItY139Eri1blg3aw',\n",
      "                               'ARzZ8ZIsfhefpafFh9gvDLXbpA6Ws30QDbmhoUs8K6xsw1GGVmhEHwWCuUw7TQ5a5cjU15p9VX7XWQ',\n",
      "                               '_ILPMfKQrbeIN6auqksi_ajKmXaiLqeSQyvZlAOycAGqlLzN8XlpmiMvIUfJ_8lx1Ag8ZE7lEOKIDA',\n",
      "                               'ZgaJ0EurUEW_InpChbfGMZt6Oda24huCDe1deMX70ltmvMjQaARxoYnPv8JDi9xQGLRCOj20Rfn2Rw',\n",
      "                               'BsTuu6EscV1ofuNOBzBIQMaYOaglXrAumTmjGWKq8CdcU3cmSxZczwcntma8eimh14JpYnVDm-6Rkg',\n",
      "                               'idjfj6nouxMYDnkAbsUrzJyjYVcfMu7BkLKAtVXIZGsdTdU-22sevGQEqLJmYa8AgE3jcfi0oACcmQ']}}\n"
     ]
    }
   ],
   "source": [
    "import pprint\n",
    "pp = pprint.PrettyPrinter(depth=8)\n",
    "pp.pprint(response_search_match_info_dict)"
   ]
  },
  {
   "cell_type": "code",
   "execution_count": 25,
   "metadata": {},
   "outputs": [
    {
     "name": "stdout",
     "output_type": "stream",
     "text": [
      "{'companion': {'content_ID': '64691b63-1603-443e-bde5-727148f440ed',\n",
      "               'skin_ID': 4,\n",
      "               'species': 'PetMiner'},\n",
      " 'gold_left': 1,\n",
      " 'last_round': 35,\n",
      " 'level': 8,\n",
      " 'placement': 2,\n",
      " 'players_eliminated': 0,\n",
      " 'puuid': 'pLp88KkYvcbTnKevXUb33CMol_eJSWq4xHjgINLW5iegO3Wtg0sUSy6LSJe44HQasMW90D_90-4C3w',\n",
      " 'time_eliminated': 2044.4974365234375,\n",
      " 'total_damage_to_players': 122,\n",
      " 'traits': [{'name': 'Cultist',\n",
      "             'num_units': 2,\n",
      "             'style': 0,\n",
      "             'tier_current': 0,\n",
      "             'tier_total': 3},\n",
      "            {'name': 'Fortune',\n",
      "             'num_units': 1,\n",
      "             'style': 0,\n",
      "             'tier_current': 0,\n",
      "             'tier_total': 2},\n",
      "            {'name': 'Keeper',\n",
      "             'num_units': 1,\n",
      "             'style': 0,\n",
      "             'tier_current': 0,\n",
      "             'tier_total': 3},\n",
      "            {'name': 'Set4_Adept',\n",
      "             'num_units': 1,\n",
      "             'style': 0,\n",
      "             'tier_current': 0,\n",
      "             'tier_total': 3},\n",
      "            {'name': 'Set4_Assassin',\n",
      "             'num_units': 4,\n",
      "             'style': 3,\n",
      "             'tier_current': 2,\n",
      "             'tier_total': 3},\n",
      "            {'name': 'Set4_Mystic',\n",
      "             'num_units': 1,\n",
      "             'style': 0,\n",
      "             'tier_current': 0,\n",
      "             'tier_total': 3},\n",
      "            {'name': 'Set4_Ninja',\n",
      "             'num_units': 4,\n",
      "             'style': 3,\n",
      "             'tier_current': 2,\n",
      "             'tier_total': 2},\n",
      "            {'name': 'Set4_Shade',\n",
      "             'num_units': 3,\n",
      "             'style': 3,\n",
      "             'tier_current': 2,\n",
      "             'tier_total': 3},\n",
      "            {'name': 'Set4_Tormented',\n",
      "             'num_units': 1,\n",
      "             'style': 3,\n",
      "             'tier_current': 1,\n",
      "             'tier_total': 1},\n",
      "            {'name': 'Warlord',\n",
      "             'num_units': 2,\n",
      "             'style': 0,\n",
      "             'tier_current': 0,\n",
      "             'tier_total': 3}],\n",
      " 'units': [{'character_id': 'TFT4_Zed',\n",
      "            'items': [],\n",
      "            'name': '',\n",
      "            'rarity': 1,\n",
      "            'tier': 2},\n",
      "           {'character_id': 'TFT4_Pyke',\n",
      "            'items': [],\n",
      "            'name': '',\n",
      "            'rarity': 1,\n",
      "            'tier': 1},\n",
      "           {'character_id': 'TFT4_Akali',\n",
      "            'chosen': 'Set4_Assassin',\n",
      "            'items': [22, 19, 44],\n",
      "            'name': '',\n",
      "            'rarity': 2,\n",
      "            'tier': 3},\n",
      "           {'character_id': 'TFT4_Kennen',\n",
      "            'items': [35, 78],\n",
      "            'name': '',\n",
      "            'rarity': 2,\n",
      "            'tier': 2},\n",
      "           {'character_id': 'TFT4_Katarina',\n",
      "            'items': [45, 69, 13],\n",
      "            'name': '',\n",
      "            'rarity': 2,\n",
      "            'tier': 2},\n",
      "           {'character_id': 'TFT4_Evelynn',\n",
      "            'items': [47],\n",
      "            'name': '',\n",
      "            'rarity': 2,\n",
      "            'tier': 2},\n",
      "           {'character_id': 'TFT4_Shen',\n",
      "            'items': [25],\n",
      "            'name': '',\n",
      "            'rarity': 3,\n",
      "            'tier': 2},\n",
      "           {'character_id': 'TFT4_Kayn',\n",
      "            'items': [],\n",
      "            'name': '',\n",
      "            'rarity': 4,\n",
      "            'tier': 1}]}\n"
     ]
    }
   ],
   "source": [
    "pp.pprint(response_search_match_info_dict['info']['participants'][0])"
   ]
  },
  {
   "cell_type": "code",
   "execution_count": 28,
   "metadata": {},
   "outputs": [
    {
     "data": {
      "text/plain": [
       "122"
      ]
     },
     "execution_count": 28,
     "metadata": {},
     "output_type": "execute_result"
    }
   ],
   "source": [
    "response_search_match_info_dict['info']['participants'][0]['gold_left']\n",
    "response_search_match_info_dict['info']['participants'][0]['last_round']\n",
    "response_search_match_info_dict['info']['participants'][0]['level']\n",
    "response_search_match_info_dict['info']['participants'][0]['placement']\n",
    "response_search_match_info_dict['info']['participants'][0]['players_eliminated']\n",
    "response_search_match_info_dict['info']['participants'][0]['puuid']\n",
    "response_search_match_info_dict['info']['participants'][0]['time_eliminated']\n",
    "response_search_match_info_dict['info']['participants'][0]['total_damage_to_players']\n"
   ]
  },
  {
   "cell_type": "code",
   "execution_count": 29,
   "metadata": {},
   "outputs": [],
   "source": [
    "trait_tier = dict()\n",
    "for trait in response_search_match_info_dict['info']['participants'][0]['traits']:\n",
    "    trait_tier[trait['name']] =  trait['tier_current']"
   ]
  },
  {
   "cell_type": "code",
   "execution_count": 30,
   "metadata": {},
   "outputs": [
    {
     "data": {
      "text/plain": [
       "{'Cultist': 0,\n",
       " 'Fortune': 0,\n",
       " 'Keeper': 0,\n",
       " 'Set4_Adept': 0,\n",
       " 'Set4_Assassin': 2,\n",
       " 'Set4_Mystic': 0,\n",
       " 'Set4_Ninja': 2,\n",
       " 'Set4_Shade': 2,\n",
       " 'Set4_Tormented': 1,\n",
       " 'Warlord': 0}"
      ]
     },
     "execution_count": 30,
     "metadata": {},
     "output_type": "execute_result"
    }
   ],
   "source": [
    "trait_tier"
   ]
  },
  {
   "cell_type": "code",
   "execution_count": 32,
   "metadata": {},
   "outputs": [
    {
     "data": {
      "text/plain": [
       "[('Set4_Assassin', 2),\n",
       " ('Set4_Ninja', 2),\n",
       " ('Set4_Shade', 2),\n",
       " ('Set4_Tormented', 1),\n",
       " ('Cultist', 0),\n",
       " ('Fortune', 0),\n",
       " ('Keeper', 0),\n",
       " ('Set4_Adept', 0),\n",
       " ('Set4_Mystic', 0),\n",
       " ('Warlord', 0)]"
      ]
     },
     "execution_count": 32,
     "metadata": {},
     "output_type": "execute_result"
    }
   ],
   "source": [
    "trait_tier_sorted = sorted(trait_tier.items(),  key=lambda x:x[1], reverse=True)\n",
    "trait_tier_sorted"
   ]
  },
  {
   "cell_type": "code",
   "execution_count": 33,
   "metadata": {},
   "outputs": [
    {
     "data": {
      "text/plain": [
       "{'Set4_Assassin': 2, 'Set4_Ninja': 2, 'Set4_Shade': 2, 'Set4_Tormented': 1}"
      ]
     },
     "execution_count": 33,
     "metadata": {},
     "output_type": "execute_result"
    }
   ],
   "source": [
    "trait_tier_clean = dict(filter(lambda num: num[1] !=0, trait_tier_sorted))\n",
    "trait_tier_clean"
   ]
  },
  {
   "cell_type": "code",
   "execution_count": 73,
   "metadata": {},
   "outputs": [
    {
     "data": {
      "text/plain": [
       "list"
      ]
     },
     "execution_count": 73,
     "metadata": {},
     "output_type": "execute_result"
    }
   ],
   "source": [
    "type(response_search_match_info_dict['info']['participants'][0]['units'])"
   ]
  },
  {
   "cell_type": "code",
   "execution_count": 74,
   "metadata": {},
   "outputs": [
    {
     "data": {
      "text/plain": [
       "dict"
      ]
     },
     "execution_count": 74,
     "metadata": {},
     "output_type": "execute_result"
    }
   ],
   "source": [
    "type(response_search_match_info_dict['info']['participants'][0]['units'][0])"
   ]
  },
  {
   "cell_type": "code",
   "execution_count": 78,
   "metadata": {},
   "outputs": [
    {
     "data": {
      "text/plain": [
       "'Sharpshooter'"
      ]
     },
     "execution_count": 78,
     "metadata": {},
     "output_type": "execute_result"
    }
   ],
   "source": [
    "response_search_match_info_dict['info']['participants'][0]['units'][0]['chosen']"
   ]
  },
  {
   "cell_type": "code",
   "execution_count": 34,
   "metadata": {},
   "outputs": [],
   "source": [
    "newlist = sorted(response_search_match_info_dict['info']['participants'][0]['units'], key=lambda k: len(k['items']), reverse=True) "
   ]
  },
  {
   "cell_type": "code",
   "execution_count": 35,
   "metadata": {},
   "outputs": [
    {
     "data": {
      "text/plain": [
       "[{'character_id': 'TFT4_Akali',\n",
       "  'chosen': 'Set4_Assassin',\n",
       "  'items': [22, 19, 44],\n",
       "  'name': '',\n",
       "  'rarity': 2,\n",
       "  'tier': 3},\n",
       " {'character_id': 'TFT4_Katarina',\n",
       "  'items': [45, 69, 13],\n",
       "  'name': '',\n",
       "  'rarity': 2,\n",
       "  'tier': 2},\n",
       " {'character_id': 'TFT4_Kennen',\n",
       "  'items': [35, 78],\n",
       "  'name': '',\n",
       "  'rarity': 2,\n",
       "  'tier': 2},\n",
       " {'character_id': 'TFT4_Evelynn',\n",
       "  'items': [47],\n",
       "  'name': '',\n",
       "  'rarity': 2,\n",
       "  'tier': 2},\n",
       " {'character_id': 'TFT4_Shen',\n",
       "  'items': [25],\n",
       "  'name': '',\n",
       "  'rarity': 3,\n",
       "  'tier': 2},\n",
       " {'character_id': 'TFT4_Zed', 'items': [], 'name': '', 'rarity': 1, 'tier': 2},\n",
       " {'character_id': 'TFT4_Pyke',\n",
       "  'items': [],\n",
       "  'name': '',\n",
       "  'rarity': 1,\n",
       "  'tier': 1},\n",
       " {'character_id': 'TFT4_Kayn',\n",
       "  'items': [],\n",
       "  'name': '',\n",
       "  'rarity': 4,\n",
       "  'tier': 1}]"
      ]
     },
     "execution_count": 35,
     "metadata": {},
     "output_type": "execute_result"
    }
   ],
   "source": [
    "newlist"
   ]
  },
  {
   "cell_type": "code",
   "execution_count": 36,
   "metadata": {},
   "outputs": [],
   "source": [
    "itemization_dict = {\n",
    "    0: \"Not Itemized\",\n",
    "    1: \"Partially Itemized\",\n",
    "    2: \"Semi Itemized\",\n",
    "    3: \"Fully Itemized\"\n",
    "    \n",
    "}"
   ]
  },
  {
   "cell_type": "code",
   "execution_count": 37,
   "metadata": {},
   "outputs": [
    {
     "name": "stdout",
     "output_type": "stream",
     "text": [
      "Set4_Assassin TFT4_Akali Upgraded Fully Itemized\n"
     ]
    }
   ],
   "source": [
    "chosen_info = \"\"\n",
    "\n",
    "for i in newlist:\n",
    "    if 'chosen' in i:\n",
    "#        print(1)\n",
    "        #print(i['character_id'])\n",
    "        #print(i['tier'])\n",
    "        chosen_info += i['chosen'] + \" \"\n",
    "        chosen_info +=i ['character_id'] + \" \"\n",
    "        if i['tier'] > 2:\n",
    "            chosen_info += \"Upgraded\" + \" \"\n",
    "        #print(i['items'])\n",
    "        chosen_info += itemization_dict[len(i['items'])]\n",
    "        \n",
    "        print(chosen_info)\n",
    "            "
   ]
  },
  {
   "cell_type": "code",
   "execution_count": 55,
   "metadata": {},
   "outputs": [
    {
     "data": {
      "text/plain": [
       "[{'character_id': 'TFT4_Nidalee',\n",
       "  'chosen': 'Sharpshooter',\n",
       "  'items': [99, 35, 23],\n",
       "  'name': '',\n",
       "  'rarity': 0,\n",
       "  'tier': 3},\n",
       " {'character_id': 'TFT4_Vayne',\n",
       "  'items': [],\n",
       "  'name': '',\n",
       "  'rarity': 0,\n",
       "  'tier': 1},\n",
       " {'character_id': 'TFT4_Teemo',\n",
       "  'items': [37],\n",
       "  'name': '',\n",
       "  'rarity': 1,\n",
       "  'tier': 3},\n",
       " {'character_id': 'TFT4_Thresh',\n",
       "  'items': [],\n",
       "  'name': '',\n",
       "  'rarity': 1,\n",
       "  'tier': 3},\n",
       " {'character_id': 'TFT4_Jinx',\n",
       "  'items': [23, 14, 69],\n",
       "  'name': '',\n",
       "  'rarity': 2,\n",
       "  'tier': 2},\n",
       " {'character_id': 'TFT4_Sejuani',\n",
       "  'items': [37, 39, 44],\n",
       "  'name': '',\n",
       "  'rarity': 3,\n",
       "  'tier': 2},\n",
       " {'character_id': 'TFT4_Jhin',\n",
       "  'items': [17, 35, 12],\n",
       "  'name': '',\n",
       "  'rarity': 3,\n",
       "  'tier': 2},\n",
       " {'character_id': 'TFT4_Azir',\n",
       "  'items': [22],\n",
       "  'name': '',\n",
       "  'rarity': 4,\n",
       "  'tier': 1}]"
      ]
     },
     "execution_count": 55,
     "metadata": {},
     "output_type": "execute_result"
    }
   ],
   "source": [
    "response_search_match_info_dict['info']['participants'][0]['units'] # this is a list\n",
    "\n",
    "response_search_match_info_dict['info']['participants'][0]['units'][0] #this is a dict\n",
    "\n",
    "\n",
    "# List of units order by \n",
    "#chosen (Save this as variable for naming purposes later) # Regex\n",
    "#number of items (count this list)\n",
    "#tier\n",
    "#rarity\n",
    "\n"
   ]
  },
  {
   "cell_type": "code",
   "execution_count": null,
   "metadata": {},
   "outputs": [],
   "source": []
  },
  {
   "cell_type": "markdown",
   "metadata": {},
   "source": [
    "SQL TABLES\n",
    "\n",
    "Username Information\n",
    "\n",
    "Ranking Information over time\n",
    "? how does this line up with time of match\n",
    "* Probably just for production-ready apps, not available for now\n",
    "\n",
    "\n",
    "Match History\n",
    "\n",
    "\n",
    "Match information\n",
    "Columns?\n",
    "\n",
    "* Match ID\n",
    "* puuid\n",
    "* placing\n",
    "* level\n",
    "* Comp\n",
    "* Chosen - style\n",
    "* Units and Items\n",
    "* gold_left\n",
    "* last_round\n",
    "\n",
    "* players_eliminated\n",
    "* time_eliminated\n",
    "* total_damage_to_players\n",
    "\n"
   ]
  },
  {
   "cell_type": "code",
   "execution_count": null,
   "metadata": {},
   "outputs": [],
   "source": [
    "# codify last round into stage-round format\n",
    "# units ordered by tier and number of items\n",
    "    # codify items based on id\n",
    "    # how to determine chosen? chosen tag in 'units'!\n",
    "# codify traits into compositions? \n",
    "    # this person is going sharpshooters because.... traits + items on certain units\n"
   ]
  },
  {
   "cell_type": "code",
   "execution_count": 1,
   "metadata": {},
   "outputs": [],
   "source": [
    "import sqlalchemy as db\n",
    "\n",
    "# how to connect to local? I think I need a driver to do so\n",
    "# https://www.youtube.com/watch?v=qfYzCdkVwig\n",
    "# pip installed pymysql\n",
    "# https://towardsdatascience.com/sqlalchemy-python-tutorial-79a577141a91"
   ]
  },
  {
   "cell_type": "code",
   "execution_count": 2,
   "metadata": {},
   "outputs": [
    {
     "data": {
      "text/plain": [
       "'1.3.16'"
      ]
     },
     "execution_count": 2,
     "metadata": {},
     "output_type": "execute_result"
    }
   ],
   "source": [
    "db.__version__"
   ]
  },
  {
   "cell_type": "code",
   "execution_count": 3,
   "metadata": {},
   "outputs": [],
   "source": [
    "import pymysql"
   ]
  },
  {
   "cell_type": "code",
   "execution_count": 4,
   "metadata": {},
   "outputs": [],
   "source": [
    "engine = db.create_engine(\"mysql+pymysql://root@localhost/TFT\", echo = True)"
   ]
  },
  {
   "cell_type": "code",
   "execution_count": 5,
   "metadata": {},
   "outputs": [
    {
     "name": "stdout",
     "output_type": "stream",
     "text": [
      "2020-12-01 18:59:01,226 INFO sqlalchemy.engine.base.Engine SHOW VARIABLES LIKE 'sql_mode'\n",
      "2020-12-01 18:59:01,228 INFO sqlalchemy.engine.base.Engine {}\n",
      "2020-12-01 18:59:01,231 INFO sqlalchemy.engine.base.Engine SHOW VARIABLES LIKE 'lower_case_table_names'\n",
      "2020-12-01 18:59:01,232 INFO sqlalchemy.engine.base.Engine {}\n",
      "2020-12-01 18:59:01,233 INFO sqlalchemy.engine.base.Engine SELECT DATABASE()\n",
      "2020-12-01 18:59:01,234 INFO sqlalchemy.engine.base.Engine {}\n",
      "2020-12-01 18:59:01,235 INFO sqlalchemy.engine.base.Engine show collation where `Charset` = 'utf8mb4' and `Collation` = 'utf8mb4_bin'\n",
      "2020-12-01 18:59:01,235 INFO sqlalchemy.engine.base.Engine {}\n",
      "2020-12-01 18:59:01,237 INFO sqlalchemy.engine.base.Engine SELECT CAST('test plain returns' AS CHAR(60)) AS anon_1\n",
      "2020-12-01 18:59:01,237 INFO sqlalchemy.engine.base.Engine {}\n",
      "2020-12-01 18:59:01,238 INFO sqlalchemy.engine.base.Engine SELECT CAST('test unicode returns' AS CHAR(60)) AS anon_1\n",
      "2020-12-01 18:59:01,239 INFO sqlalchemy.engine.base.Engine {}\n",
      "2020-12-01 18:59:01,240 INFO sqlalchemy.engine.base.Engine SELECT CAST('test collated returns' AS CHAR CHARACTER SET utf8mb4) COLLATE utf8mb4_bin AS anon_1\n",
      "2020-12-01 18:59:01,240 INFO sqlalchemy.engine.base.Engine {}\n"
     ]
    }
   ],
   "source": [
    "metadata = db.MetaData()\n",
    "conn = engine.connect()"
   ]
  },
  {
   "cell_type": "code",
   "execution_count": 6,
   "metadata": {},
   "outputs": [
    {
     "name": "stdout",
     "output_type": "stream",
     "text": [
      "2020-12-01 18:59:04,745 INFO sqlalchemy.engine.base.Engine DESCRIBE `items`\n",
      "2020-12-01 18:59:04,746 INFO sqlalchemy.engine.base.Engine {}\n",
      "2020-12-01 18:59:04,771 INFO sqlalchemy.engine.base.Engine DESCRIBE `match_id`\n",
      "2020-12-01 18:59:04,772 INFO sqlalchemy.engine.base.Engine {}\n",
      "2020-12-01 18:59:04,788 INFO sqlalchemy.engine.base.Engine DESCRIBE `match_info`\n",
      "2020-12-01 18:59:04,789 INFO sqlalchemy.engine.base.Engine {}\n",
      "2020-12-01 18:59:04,804 INFO sqlalchemy.engine.base.Engine DESCRIBE `user_info`\n",
      "2020-12-01 18:59:04,805 INFO sqlalchemy.engine.base.Engine {}\n",
      "2020-12-01 18:59:04,822 INFO sqlalchemy.engine.base.Engine DESCRIBE `user_rank`\n",
      "2020-12-01 18:59:04,823 INFO sqlalchemy.engine.base.Engine {}\n"
     ]
    }
   ],
   "source": [
    "meta = db.MetaData()\n",
    "# engine.execute(\"CREATE TABLE items (item_id int, item_name varchar(255))\")\n",
    "items = db.Table(\n",
    "    'items', meta, \n",
    "    db.Column('item_id', db.Integer, primary_key = True, autoincrement = False), \n",
    "    db.Column('item_name', db.String(255))\n",
    ")\n",
    "#engine.execute(\"CREATE TABLE match_id (match_id int, game_datetime datetime, game_length int, game_version varchar(255))\")\n",
    "match_id = db.Table(\n",
    "    'match_id', meta,\n",
    "    db.Column('match_id', db.Integer, primary_key = True, autoincrement = False),\n",
    "    db.Column('game_datetime', db.DateTime),\n",
    "    db.Column('game_length', db.Integer, autoincrement = False),\n",
    "    db.Column('game_version', db.String(255))\n",
    ")\n",
    "\n",
    "#engine.execute(\"CREATE TABLE match_info (match_id int, puuid varchar(255), placement int, level int, \"\n",
    "#                                       \"time_eliminated int, last_round int, gold_left int, total_damage_to_players int,\"\n",
    "#                                        \"traits varchar(255), chosen_info varchar(255), units varchar(255))\")\n",
    "\n",
    "\n",
    "match_info = db.Table(\n",
    "    'match_info', meta,\n",
    "    db.Column('match_id', db.Integer, primary_key = True, autoincrement = False),\n",
    "    db.Column('puuid', db.String(255)),\n",
    "    db.Column('placement', db.Integer, autoincrement = False),\n",
    "    db.Column('level', db.Integer, autoincrement = False),\n",
    "    db.Column('time_eliminated', db.Integer, autoincrement = False),\n",
    "    db.Column('gold_left', db.Integer, autoincrement = False),\n",
    "    db.Column('total_damage_to_players', db.Integer, autoincrement = False),\n",
    "    db.Column('traits', db.String(255)),\n",
    "    db.Column('chosen_info', db.String(255)),\n",
    "    db.Column('units', db.String(255))\n",
    ")\n",
    "\n",
    "#engine.execute(\"CREATE TABLE user_info (puuid varchar(255), summoner_id varchar(255), summoner_username varchar(255))\")\n",
    "user_info = db.Table(\n",
    "    'user_info', meta,\n",
    "    db.Column('puuid', db.String(255), index=True),\n",
    "    db.Column('summoner_id', db.String(255), index=True),\n",
    "    db.Column('summoner_username', db.String(255)),\n",
    "    db.UniqueConstraint('puuid')\n",
    ")\n",
    "\n",
    "#engine.execute(\"CREATE TABLE user_rank (summoner_id varchar(255), tier varchar(255), rank varchar(255), league_points int, revision_date datetime)\")\n",
    "user_rank = db.Table(\n",
    "    'user_rank', meta,\n",
    "    db.Column('summoner_id', db.String(255)),\n",
    "    db.Column('tier', db.String(255)),\n",
    "    db.Column('rank', db.String(255)),\n",
    "    #needs some time value that represents when the match occured\n",
    ")\n",
    "\n",
    "\n",
    "meta.create_all(engine)"
   ]
  },
  {
   "cell_type": "code",
   "execution_count": 9,
   "metadata": {},
   "outputs": [
    {
     "name": "stdout",
     "output_type": "stream",
     "text": [
      "2020-12-01 19:06:14,328 INFO sqlalchemy.engine.base.Engine SELECT user_info.puuid, user_info.summoner_id, user_info.summoner_username \n",
      "FROM user_info\n",
      "2020-12-01 19:06:14,328 INFO sqlalchemy.engine.base.Engine {}\n"
     ]
    },
    {
     "data": {
      "text/plain": [
       "[('1', 'A', 'AA'),\n",
       " ('2', 'B', 'BB'),\n",
       " ('3', 'C', 'CC'),\n",
       " ('4', 'D', 'DD'),\n",
       " ('7', 'A', 'AA')]"
      ]
     },
     "execution_count": 9,
     "metadata": {},
     "output_type": "execute_result"
    }
   ],
   "source": [
    "\n",
    "query = db.select([user_info])\n",
    "ResultProxy = conn.execute(query)\n",
    "\n",
    "ResultSet = ResultProxy.fetchall()\n",
    "ResultSet"
   ]
  },
  {
   "cell_type": "code",
   "execution_count": 48,
   "metadata": {},
   "outputs": [
    {
     "name": "stdout",
     "output_type": "stream",
     "text": [
      "2020-12-01 21:15:55,601 INFO sqlalchemy.engine.base.Engine INSERT INTO user_info (puuid, summoner_id, summoner_username) VALUES (%(puuid)s, %(summoner_id)s, %(summoner_username)s)\n",
      "2020-12-01 21:15:55,602 INFO sqlalchemy.engine.base.Engine {'puuid': 7, 'summoner_id': 'A', 'summoner_username': 'AA'}\n",
      "2020-12-01 21:15:55,608 INFO sqlalchemy.engine.base.Engine ROLLBACK\n",
      "An IntegrityError exception occurred. Already in Database\n"
     ]
    }
   ],
   "source": [
    "# https://docs.sqlalchemy.org/en/14/core/dml.html\n",
    "# Inserting\n",
    "# if one of them is already found, then all of it wont work\n",
    "try:\n",
    "    conn.execute(user_info.insert(), [\n",
    "        {'puuid': 7, 'summoner_id': 'A', 'summoner_username':'AA'}\n",
    "     ])\n",
    "except db.exc.IntegrityError:\n",
    "    print(\"An IntegrityError exception occurred. Already in Database\") "
   ]
  },
  {
   "cell_type": "code",
   "execution_count": 30,
   "metadata": {},
   "outputs": [
    {
     "name": "stdout",
     "output_type": "stream",
     "text": [
      "2020-12-01 19:46:10,006 INFO sqlalchemy.engine.base.Engine INSERT INTO user_info (puuid, summoner_id, summoner_username) SELECT %(param_1)s AS anon_1, %(param_2)s AS anon_2, %(param_3)s AS anon_3 \n",
      "WHERE NOT (EXISTS (SELECT user_info.puuid \n",
      "FROM user_info \n",
      "WHERE user_info.puuid = %(puuid_1)s))\n",
      "2020-12-01 19:46:10,007 INFO sqlalchemy.engine.base.Engine {'param_1': '7', 'param_2': 'A', 'param_3': 'AA', 'puuid_1': '7'}\n",
      "2020-12-01 19:46:10,008 INFO sqlalchemy.engine.base.Engine ROLLBACK\n"
     ]
    },
    {
     "ename": "ProgrammingError",
     "evalue": "(pymysql.err.ProgrammingError) (1064, \"You have an error in your SQL syntax; check the manual that corresponds to your MariaDB server version for the right syntax to use near 'WHERE NOT (EXISTS (SELECT user_info.puuid \\nFROM user_info \\nWHERE user_info.puuid' at line 2\")\n[SQL: INSERT INTO user_info (puuid, summoner_id, summoner_username) SELECT %(param_1)s AS anon_1, %(param_2)s AS anon_2, %(param_3)s AS anon_3 \nWHERE NOT (EXISTS (SELECT user_info.puuid \nFROM user_info \nWHERE user_info.puuid = %(puuid_1)s))]\n[parameters: {'param_1': '7', 'param_2': 'A', 'param_3': 'AA', 'puuid_1': '7'}]\n(Background on this error at: http://sqlalche.me/e/f405)",
     "output_type": "error",
     "traceback": [
      "\u001b[1;31m---------------------------------------------------------------------------\u001b[0m",
      "\u001b[1;31mProgrammingError\u001b[0m                          Traceback (most recent call last)",
      "\u001b[1;32m~\\Anaconda3\\lib\\site-packages\\sqlalchemy\\engine\\base.py\u001b[0m in \u001b[0;36m_execute_context\u001b[1;34m(self, dialect, constructor, statement, parameters, *args)\u001b[0m\n\u001b[0;32m   1247\u001b[0m                     self.dialect.do_execute(\n\u001b[1;32m-> 1248\u001b[1;33m                         \u001b[0mcursor\u001b[0m\u001b[1;33m,\u001b[0m \u001b[0mstatement\u001b[0m\u001b[1;33m,\u001b[0m \u001b[0mparameters\u001b[0m\u001b[1;33m,\u001b[0m \u001b[0mcontext\u001b[0m\u001b[1;33m\u001b[0m\u001b[1;33m\u001b[0m\u001b[0m\n\u001b[0m\u001b[0;32m   1249\u001b[0m                     )\n",
      "\u001b[1;32m~\\Anaconda3\\lib\\site-packages\\sqlalchemy\\engine\\default.py\u001b[0m in \u001b[0;36mdo_execute\u001b[1;34m(self, cursor, statement, parameters, context)\u001b[0m\n\u001b[0;32m    589\u001b[0m     \u001b[1;32mdef\u001b[0m \u001b[0mdo_execute\u001b[0m\u001b[1;33m(\u001b[0m\u001b[0mself\u001b[0m\u001b[1;33m,\u001b[0m \u001b[0mcursor\u001b[0m\u001b[1;33m,\u001b[0m \u001b[0mstatement\u001b[0m\u001b[1;33m,\u001b[0m \u001b[0mparameters\u001b[0m\u001b[1;33m,\u001b[0m \u001b[0mcontext\u001b[0m\u001b[1;33m=\u001b[0m\u001b[1;32mNone\u001b[0m\u001b[1;33m)\u001b[0m\u001b[1;33m:\u001b[0m\u001b[1;33m\u001b[0m\u001b[1;33m\u001b[0m\u001b[0m\n\u001b[1;32m--> 590\u001b[1;33m         \u001b[0mcursor\u001b[0m\u001b[1;33m.\u001b[0m\u001b[0mexecute\u001b[0m\u001b[1;33m(\u001b[0m\u001b[0mstatement\u001b[0m\u001b[1;33m,\u001b[0m \u001b[0mparameters\u001b[0m\u001b[1;33m)\u001b[0m\u001b[1;33m\u001b[0m\u001b[1;33m\u001b[0m\u001b[0m\n\u001b[0m\u001b[0;32m    591\u001b[0m \u001b[1;33m\u001b[0m\u001b[0m\n",
      "\u001b[1;32m~\\Anaconda3\\lib\\site-packages\\pymysql\\cursors.py\u001b[0m in \u001b[0;36mexecute\u001b[1;34m(self, query, args)\u001b[0m\n\u001b[0;32m    162\u001b[0m \u001b[1;33m\u001b[0m\u001b[0m\n\u001b[1;32m--> 163\u001b[1;33m         \u001b[0mresult\u001b[0m \u001b[1;33m=\u001b[0m \u001b[0mself\u001b[0m\u001b[1;33m.\u001b[0m\u001b[0m_query\u001b[0m\u001b[1;33m(\u001b[0m\u001b[0mquery\u001b[0m\u001b[1;33m)\u001b[0m\u001b[1;33m\u001b[0m\u001b[1;33m\u001b[0m\u001b[0m\n\u001b[0m\u001b[0;32m    164\u001b[0m         \u001b[0mself\u001b[0m\u001b[1;33m.\u001b[0m\u001b[0m_executed\u001b[0m \u001b[1;33m=\u001b[0m \u001b[0mquery\u001b[0m\u001b[1;33m\u001b[0m\u001b[1;33m\u001b[0m\u001b[0m\n",
      "\u001b[1;32m~\\Anaconda3\\lib\\site-packages\\pymysql\\cursors.py\u001b[0m in \u001b[0;36m_query\u001b[1;34m(self, q)\u001b[0m\n\u001b[0;32m    320\u001b[0m         \u001b[0mself\u001b[0m\u001b[1;33m.\u001b[0m\u001b[0m_clear_result\u001b[0m\u001b[1;33m(\u001b[0m\u001b[1;33m)\u001b[0m\u001b[1;33m\u001b[0m\u001b[1;33m\u001b[0m\u001b[0m\n\u001b[1;32m--> 321\u001b[1;33m         \u001b[0mconn\u001b[0m\u001b[1;33m.\u001b[0m\u001b[0mquery\u001b[0m\u001b[1;33m(\u001b[0m\u001b[0mq\u001b[0m\u001b[1;33m)\u001b[0m\u001b[1;33m\u001b[0m\u001b[1;33m\u001b[0m\u001b[0m\n\u001b[0m\u001b[0;32m    322\u001b[0m         \u001b[0mself\u001b[0m\u001b[1;33m.\u001b[0m\u001b[0m_do_get_result\u001b[0m\u001b[1;33m(\u001b[0m\u001b[1;33m)\u001b[0m\u001b[1;33m\u001b[0m\u001b[1;33m\u001b[0m\u001b[0m\n",
      "\u001b[1;32m~\\Anaconda3\\lib\\site-packages\\pymysql\\connections.py\u001b[0m in \u001b[0;36mquery\u001b[1;34m(self, sql, unbuffered)\u001b[0m\n\u001b[0;32m    504\u001b[0m         \u001b[0mself\u001b[0m\u001b[1;33m.\u001b[0m\u001b[0m_execute_command\u001b[0m\u001b[1;33m(\u001b[0m\u001b[0mCOMMAND\u001b[0m\u001b[1;33m.\u001b[0m\u001b[0mCOM_QUERY\u001b[0m\u001b[1;33m,\u001b[0m \u001b[0msql\u001b[0m\u001b[1;33m)\u001b[0m\u001b[1;33m\u001b[0m\u001b[1;33m\u001b[0m\u001b[0m\n\u001b[1;32m--> 505\u001b[1;33m         \u001b[0mself\u001b[0m\u001b[1;33m.\u001b[0m\u001b[0m_affected_rows\u001b[0m \u001b[1;33m=\u001b[0m \u001b[0mself\u001b[0m\u001b[1;33m.\u001b[0m\u001b[0m_read_query_result\u001b[0m\u001b[1;33m(\u001b[0m\u001b[0munbuffered\u001b[0m\u001b[1;33m=\u001b[0m\u001b[0munbuffered\u001b[0m\u001b[1;33m)\u001b[0m\u001b[1;33m\u001b[0m\u001b[1;33m\u001b[0m\u001b[0m\n\u001b[0m\u001b[0;32m    506\u001b[0m         \u001b[1;32mreturn\u001b[0m \u001b[0mself\u001b[0m\u001b[1;33m.\u001b[0m\u001b[0m_affected_rows\u001b[0m\u001b[1;33m\u001b[0m\u001b[1;33m\u001b[0m\u001b[0m\n",
      "\u001b[1;32m~\\Anaconda3\\lib\\site-packages\\pymysql\\connections.py\u001b[0m in \u001b[0;36m_read_query_result\u001b[1;34m(self, unbuffered)\u001b[0m\n\u001b[0;32m    723\u001b[0m             \u001b[0mresult\u001b[0m \u001b[1;33m=\u001b[0m \u001b[0mMySQLResult\u001b[0m\u001b[1;33m(\u001b[0m\u001b[0mself\u001b[0m\u001b[1;33m)\u001b[0m\u001b[1;33m\u001b[0m\u001b[1;33m\u001b[0m\u001b[0m\n\u001b[1;32m--> 724\u001b[1;33m             \u001b[0mresult\u001b[0m\u001b[1;33m.\u001b[0m\u001b[0mread\u001b[0m\u001b[1;33m(\u001b[0m\u001b[1;33m)\u001b[0m\u001b[1;33m\u001b[0m\u001b[1;33m\u001b[0m\u001b[0m\n\u001b[0m\u001b[0;32m    725\u001b[0m         \u001b[0mself\u001b[0m\u001b[1;33m.\u001b[0m\u001b[0m_result\u001b[0m \u001b[1;33m=\u001b[0m \u001b[0mresult\u001b[0m\u001b[1;33m\u001b[0m\u001b[1;33m\u001b[0m\u001b[0m\n",
      "\u001b[1;32m~\\Anaconda3\\lib\\site-packages\\pymysql\\connections.py\u001b[0m in \u001b[0;36mread\u001b[1;34m(self)\u001b[0m\n\u001b[0;32m   1068\u001b[0m         \u001b[1;32mtry\u001b[0m\u001b[1;33m:\u001b[0m\u001b[1;33m\u001b[0m\u001b[1;33m\u001b[0m\u001b[0m\n\u001b[1;32m-> 1069\u001b[1;33m             \u001b[0mfirst_packet\u001b[0m \u001b[1;33m=\u001b[0m \u001b[0mself\u001b[0m\u001b[1;33m.\u001b[0m\u001b[0mconnection\u001b[0m\u001b[1;33m.\u001b[0m\u001b[0m_read_packet\u001b[0m\u001b[1;33m(\u001b[0m\u001b[1;33m)\u001b[0m\u001b[1;33m\u001b[0m\u001b[1;33m\u001b[0m\u001b[0m\n\u001b[0m\u001b[0;32m   1070\u001b[0m \u001b[1;33m\u001b[0m\u001b[0m\n",
      "\u001b[1;32m~\\Anaconda3\\lib\\site-packages\\pymysql\\connections.py\u001b[0m in \u001b[0;36m_read_packet\u001b[1;34m(self, packet_type)\u001b[0m\n\u001b[0;32m    675\u001b[0m                 \u001b[0mself\u001b[0m\u001b[1;33m.\u001b[0m\u001b[0m_result\u001b[0m\u001b[1;33m.\u001b[0m\u001b[0munbuffered_active\u001b[0m \u001b[1;33m=\u001b[0m \u001b[1;32mFalse\u001b[0m\u001b[1;33m\u001b[0m\u001b[1;33m\u001b[0m\u001b[0m\n\u001b[1;32m--> 676\u001b[1;33m             \u001b[0mpacket\u001b[0m\u001b[1;33m.\u001b[0m\u001b[0mraise_for_error\u001b[0m\u001b[1;33m(\u001b[0m\u001b[1;33m)\u001b[0m\u001b[1;33m\u001b[0m\u001b[1;33m\u001b[0m\u001b[0m\n\u001b[0m\u001b[0;32m    677\u001b[0m         \u001b[1;32mreturn\u001b[0m \u001b[0mpacket\u001b[0m\u001b[1;33m\u001b[0m\u001b[1;33m\u001b[0m\u001b[0m\n",
      "\u001b[1;32m~\\Anaconda3\\lib\\site-packages\\pymysql\\protocol.py\u001b[0m in \u001b[0;36mraise_for_error\u001b[1;34m(self)\u001b[0m\n\u001b[0;32m    222\u001b[0m         \u001b[1;32mif\u001b[0m \u001b[0mDEBUG\u001b[0m\u001b[1;33m:\u001b[0m \u001b[0mprint\u001b[0m\u001b[1;33m(\u001b[0m\u001b[1;34m\"errno =\"\u001b[0m\u001b[1;33m,\u001b[0m \u001b[0merrno\u001b[0m\u001b[1;33m)\u001b[0m\u001b[1;33m\u001b[0m\u001b[1;33m\u001b[0m\u001b[0m\n\u001b[1;32m--> 223\u001b[1;33m         \u001b[0merr\u001b[0m\u001b[1;33m.\u001b[0m\u001b[0mraise_mysql_exception\u001b[0m\u001b[1;33m(\u001b[0m\u001b[0mself\u001b[0m\u001b[1;33m.\u001b[0m\u001b[0m_data\u001b[0m\u001b[1;33m)\u001b[0m\u001b[1;33m\u001b[0m\u001b[1;33m\u001b[0m\u001b[0m\n\u001b[0m\u001b[0;32m    224\u001b[0m \u001b[1;33m\u001b[0m\u001b[0m\n",
      "\u001b[1;32m~\\Anaconda3\\lib\\site-packages\\pymysql\\err.py\u001b[0m in \u001b[0;36mraise_mysql_exception\u001b[1;34m(data)\u001b[0m\n\u001b[0;32m    106\u001b[0m         \u001b[0merrorclass\u001b[0m \u001b[1;33m=\u001b[0m \u001b[0mInternalError\u001b[0m \u001b[1;32mif\u001b[0m \u001b[0merrno\u001b[0m \u001b[1;33m<\u001b[0m \u001b[1;36m1000\u001b[0m \u001b[1;32melse\u001b[0m \u001b[0mOperationalError\u001b[0m\u001b[1;33m\u001b[0m\u001b[1;33m\u001b[0m\u001b[0m\n\u001b[1;32m--> 107\u001b[1;33m     \u001b[1;32mraise\u001b[0m \u001b[0merrorclass\u001b[0m\u001b[1;33m(\u001b[0m\u001b[0merrno\u001b[0m\u001b[1;33m,\u001b[0m \u001b[0merrval\u001b[0m\u001b[1;33m)\u001b[0m\u001b[1;33m\u001b[0m\u001b[1;33m\u001b[0m\u001b[0m\n\u001b[0m",
      "\u001b[1;31mProgrammingError\u001b[0m: (1064, \"You have an error in your SQL syntax; check the manual that corresponds to your MariaDB server version for the right syntax to use near 'WHERE NOT (EXISTS (SELECT user_info.puuid \\nFROM user_info \\nWHERE user_info.puuid' at line 2\")",
      "\nThe above exception was the direct cause of the following exception:\n",
      "\u001b[1;31mProgrammingError\u001b[0m                          Traceback (most recent call last)",
      "\u001b[1;32m<ipython-input-30-ceeb5f30c3d8>\u001b[0m in \u001b[0;36m<module>\u001b[1;34m\u001b[0m\n\u001b[0;32m     15\u001b[0m \u001b[0mins\u001b[0m \u001b[1;33m=\u001b[0m \u001b[0muser_info\u001b[0m\u001b[1;33m.\u001b[0m\u001b[0minsert\u001b[0m\u001b[1;33m(\u001b[0m\u001b[1;33m)\u001b[0m\u001b[1;33m.\u001b[0m\u001b[0mfrom_select\u001b[0m\u001b[1;33m(\u001b[0m\u001b[1;33m[\u001b[0m\u001b[1;34m'puuid'\u001b[0m\u001b[1;33m,\u001b[0m \u001b[1;34m'summoner_id'\u001b[0m\u001b[1;33m,\u001b[0m\u001b[1;34m'summoner_username'\u001b[0m\u001b[1;33m]\u001b[0m\u001b[1;33m,\u001b[0m \u001b[0msel\u001b[0m\u001b[1;33m)\u001b[0m\u001b[1;33m\u001b[0m\u001b[1;33m\u001b[0m\u001b[0m\n\u001b[0;32m     16\u001b[0m \u001b[1;31m#print(ins)\u001b[0m\u001b[1;33m\u001b[0m\u001b[1;33m\u001b[0m\u001b[1;33m\u001b[0m\u001b[0m\n\u001b[1;32m---> 17\u001b[1;33m \u001b[0mconn\u001b[0m\u001b[1;33m.\u001b[0m\u001b[0mexecute\u001b[0m\u001b[1;33m(\u001b[0m\u001b[0mins\u001b[0m\u001b[1;33m)\u001b[0m\u001b[1;33m\u001b[0m\u001b[1;33m\u001b[0m\u001b[0m\n\u001b[0m\u001b[0;32m     18\u001b[0m \u001b[1;31m#possibly would need to have single inserts that could break, or someway to handle itegrity errors per each of the multiple\u001b[0m\u001b[1;33m\u001b[0m\u001b[1;33m\u001b[0m\u001b[1;33m\u001b[0m\u001b[0m\n\u001b[0;32m     19\u001b[0m \u001b[1;31m#or some session merge thing\u001b[0m\u001b[1;33m\u001b[0m\u001b[1;33m\u001b[0m\u001b[1;33m\u001b[0m\u001b[0m\n",
      "\u001b[1;32m~\\Anaconda3\\lib\\site-packages\\sqlalchemy\\engine\\base.py\u001b[0m in \u001b[0;36mexecute\u001b[1;34m(self, object_, *multiparams, **params)\u001b[0m\n\u001b[0;32m    982\u001b[0m             )\n\u001b[0;32m    983\u001b[0m         \u001b[1;32melse\u001b[0m\u001b[1;33m:\u001b[0m\u001b[1;33m\u001b[0m\u001b[1;33m\u001b[0m\u001b[0m\n\u001b[1;32m--> 984\u001b[1;33m             \u001b[1;32mreturn\u001b[0m \u001b[0mmeth\u001b[0m\u001b[1;33m(\u001b[0m\u001b[0mself\u001b[0m\u001b[1;33m,\u001b[0m \u001b[0mmultiparams\u001b[0m\u001b[1;33m,\u001b[0m \u001b[0mparams\u001b[0m\u001b[1;33m)\u001b[0m\u001b[1;33m\u001b[0m\u001b[1;33m\u001b[0m\u001b[0m\n\u001b[0m\u001b[0;32m    985\u001b[0m \u001b[1;33m\u001b[0m\u001b[0m\n\u001b[0;32m    986\u001b[0m     \u001b[1;32mdef\u001b[0m \u001b[0m_execute_function\u001b[0m\u001b[1;33m(\u001b[0m\u001b[0mself\u001b[0m\u001b[1;33m,\u001b[0m \u001b[0mfunc\u001b[0m\u001b[1;33m,\u001b[0m \u001b[0mmultiparams\u001b[0m\u001b[1;33m,\u001b[0m \u001b[0mparams\u001b[0m\u001b[1;33m)\u001b[0m\u001b[1;33m:\u001b[0m\u001b[1;33m\u001b[0m\u001b[1;33m\u001b[0m\u001b[0m\n",
      "\u001b[1;32m~\\Anaconda3\\lib\\site-packages\\sqlalchemy\\sql\\elements.py\u001b[0m in \u001b[0;36m_execute_on_connection\u001b[1;34m(self, connection, multiparams, params)\u001b[0m\n\u001b[0;32m    291\u001b[0m     \u001b[1;32mdef\u001b[0m \u001b[0m_execute_on_connection\u001b[0m\u001b[1;33m(\u001b[0m\u001b[0mself\u001b[0m\u001b[1;33m,\u001b[0m \u001b[0mconnection\u001b[0m\u001b[1;33m,\u001b[0m \u001b[0mmultiparams\u001b[0m\u001b[1;33m,\u001b[0m \u001b[0mparams\u001b[0m\u001b[1;33m)\u001b[0m\u001b[1;33m:\u001b[0m\u001b[1;33m\u001b[0m\u001b[1;33m\u001b[0m\u001b[0m\n\u001b[0;32m    292\u001b[0m         \u001b[1;32mif\u001b[0m \u001b[0mself\u001b[0m\u001b[1;33m.\u001b[0m\u001b[0msupports_execution\u001b[0m\u001b[1;33m:\u001b[0m\u001b[1;33m\u001b[0m\u001b[1;33m\u001b[0m\u001b[0m\n\u001b[1;32m--> 293\u001b[1;33m             \u001b[1;32mreturn\u001b[0m \u001b[0mconnection\u001b[0m\u001b[1;33m.\u001b[0m\u001b[0m_execute_clauseelement\u001b[0m\u001b[1;33m(\u001b[0m\u001b[0mself\u001b[0m\u001b[1;33m,\u001b[0m \u001b[0mmultiparams\u001b[0m\u001b[1;33m,\u001b[0m \u001b[0mparams\u001b[0m\u001b[1;33m)\u001b[0m\u001b[1;33m\u001b[0m\u001b[1;33m\u001b[0m\u001b[0m\n\u001b[0m\u001b[0;32m    294\u001b[0m         \u001b[1;32melse\u001b[0m\u001b[1;33m:\u001b[0m\u001b[1;33m\u001b[0m\u001b[1;33m\u001b[0m\u001b[0m\n\u001b[0;32m    295\u001b[0m             \u001b[1;32mraise\u001b[0m \u001b[0mexc\u001b[0m\u001b[1;33m.\u001b[0m\u001b[0mObjectNotExecutableError\u001b[0m\u001b[1;33m(\u001b[0m\u001b[0mself\u001b[0m\u001b[1;33m)\u001b[0m\u001b[1;33m\u001b[0m\u001b[1;33m\u001b[0m\u001b[0m\n",
      "\u001b[1;32m~\\Anaconda3\\lib\\site-packages\\sqlalchemy\\engine\\base.py\u001b[0m in \u001b[0;36m_execute_clauseelement\u001b[1;34m(self, elem, multiparams, params)\u001b[0m\n\u001b[0;32m   1101\u001b[0m             \u001b[0mdistilled_params\u001b[0m\u001b[1;33m,\u001b[0m\u001b[1;33m\u001b[0m\u001b[1;33m\u001b[0m\u001b[0m\n\u001b[0;32m   1102\u001b[0m             \u001b[0mcompiled_sql\u001b[0m\u001b[1;33m,\u001b[0m\u001b[1;33m\u001b[0m\u001b[1;33m\u001b[0m\u001b[0m\n\u001b[1;32m-> 1103\u001b[1;33m             \u001b[0mdistilled_params\u001b[0m\u001b[1;33m,\u001b[0m\u001b[1;33m\u001b[0m\u001b[1;33m\u001b[0m\u001b[0m\n\u001b[0m\u001b[0;32m   1104\u001b[0m         )\n\u001b[0;32m   1105\u001b[0m         \u001b[1;32mif\u001b[0m \u001b[0mself\u001b[0m\u001b[1;33m.\u001b[0m\u001b[0m_has_events\u001b[0m \u001b[1;32mor\u001b[0m \u001b[0mself\u001b[0m\u001b[1;33m.\u001b[0m\u001b[0mengine\u001b[0m\u001b[1;33m.\u001b[0m\u001b[0m_has_events\u001b[0m\u001b[1;33m:\u001b[0m\u001b[1;33m\u001b[0m\u001b[1;33m\u001b[0m\u001b[0m\n",
      "\u001b[1;32m~\\Anaconda3\\lib\\site-packages\\sqlalchemy\\engine\\base.py\u001b[0m in \u001b[0;36m_execute_context\u001b[1;34m(self, dialect, constructor, statement, parameters, *args)\u001b[0m\n\u001b[0;32m   1286\u001b[0m         \u001b[1;32mexcept\u001b[0m \u001b[0mBaseException\u001b[0m \u001b[1;32mas\u001b[0m \u001b[0me\u001b[0m\u001b[1;33m:\u001b[0m\u001b[1;33m\u001b[0m\u001b[1;33m\u001b[0m\u001b[0m\n\u001b[0;32m   1287\u001b[0m             self._handle_dbapi_exception(\n\u001b[1;32m-> 1288\u001b[1;33m                 \u001b[0me\u001b[0m\u001b[1;33m,\u001b[0m \u001b[0mstatement\u001b[0m\u001b[1;33m,\u001b[0m \u001b[0mparameters\u001b[0m\u001b[1;33m,\u001b[0m \u001b[0mcursor\u001b[0m\u001b[1;33m,\u001b[0m \u001b[0mcontext\u001b[0m\u001b[1;33m\u001b[0m\u001b[1;33m\u001b[0m\u001b[0m\n\u001b[0m\u001b[0;32m   1289\u001b[0m             )\n\u001b[0;32m   1290\u001b[0m \u001b[1;33m\u001b[0m\u001b[0m\n",
      "\u001b[1;32m~\\Anaconda3\\lib\\site-packages\\sqlalchemy\\engine\\base.py\u001b[0m in \u001b[0;36m_handle_dbapi_exception\u001b[1;34m(self, e, statement, parameters, cursor, context)\u001b[0m\n\u001b[0;32m   1480\u001b[0m             \u001b[1;32melif\u001b[0m \u001b[0mshould_wrap\u001b[0m\u001b[1;33m:\u001b[0m\u001b[1;33m\u001b[0m\u001b[1;33m\u001b[0m\u001b[0m\n\u001b[0;32m   1481\u001b[0m                 util.raise_(\n\u001b[1;32m-> 1482\u001b[1;33m                     \u001b[0msqlalchemy_exception\u001b[0m\u001b[1;33m,\u001b[0m \u001b[0mwith_traceback\u001b[0m\u001b[1;33m=\u001b[0m\u001b[0mexc_info\u001b[0m\u001b[1;33m[\u001b[0m\u001b[1;36m2\u001b[0m\u001b[1;33m]\u001b[0m\u001b[1;33m,\u001b[0m \u001b[0mfrom_\u001b[0m\u001b[1;33m=\u001b[0m\u001b[0me\u001b[0m\u001b[1;33m\u001b[0m\u001b[1;33m\u001b[0m\u001b[0m\n\u001b[0m\u001b[0;32m   1483\u001b[0m                 )\n\u001b[0;32m   1484\u001b[0m             \u001b[1;32melse\u001b[0m\u001b[1;33m:\u001b[0m\u001b[1;33m\u001b[0m\u001b[1;33m\u001b[0m\u001b[0m\n",
      "\u001b[1;32m~\\Anaconda3\\lib\\site-packages\\sqlalchemy\\util\\compat.py\u001b[0m in \u001b[0;36mraise_\u001b[1;34m(***failed resolving arguments***)\u001b[0m\n\u001b[0;32m    176\u001b[0m \u001b[1;33m\u001b[0m\u001b[0m\n\u001b[0;32m    177\u001b[0m         \u001b[1;32mtry\u001b[0m\u001b[1;33m:\u001b[0m\u001b[1;33m\u001b[0m\u001b[1;33m\u001b[0m\u001b[0m\n\u001b[1;32m--> 178\u001b[1;33m             \u001b[1;32mraise\u001b[0m \u001b[0mexception\u001b[0m\u001b[1;33m\u001b[0m\u001b[1;33m\u001b[0m\u001b[0m\n\u001b[0m\u001b[0;32m    179\u001b[0m         \u001b[1;32mfinally\u001b[0m\u001b[1;33m:\u001b[0m\u001b[1;33m\u001b[0m\u001b[1;33m\u001b[0m\u001b[0m\n\u001b[0;32m    180\u001b[0m             \u001b[1;31m# credit to\u001b[0m\u001b[1;33m\u001b[0m\u001b[1;33m\u001b[0m\u001b[1;33m\u001b[0m\u001b[0m\n",
      "\u001b[1;32m~\\Anaconda3\\lib\\site-packages\\sqlalchemy\\engine\\base.py\u001b[0m in \u001b[0;36m_execute_context\u001b[1;34m(self, dialect, constructor, statement, parameters, *args)\u001b[0m\n\u001b[0;32m   1246\u001b[0m                 \u001b[1;32mif\u001b[0m \u001b[1;32mnot\u001b[0m \u001b[0mevt_handled\u001b[0m\u001b[1;33m:\u001b[0m\u001b[1;33m\u001b[0m\u001b[1;33m\u001b[0m\u001b[0m\n\u001b[0;32m   1247\u001b[0m                     self.dialect.do_execute(\n\u001b[1;32m-> 1248\u001b[1;33m                         \u001b[0mcursor\u001b[0m\u001b[1;33m,\u001b[0m \u001b[0mstatement\u001b[0m\u001b[1;33m,\u001b[0m \u001b[0mparameters\u001b[0m\u001b[1;33m,\u001b[0m \u001b[0mcontext\u001b[0m\u001b[1;33m\u001b[0m\u001b[1;33m\u001b[0m\u001b[0m\n\u001b[0m\u001b[0;32m   1249\u001b[0m                     )\n\u001b[0;32m   1250\u001b[0m \u001b[1;33m\u001b[0m\u001b[0m\n",
      "\u001b[1;32m~\\Anaconda3\\lib\\site-packages\\sqlalchemy\\engine\\default.py\u001b[0m in \u001b[0;36mdo_execute\u001b[1;34m(self, cursor, statement, parameters, context)\u001b[0m\n\u001b[0;32m    588\u001b[0m \u001b[1;33m\u001b[0m\u001b[0m\n\u001b[0;32m    589\u001b[0m     \u001b[1;32mdef\u001b[0m \u001b[0mdo_execute\u001b[0m\u001b[1;33m(\u001b[0m\u001b[0mself\u001b[0m\u001b[1;33m,\u001b[0m \u001b[0mcursor\u001b[0m\u001b[1;33m,\u001b[0m \u001b[0mstatement\u001b[0m\u001b[1;33m,\u001b[0m \u001b[0mparameters\u001b[0m\u001b[1;33m,\u001b[0m \u001b[0mcontext\u001b[0m\u001b[1;33m=\u001b[0m\u001b[1;32mNone\u001b[0m\u001b[1;33m)\u001b[0m\u001b[1;33m:\u001b[0m\u001b[1;33m\u001b[0m\u001b[1;33m\u001b[0m\u001b[0m\n\u001b[1;32m--> 590\u001b[1;33m         \u001b[0mcursor\u001b[0m\u001b[1;33m.\u001b[0m\u001b[0mexecute\u001b[0m\u001b[1;33m(\u001b[0m\u001b[0mstatement\u001b[0m\u001b[1;33m,\u001b[0m \u001b[0mparameters\u001b[0m\u001b[1;33m)\u001b[0m\u001b[1;33m\u001b[0m\u001b[1;33m\u001b[0m\u001b[0m\n\u001b[0m\u001b[0;32m    591\u001b[0m \u001b[1;33m\u001b[0m\u001b[0m\n\u001b[0;32m    592\u001b[0m     \u001b[1;32mdef\u001b[0m \u001b[0mdo_execute_no_params\u001b[0m\u001b[1;33m(\u001b[0m\u001b[0mself\u001b[0m\u001b[1;33m,\u001b[0m \u001b[0mcursor\u001b[0m\u001b[1;33m,\u001b[0m \u001b[0mstatement\u001b[0m\u001b[1;33m,\u001b[0m \u001b[0mcontext\u001b[0m\u001b[1;33m=\u001b[0m\u001b[1;32mNone\u001b[0m\u001b[1;33m)\u001b[0m\u001b[1;33m:\u001b[0m\u001b[1;33m\u001b[0m\u001b[1;33m\u001b[0m\u001b[0m\n",
      "\u001b[1;32m~\\Anaconda3\\lib\\site-packages\\pymysql\\cursors.py\u001b[0m in \u001b[0;36mexecute\u001b[1;34m(self, query, args)\u001b[0m\n\u001b[0;32m    161\u001b[0m         \u001b[0mquery\u001b[0m \u001b[1;33m=\u001b[0m \u001b[0mself\u001b[0m\u001b[1;33m.\u001b[0m\u001b[0mmogrify\u001b[0m\u001b[1;33m(\u001b[0m\u001b[0mquery\u001b[0m\u001b[1;33m,\u001b[0m \u001b[0margs\u001b[0m\u001b[1;33m)\u001b[0m\u001b[1;33m\u001b[0m\u001b[1;33m\u001b[0m\u001b[0m\n\u001b[0;32m    162\u001b[0m \u001b[1;33m\u001b[0m\u001b[0m\n\u001b[1;32m--> 163\u001b[1;33m         \u001b[0mresult\u001b[0m \u001b[1;33m=\u001b[0m \u001b[0mself\u001b[0m\u001b[1;33m.\u001b[0m\u001b[0m_query\u001b[0m\u001b[1;33m(\u001b[0m\u001b[0mquery\u001b[0m\u001b[1;33m)\u001b[0m\u001b[1;33m\u001b[0m\u001b[1;33m\u001b[0m\u001b[0m\n\u001b[0m\u001b[0;32m    164\u001b[0m         \u001b[0mself\u001b[0m\u001b[1;33m.\u001b[0m\u001b[0m_executed\u001b[0m \u001b[1;33m=\u001b[0m \u001b[0mquery\u001b[0m\u001b[1;33m\u001b[0m\u001b[1;33m\u001b[0m\u001b[0m\n\u001b[0;32m    165\u001b[0m         \u001b[1;32mreturn\u001b[0m \u001b[0mresult\u001b[0m\u001b[1;33m\u001b[0m\u001b[1;33m\u001b[0m\u001b[0m\n",
      "\u001b[1;32m~\\Anaconda3\\lib\\site-packages\\pymysql\\cursors.py\u001b[0m in \u001b[0;36m_query\u001b[1;34m(self, q)\u001b[0m\n\u001b[0;32m    319\u001b[0m         \u001b[0mself\u001b[0m\u001b[1;33m.\u001b[0m\u001b[0m_last_executed\u001b[0m \u001b[1;33m=\u001b[0m \u001b[0mq\u001b[0m\u001b[1;33m\u001b[0m\u001b[1;33m\u001b[0m\u001b[0m\n\u001b[0;32m    320\u001b[0m         \u001b[0mself\u001b[0m\u001b[1;33m.\u001b[0m\u001b[0m_clear_result\u001b[0m\u001b[1;33m(\u001b[0m\u001b[1;33m)\u001b[0m\u001b[1;33m\u001b[0m\u001b[1;33m\u001b[0m\u001b[0m\n\u001b[1;32m--> 321\u001b[1;33m         \u001b[0mconn\u001b[0m\u001b[1;33m.\u001b[0m\u001b[0mquery\u001b[0m\u001b[1;33m(\u001b[0m\u001b[0mq\u001b[0m\u001b[1;33m)\u001b[0m\u001b[1;33m\u001b[0m\u001b[1;33m\u001b[0m\u001b[0m\n\u001b[0m\u001b[0;32m    322\u001b[0m         \u001b[0mself\u001b[0m\u001b[1;33m.\u001b[0m\u001b[0m_do_get_result\u001b[0m\u001b[1;33m(\u001b[0m\u001b[1;33m)\u001b[0m\u001b[1;33m\u001b[0m\u001b[1;33m\u001b[0m\u001b[0m\n\u001b[0;32m    323\u001b[0m         \u001b[1;32mreturn\u001b[0m \u001b[0mself\u001b[0m\u001b[1;33m.\u001b[0m\u001b[0mrowcount\u001b[0m\u001b[1;33m\u001b[0m\u001b[1;33m\u001b[0m\u001b[0m\n",
      "\u001b[1;32m~\\Anaconda3\\lib\\site-packages\\pymysql\\connections.py\u001b[0m in \u001b[0;36mquery\u001b[1;34m(self, sql, unbuffered)\u001b[0m\n\u001b[0;32m    503\u001b[0m                 \u001b[0msql\u001b[0m \u001b[1;33m=\u001b[0m \u001b[0msql\u001b[0m\u001b[1;33m.\u001b[0m\u001b[0mencode\u001b[0m\u001b[1;33m(\u001b[0m\u001b[0mself\u001b[0m\u001b[1;33m.\u001b[0m\u001b[0mencoding\u001b[0m\u001b[1;33m,\u001b[0m \u001b[1;34m'surrogateescape'\u001b[0m\u001b[1;33m)\u001b[0m\u001b[1;33m\u001b[0m\u001b[1;33m\u001b[0m\u001b[0m\n\u001b[0;32m    504\u001b[0m         \u001b[0mself\u001b[0m\u001b[1;33m.\u001b[0m\u001b[0m_execute_command\u001b[0m\u001b[1;33m(\u001b[0m\u001b[0mCOMMAND\u001b[0m\u001b[1;33m.\u001b[0m\u001b[0mCOM_QUERY\u001b[0m\u001b[1;33m,\u001b[0m \u001b[0msql\u001b[0m\u001b[1;33m)\u001b[0m\u001b[1;33m\u001b[0m\u001b[1;33m\u001b[0m\u001b[0m\n\u001b[1;32m--> 505\u001b[1;33m         \u001b[0mself\u001b[0m\u001b[1;33m.\u001b[0m\u001b[0m_affected_rows\u001b[0m \u001b[1;33m=\u001b[0m \u001b[0mself\u001b[0m\u001b[1;33m.\u001b[0m\u001b[0m_read_query_result\u001b[0m\u001b[1;33m(\u001b[0m\u001b[0munbuffered\u001b[0m\u001b[1;33m=\u001b[0m\u001b[0munbuffered\u001b[0m\u001b[1;33m)\u001b[0m\u001b[1;33m\u001b[0m\u001b[1;33m\u001b[0m\u001b[0m\n\u001b[0m\u001b[0;32m    506\u001b[0m         \u001b[1;32mreturn\u001b[0m \u001b[0mself\u001b[0m\u001b[1;33m.\u001b[0m\u001b[0m_affected_rows\u001b[0m\u001b[1;33m\u001b[0m\u001b[1;33m\u001b[0m\u001b[0m\n\u001b[0;32m    507\u001b[0m \u001b[1;33m\u001b[0m\u001b[0m\n",
      "\u001b[1;32m~\\Anaconda3\\lib\\site-packages\\pymysql\\connections.py\u001b[0m in \u001b[0;36m_read_query_result\u001b[1;34m(self, unbuffered)\u001b[0m\n\u001b[0;32m    722\u001b[0m         \u001b[1;32melse\u001b[0m\u001b[1;33m:\u001b[0m\u001b[1;33m\u001b[0m\u001b[1;33m\u001b[0m\u001b[0m\n\u001b[0;32m    723\u001b[0m             \u001b[0mresult\u001b[0m \u001b[1;33m=\u001b[0m \u001b[0mMySQLResult\u001b[0m\u001b[1;33m(\u001b[0m\u001b[0mself\u001b[0m\u001b[1;33m)\u001b[0m\u001b[1;33m\u001b[0m\u001b[1;33m\u001b[0m\u001b[0m\n\u001b[1;32m--> 724\u001b[1;33m             \u001b[0mresult\u001b[0m\u001b[1;33m.\u001b[0m\u001b[0mread\u001b[0m\u001b[1;33m(\u001b[0m\u001b[1;33m)\u001b[0m\u001b[1;33m\u001b[0m\u001b[1;33m\u001b[0m\u001b[0m\n\u001b[0m\u001b[0;32m    725\u001b[0m         \u001b[0mself\u001b[0m\u001b[1;33m.\u001b[0m\u001b[0m_result\u001b[0m \u001b[1;33m=\u001b[0m \u001b[0mresult\u001b[0m\u001b[1;33m\u001b[0m\u001b[1;33m\u001b[0m\u001b[0m\n\u001b[0;32m    726\u001b[0m         \u001b[1;32mif\u001b[0m \u001b[0mresult\u001b[0m\u001b[1;33m.\u001b[0m\u001b[0mserver_status\u001b[0m \u001b[1;32mis\u001b[0m \u001b[1;32mnot\u001b[0m \u001b[1;32mNone\u001b[0m\u001b[1;33m:\u001b[0m\u001b[1;33m\u001b[0m\u001b[1;33m\u001b[0m\u001b[0m\n",
      "\u001b[1;32m~\\Anaconda3\\lib\\site-packages\\pymysql\\connections.py\u001b[0m in \u001b[0;36mread\u001b[1;34m(self)\u001b[0m\n\u001b[0;32m   1067\u001b[0m     \u001b[1;32mdef\u001b[0m \u001b[0mread\u001b[0m\u001b[1;33m(\u001b[0m\u001b[0mself\u001b[0m\u001b[1;33m)\u001b[0m\u001b[1;33m:\u001b[0m\u001b[1;33m\u001b[0m\u001b[1;33m\u001b[0m\u001b[0m\n\u001b[0;32m   1068\u001b[0m         \u001b[1;32mtry\u001b[0m\u001b[1;33m:\u001b[0m\u001b[1;33m\u001b[0m\u001b[1;33m\u001b[0m\u001b[0m\n\u001b[1;32m-> 1069\u001b[1;33m             \u001b[0mfirst_packet\u001b[0m \u001b[1;33m=\u001b[0m \u001b[0mself\u001b[0m\u001b[1;33m.\u001b[0m\u001b[0mconnection\u001b[0m\u001b[1;33m.\u001b[0m\u001b[0m_read_packet\u001b[0m\u001b[1;33m(\u001b[0m\u001b[1;33m)\u001b[0m\u001b[1;33m\u001b[0m\u001b[1;33m\u001b[0m\u001b[0m\n\u001b[0m\u001b[0;32m   1070\u001b[0m \u001b[1;33m\u001b[0m\u001b[0m\n\u001b[0;32m   1071\u001b[0m             \u001b[1;32mif\u001b[0m \u001b[0mfirst_packet\u001b[0m\u001b[1;33m.\u001b[0m\u001b[0mis_ok_packet\u001b[0m\u001b[1;33m(\u001b[0m\u001b[1;33m)\u001b[0m\u001b[1;33m:\u001b[0m\u001b[1;33m\u001b[0m\u001b[1;33m\u001b[0m\u001b[0m\n",
      "\u001b[1;32m~\\Anaconda3\\lib\\site-packages\\pymysql\\connections.py\u001b[0m in \u001b[0;36m_read_packet\u001b[1;34m(self, packet_type)\u001b[0m\n\u001b[0;32m    674\u001b[0m             \u001b[1;32mif\u001b[0m \u001b[0mself\u001b[0m\u001b[1;33m.\u001b[0m\u001b[0m_result\u001b[0m \u001b[1;32mis\u001b[0m \u001b[1;32mnot\u001b[0m \u001b[1;32mNone\u001b[0m \u001b[1;32mand\u001b[0m \u001b[0mself\u001b[0m\u001b[1;33m.\u001b[0m\u001b[0m_result\u001b[0m\u001b[1;33m.\u001b[0m\u001b[0munbuffered_active\u001b[0m \u001b[1;32mis\u001b[0m \u001b[1;32mTrue\u001b[0m\u001b[1;33m:\u001b[0m\u001b[1;33m\u001b[0m\u001b[1;33m\u001b[0m\u001b[0m\n\u001b[0;32m    675\u001b[0m                 \u001b[0mself\u001b[0m\u001b[1;33m.\u001b[0m\u001b[0m_result\u001b[0m\u001b[1;33m.\u001b[0m\u001b[0munbuffered_active\u001b[0m \u001b[1;33m=\u001b[0m \u001b[1;32mFalse\u001b[0m\u001b[1;33m\u001b[0m\u001b[1;33m\u001b[0m\u001b[0m\n\u001b[1;32m--> 676\u001b[1;33m             \u001b[0mpacket\u001b[0m\u001b[1;33m.\u001b[0m\u001b[0mraise_for_error\u001b[0m\u001b[1;33m(\u001b[0m\u001b[1;33m)\u001b[0m\u001b[1;33m\u001b[0m\u001b[1;33m\u001b[0m\u001b[0m\n\u001b[0m\u001b[0;32m    677\u001b[0m         \u001b[1;32mreturn\u001b[0m \u001b[0mpacket\u001b[0m\u001b[1;33m\u001b[0m\u001b[1;33m\u001b[0m\u001b[0m\n\u001b[0;32m    678\u001b[0m \u001b[1;33m\u001b[0m\u001b[0m\n",
      "\u001b[1;32m~\\Anaconda3\\lib\\site-packages\\pymysql\\protocol.py\u001b[0m in \u001b[0;36mraise_for_error\u001b[1;34m(self)\u001b[0m\n\u001b[0;32m    221\u001b[0m         \u001b[0merrno\u001b[0m \u001b[1;33m=\u001b[0m \u001b[0mself\u001b[0m\u001b[1;33m.\u001b[0m\u001b[0mread_uint16\u001b[0m\u001b[1;33m(\u001b[0m\u001b[1;33m)\u001b[0m\u001b[1;33m\u001b[0m\u001b[1;33m\u001b[0m\u001b[0m\n\u001b[0;32m    222\u001b[0m         \u001b[1;32mif\u001b[0m \u001b[0mDEBUG\u001b[0m\u001b[1;33m:\u001b[0m \u001b[0mprint\u001b[0m\u001b[1;33m(\u001b[0m\u001b[1;34m\"errno =\"\u001b[0m\u001b[1;33m,\u001b[0m \u001b[0merrno\u001b[0m\u001b[1;33m)\u001b[0m\u001b[1;33m\u001b[0m\u001b[1;33m\u001b[0m\u001b[0m\n\u001b[1;32m--> 223\u001b[1;33m         \u001b[0merr\u001b[0m\u001b[1;33m.\u001b[0m\u001b[0mraise_mysql_exception\u001b[0m\u001b[1;33m(\u001b[0m\u001b[0mself\u001b[0m\u001b[1;33m.\u001b[0m\u001b[0m_data\u001b[0m\u001b[1;33m)\u001b[0m\u001b[1;33m\u001b[0m\u001b[1;33m\u001b[0m\u001b[0m\n\u001b[0m\u001b[0;32m    224\u001b[0m \u001b[1;33m\u001b[0m\u001b[0m\n\u001b[0;32m    225\u001b[0m     \u001b[1;32mdef\u001b[0m \u001b[0mdump\u001b[0m\u001b[1;33m(\u001b[0m\u001b[0mself\u001b[0m\u001b[1;33m)\u001b[0m\u001b[1;33m:\u001b[0m\u001b[1;33m\u001b[0m\u001b[1;33m\u001b[0m\u001b[0m\n",
      "\u001b[1;32m~\\Anaconda3\\lib\\site-packages\\pymysql\\err.py\u001b[0m in \u001b[0;36mraise_mysql_exception\u001b[1;34m(data)\u001b[0m\n\u001b[0;32m    105\u001b[0m     \u001b[1;32mif\u001b[0m \u001b[0merrorclass\u001b[0m \u001b[1;32mis\u001b[0m \u001b[1;32mNone\u001b[0m\u001b[1;33m:\u001b[0m\u001b[1;33m\u001b[0m\u001b[1;33m\u001b[0m\u001b[0m\n\u001b[0;32m    106\u001b[0m         \u001b[0merrorclass\u001b[0m \u001b[1;33m=\u001b[0m \u001b[0mInternalError\u001b[0m \u001b[1;32mif\u001b[0m \u001b[0merrno\u001b[0m \u001b[1;33m<\u001b[0m \u001b[1;36m1000\u001b[0m \u001b[1;32melse\u001b[0m \u001b[0mOperationalError\u001b[0m\u001b[1;33m\u001b[0m\u001b[1;33m\u001b[0m\u001b[0m\n\u001b[1;32m--> 107\u001b[1;33m     \u001b[1;32mraise\u001b[0m \u001b[0merrorclass\u001b[0m\u001b[1;33m(\u001b[0m\u001b[0merrno\u001b[0m\u001b[1;33m,\u001b[0m \u001b[0merrval\u001b[0m\u001b[1;33m)\u001b[0m\u001b[1;33m\u001b[0m\u001b[1;33m\u001b[0m\u001b[0m\n\u001b[0m",
      "\u001b[1;31mProgrammingError\u001b[0m: (pymysql.err.ProgrammingError) (1064, \"You have an error in your SQL syntax; check the manual that corresponds to your MariaDB server version for the right syntax to use near 'WHERE NOT (EXISTS (SELECT user_info.puuid \\nFROM user_info \\nWHERE user_info.puuid' at line 2\")\n[SQL: INSERT INTO user_info (puuid, summoner_id, summoner_username) SELECT %(param_1)s AS anon_1, %(param_2)s AS anon_2, %(param_3)s AS anon_3 \nWHERE NOT (EXISTS (SELECT user_info.puuid \nFROM user_info \nWHERE user_info.puuid = %(puuid_1)s))]\n[parameters: {'param_1': '7', 'param_2': 'A', 'param_3': 'AA', 'puuid_1': '7'}]\n(Background on this error at: http://sqlalche.me/e/f405)"
     ]
    }
   ],
   "source": [
    "# sel = select([literal(\"1\"), literal(\"John\")]).where(\n",
    "#            ~exists([example_table.c.id]).where(example_table.c.id == 1)\n",
    "#       )\n",
    "sel = db.select([db.literal('7'), db.literal('A'), db.literal('AA')]).where(\n",
    "           ~db.exists([user_info.c.puuid]).where(user_info.c.puuid == '7')\n",
    "      )\n",
    "\n",
    "ins = user_info.insert().from_select(['puuid', 'summoner_id','summoner_username'], sel)\n",
    "#print(ins)\n",
    "conn.execute(ins)\n",
    "#possibly would need to have single inserts that could break, or someway to handle itegrity errors per each of the multiple\n",
    "#or some session merge thing\n",
    "\n",
    "\n"
   ]
  },
  {
   "cell_type": "code",
   "execution_count": 41,
   "metadata": {},
   "outputs": [
    {
     "name": "stdout",
     "output_type": "stream",
     "text": [
      "2020-11-30 20:39:11,814 INFO sqlalchemy.engine.base.Engine DELETE FROM user_info\n",
      "2020-11-30 20:39:11,815 INFO sqlalchemy.engine.base.Engine {}\n",
      "2020-11-30 20:39:11,816 INFO sqlalchemy.engine.base.Engine COMMIT\n"
     ]
    },
    {
     "data": {
      "text/plain": [
       "<sqlalchemy.engine.result.ResultProxy at 0x20f983a39e8>"
      ]
     },
     "execution_count": 41,
     "metadata": {},
     "output_type": "execute_result"
    }
   ],
   "source": [
    "conn.execute(user_info.delete())"
   ]
  },
  {
   "cell_type": "code",
   "execution_count": null,
   "metadata": {},
   "outputs": [
    {
     "name": "stdout",
     "output_type": "stream",
     "text": [
      "2020-11-30 20:43:18,498 INFO sqlalchemy.engine.base.Engine \n",
      "DROP TABLE user_info\n",
      "2020-11-30 20:43:18,498 INFO sqlalchemy.engine.base.Engine {}\n"
     ]
    }
   ],
   "source": [
    "user_info.drop(engine)"
   ]
  },
  {
   "cell_type": "code",
   "execution_count": 33,
   "metadata": {},
   "outputs": [
    {
     "name": "stdout",
     "output_type": "stream",
     "text": [
      "INSERT INTO example_table (id, name) SELECT :param_1 AS anon_1, :param_2 AS anon_2 \n",
      "WHERE NOT (EXISTS (SELECT example_table.id \n",
      "FROM example_table \n",
      "WHERE example_table.id = :id_1))\n",
      "2020-12-01 19:49:49,518 INFO sqlalchemy.engine.base.Engine INSERT INTO example_table (id, name) SELECT %(param_1)s AS anon_1, %(param_2)s AS anon_2 \n",
      "WHERE NOT (EXISTS (SELECT example_table.id \n",
      "FROM example_table \n",
      "WHERE example_table.id = %(id_1)s))\n",
      "2020-12-01 19:49:49,519 INFO sqlalchemy.engine.base.Engine {'param_1': '1', 'param_2': 'John', 'id_1': 1}\n",
      "2020-12-01 19:49:49,521 INFO sqlalchemy.engine.base.Engine ROLLBACK\n"
     ]
    },
    {
     "ename": "ProgrammingError",
     "evalue": "(pymysql.err.ProgrammingError) (1064, \"You have an error in your SQL syntax; check the manual that corresponds to your MariaDB server version for the right syntax to use near 'WHERE NOT (EXISTS (SELECT example_table.id \\nFROM example_table \\nWHERE example_ta' at line 2\")\n[SQL: INSERT INTO example_table (id, name) SELECT %(param_1)s AS anon_1, %(param_2)s AS anon_2 \nWHERE NOT (EXISTS (SELECT example_table.id \nFROM example_table \nWHERE example_table.id = %(id_1)s))]\n[parameters: {'param_1': '1', 'param_2': 'John', 'id_1': 1}]\n(Background on this error at: http://sqlalche.me/e/f405)",
     "output_type": "error",
     "traceback": [
      "\u001b[1;31m---------------------------------------------------------------------------\u001b[0m",
      "\u001b[1;31mProgrammingError\u001b[0m                          Traceback (most recent call last)",
      "\u001b[1;32m~\\Anaconda3\\lib\\site-packages\\sqlalchemy\\engine\\base.py\u001b[0m in \u001b[0;36m_execute_context\u001b[1;34m(self, dialect, constructor, statement, parameters, *args)\u001b[0m\n\u001b[0;32m   1247\u001b[0m                     self.dialect.do_execute(\n\u001b[1;32m-> 1248\u001b[1;33m                         \u001b[0mcursor\u001b[0m\u001b[1;33m,\u001b[0m \u001b[0mstatement\u001b[0m\u001b[1;33m,\u001b[0m \u001b[0mparameters\u001b[0m\u001b[1;33m,\u001b[0m \u001b[0mcontext\u001b[0m\u001b[1;33m\u001b[0m\u001b[1;33m\u001b[0m\u001b[0m\n\u001b[0m\u001b[0;32m   1249\u001b[0m                     )\n",
      "\u001b[1;32m~\\Anaconda3\\lib\\site-packages\\sqlalchemy\\engine\\default.py\u001b[0m in \u001b[0;36mdo_execute\u001b[1;34m(self, cursor, statement, parameters, context)\u001b[0m\n\u001b[0;32m    589\u001b[0m     \u001b[1;32mdef\u001b[0m \u001b[0mdo_execute\u001b[0m\u001b[1;33m(\u001b[0m\u001b[0mself\u001b[0m\u001b[1;33m,\u001b[0m \u001b[0mcursor\u001b[0m\u001b[1;33m,\u001b[0m \u001b[0mstatement\u001b[0m\u001b[1;33m,\u001b[0m \u001b[0mparameters\u001b[0m\u001b[1;33m,\u001b[0m \u001b[0mcontext\u001b[0m\u001b[1;33m=\u001b[0m\u001b[1;32mNone\u001b[0m\u001b[1;33m)\u001b[0m\u001b[1;33m:\u001b[0m\u001b[1;33m\u001b[0m\u001b[1;33m\u001b[0m\u001b[0m\n\u001b[1;32m--> 590\u001b[1;33m         \u001b[0mcursor\u001b[0m\u001b[1;33m.\u001b[0m\u001b[0mexecute\u001b[0m\u001b[1;33m(\u001b[0m\u001b[0mstatement\u001b[0m\u001b[1;33m,\u001b[0m \u001b[0mparameters\u001b[0m\u001b[1;33m)\u001b[0m\u001b[1;33m\u001b[0m\u001b[1;33m\u001b[0m\u001b[0m\n\u001b[0m\u001b[0;32m    591\u001b[0m \u001b[1;33m\u001b[0m\u001b[0m\n",
      "\u001b[1;32m~\\Anaconda3\\lib\\site-packages\\pymysql\\cursors.py\u001b[0m in \u001b[0;36mexecute\u001b[1;34m(self, query, args)\u001b[0m\n\u001b[0;32m    162\u001b[0m \u001b[1;33m\u001b[0m\u001b[0m\n\u001b[1;32m--> 163\u001b[1;33m         \u001b[0mresult\u001b[0m \u001b[1;33m=\u001b[0m \u001b[0mself\u001b[0m\u001b[1;33m.\u001b[0m\u001b[0m_query\u001b[0m\u001b[1;33m(\u001b[0m\u001b[0mquery\u001b[0m\u001b[1;33m)\u001b[0m\u001b[1;33m\u001b[0m\u001b[1;33m\u001b[0m\u001b[0m\n\u001b[0m\u001b[0;32m    164\u001b[0m         \u001b[0mself\u001b[0m\u001b[1;33m.\u001b[0m\u001b[0m_executed\u001b[0m \u001b[1;33m=\u001b[0m \u001b[0mquery\u001b[0m\u001b[1;33m\u001b[0m\u001b[1;33m\u001b[0m\u001b[0m\n",
      "\u001b[1;32m~\\Anaconda3\\lib\\site-packages\\pymysql\\cursors.py\u001b[0m in \u001b[0;36m_query\u001b[1;34m(self, q)\u001b[0m\n\u001b[0;32m    320\u001b[0m         \u001b[0mself\u001b[0m\u001b[1;33m.\u001b[0m\u001b[0m_clear_result\u001b[0m\u001b[1;33m(\u001b[0m\u001b[1;33m)\u001b[0m\u001b[1;33m\u001b[0m\u001b[1;33m\u001b[0m\u001b[0m\n\u001b[1;32m--> 321\u001b[1;33m         \u001b[0mconn\u001b[0m\u001b[1;33m.\u001b[0m\u001b[0mquery\u001b[0m\u001b[1;33m(\u001b[0m\u001b[0mq\u001b[0m\u001b[1;33m)\u001b[0m\u001b[1;33m\u001b[0m\u001b[1;33m\u001b[0m\u001b[0m\n\u001b[0m\u001b[0;32m    322\u001b[0m         \u001b[0mself\u001b[0m\u001b[1;33m.\u001b[0m\u001b[0m_do_get_result\u001b[0m\u001b[1;33m(\u001b[0m\u001b[1;33m)\u001b[0m\u001b[1;33m\u001b[0m\u001b[1;33m\u001b[0m\u001b[0m\n",
      "\u001b[1;32m~\\Anaconda3\\lib\\site-packages\\pymysql\\connections.py\u001b[0m in \u001b[0;36mquery\u001b[1;34m(self, sql, unbuffered)\u001b[0m\n\u001b[0;32m    504\u001b[0m         \u001b[0mself\u001b[0m\u001b[1;33m.\u001b[0m\u001b[0m_execute_command\u001b[0m\u001b[1;33m(\u001b[0m\u001b[0mCOMMAND\u001b[0m\u001b[1;33m.\u001b[0m\u001b[0mCOM_QUERY\u001b[0m\u001b[1;33m,\u001b[0m \u001b[0msql\u001b[0m\u001b[1;33m)\u001b[0m\u001b[1;33m\u001b[0m\u001b[1;33m\u001b[0m\u001b[0m\n\u001b[1;32m--> 505\u001b[1;33m         \u001b[0mself\u001b[0m\u001b[1;33m.\u001b[0m\u001b[0m_affected_rows\u001b[0m \u001b[1;33m=\u001b[0m \u001b[0mself\u001b[0m\u001b[1;33m.\u001b[0m\u001b[0m_read_query_result\u001b[0m\u001b[1;33m(\u001b[0m\u001b[0munbuffered\u001b[0m\u001b[1;33m=\u001b[0m\u001b[0munbuffered\u001b[0m\u001b[1;33m)\u001b[0m\u001b[1;33m\u001b[0m\u001b[1;33m\u001b[0m\u001b[0m\n\u001b[0m\u001b[0;32m    506\u001b[0m         \u001b[1;32mreturn\u001b[0m \u001b[0mself\u001b[0m\u001b[1;33m.\u001b[0m\u001b[0m_affected_rows\u001b[0m\u001b[1;33m\u001b[0m\u001b[1;33m\u001b[0m\u001b[0m\n",
      "\u001b[1;32m~\\Anaconda3\\lib\\site-packages\\pymysql\\connections.py\u001b[0m in \u001b[0;36m_read_query_result\u001b[1;34m(self, unbuffered)\u001b[0m\n\u001b[0;32m    723\u001b[0m             \u001b[0mresult\u001b[0m \u001b[1;33m=\u001b[0m \u001b[0mMySQLResult\u001b[0m\u001b[1;33m(\u001b[0m\u001b[0mself\u001b[0m\u001b[1;33m)\u001b[0m\u001b[1;33m\u001b[0m\u001b[1;33m\u001b[0m\u001b[0m\n\u001b[1;32m--> 724\u001b[1;33m             \u001b[0mresult\u001b[0m\u001b[1;33m.\u001b[0m\u001b[0mread\u001b[0m\u001b[1;33m(\u001b[0m\u001b[1;33m)\u001b[0m\u001b[1;33m\u001b[0m\u001b[1;33m\u001b[0m\u001b[0m\n\u001b[0m\u001b[0;32m    725\u001b[0m         \u001b[0mself\u001b[0m\u001b[1;33m.\u001b[0m\u001b[0m_result\u001b[0m \u001b[1;33m=\u001b[0m \u001b[0mresult\u001b[0m\u001b[1;33m\u001b[0m\u001b[1;33m\u001b[0m\u001b[0m\n",
      "\u001b[1;32m~\\Anaconda3\\lib\\site-packages\\pymysql\\connections.py\u001b[0m in \u001b[0;36mread\u001b[1;34m(self)\u001b[0m\n\u001b[0;32m   1068\u001b[0m         \u001b[1;32mtry\u001b[0m\u001b[1;33m:\u001b[0m\u001b[1;33m\u001b[0m\u001b[1;33m\u001b[0m\u001b[0m\n\u001b[1;32m-> 1069\u001b[1;33m             \u001b[0mfirst_packet\u001b[0m \u001b[1;33m=\u001b[0m \u001b[0mself\u001b[0m\u001b[1;33m.\u001b[0m\u001b[0mconnection\u001b[0m\u001b[1;33m.\u001b[0m\u001b[0m_read_packet\u001b[0m\u001b[1;33m(\u001b[0m\u001b[1;33m)\u001b[0m\u001b[1;33m\u001b[0m\u001b[1;33m\u001b[0m\u001b[0m\n\u001b[0m\u001b[0;32m   1070\u001b[0m \u001b[1;33m\u001b[0m\u001b[0m\n",
      "\u001b[1;32m~\\Anaconda3\\lib\\site-packages\\pymysql\\connections.py\u001b[0m in \u001b[0;36m_read_packet\u001b[1;34m(self, packet_type)\u001b[0m\n\u001b[0;32m    675\u001b[0m                 \u001b[0mself\u001b[0m\u001b[1;33m.\u001b[0m\u001b[0m_result\u001b[0m\u001b[1;33m.\u001b[0m\u001b[0munbuffered_active\u001b[0m \u001b[1;33m=\u001b[0m \u001b[1;32mFalse\u001b[0m\u001b[1;33m\u001b[0m\u001b[1;33m\u001b[0m\u001b[0m\n\u001b[1;32m--> 676\u001b[1;33m             \u001b[0mpacket\u001b[0m\u001b[1;33m.\u001b[0m\u001b[0mraise_for_error\u001b[0m\u001b[1;33m(\u001b[0m\u001b[1;33m)\u001b[0m\u001b[1;33m\u001b[0m\u001b[1;33m\u001b[0m\u001b[0m\n\u001b[0m\u001b[0;32m    677\u001b[0m         \u001b[1;32mreturn\u001b[0m \u001b[0mpacket\u001b[0m\u001b[1;33m\u001b[0m\u001b[1;33m\u001b[0m\u001b[0m\n",
      "\u001b[1;32m~\\Anaconda3\\lib\\site-packages\\pymysql\\protocol.py\u001b[0m in \u001b[0;36mraise_for_error\u001b[1;34m(self)\u001b[0m\n\u001b[0;32m    222\u001b[0m         \u001b[1;32mif\u001b[0m \u001b[0mDEBUG\u001b[0m\u001b[1;33m:\u001b[0m \u001b[0mprint\u001b[0m\u001b[1;33m(\u001b[0m\u001b[1;34m\"errno =\"\u001b[0m\u001b[1;33m,\u001b[0m \u001b[0merrno\u001b[0m\u001b[1;33m)\u001b[0m\u001b[1;33m\u001b[0m\u001b[1;33m\u001b[0m\u001b[0m\n\u001b[1;32m--> 223\u001b[1;33m         \u001b[0merr\u001b[0m\u001b[1;33m.\u001b[0m\u001b[0mraise_mysql_exception\u001b[0m\u001b[1;33m(\u001b[0m\u001b[0mself\u001b[0m\u001b[1;33m.\u001b[0m\u001b[0m_data\u001b[0m\u001b[1;33m)\u001b[0m\u001b[1;33m\u001b[0m\u001b[1;33m\u001b[0m\u001b[0m\n\u001b[0m\u001b[0;32m    224\u001b[0m \u001b[1;33m\u001b[0m\u001b[0m\n",
      "\u001b[1;32m~\\Anaconda3\\lib\\site-packages\\pymysql\\err.py\u001b[0m in \u001b[0;36mraise_mysql_exception\u001b[1;34m(data)\u001b[0m\n\u001b[0;32m    106\u001b[0m         \u001b[0merrorclass\u001b[0m \u001b[1;33m=\u001b[0m \u001b[0mInternalError\u001b[0m \u001b[1;32mif\u001b[0m \u001b[0merrno\u001b[0m \u001b[1;33m<\u001b[0m \u001b[1;36m1000\u001b[0m \u001b[1;32melse\u001b[0m \u001b[0mOperationalError\u001b[0m\u001b[1;33m\u001b[0m\u001b[1;33m\u001b[0m\u001b[0m\n\u001b[1;32m--> 107\u001b[1;33m     \u001b[1;32mraise\u001b[0m \u001b[0merrorclass\u001b[0m\u001b[1;33m(\u001b[0m\u001b[0merrno\u001b[0m\u001b[1;33m,\u001b[0m \u001b[0merrval\u001b[0m\u001b[1;33m)\u001b[0m\u001b[1;33m\u001b[0m\u001b[1;33m\u001b[0m\u001b[0m\n\u001b[0m",
      "\u001b[1;31mProgrammingError\u001b[0m: (1064, \"You have an error in your SQL syntax; check the manual that corresponds to your MariaDB server version for the right syntax to use near 'WHERE NOT (EXISTS (SELECT example_table.id \\nFROM example_table \\nWHERE example_ta' at line 2\")",
      "\nThe above exception was the direct cause of the following exception:\n",
      "\u001b[1;31mProgrammingError\u001b[0m                          Traceback (most recent call last)",
      "\u001b[1;32m<ipython-input-33-6431c7305e87>\u001b[0m in \u001b[0;36m<module>\u001b[1;34m\u001b[0m\n\u001b[0;32m     12\u001b[0m \u001b[0mins\u001b[0m \u001b[1;33m=\u001b[0m \u001b[0mexample_table\u001b[0m\u001b[1;33m.\u001b[0m\u001b[0minsert\u001b[0m\u001b[1;33m(\u001b[0m\u001b[1;33m)\u001b[0m\u001b[1;33m.\u001b[0m\u001b[0mfrom_select\u001b[0m\u001b[1;33m(\u001b[0m\u001b[1;33m[\u001b[0m\u001b[1;34m\"id\"\u001b[0m\u001b[1;33m,\u001b[0m \u001b[1;34m\"name\"\u001b[0m\u001b[1;33m]\u001b[0m\u001b[1;33m,\u001b[0m \u001b[0msel\u001b[0m\u001b[1;33m)\u001b[0m\u001b[1;33m\u001b[0m\u001b[1;33m\u001b[0m\u001b[0m\n\u001b[0;32m     13\u001b[0m \u001b[0mprint\u001b[0m\u001b[1;33m(\u001b[0m\u001b[0mins\u001b[0m\u001b[1;33m)\u001b[0m\u001b[1;33m\u001b[0m\u001b[1;33m\u001b[0m\u001b[0m\n\u001b[1;32m---> 14\u001b[1;33m \u001b[0mconn\u001b[0m\u001b[1;33m.\u001b[0m\u001b[0mexecute\u001b[0m\u001b[1;33m(\u001b[0m\u001b[0mins\u001b[0m\u001b[1;33m)\u001b[0m\u001b[1;33m\u001b[0m\u001b[1;33m\u001b[0m\u001b[0m\n\u001b[0m",
      "\u001b[1;32m~\\Anaconda3\\lib\\site-packages\\sqlalchemy\\engine\\base.py\u001b[0m in \u001b[0;36mexecute\u001b[1;34m(self, object_, *multiparams, **params)\u001b[0m\n\u001b[0;32m    982\u001b[0m             )\n\u001b[0;32m    983\u001b[0m         \u001b[1;32melse\u001b[0m\u001b[1;33m:\u001b[0m\u001b[1;33m\u001b[0m\u001b[1;33m\u001b[0m\u001b[0m\n\u001b[1;32m--> 984\u001b[1;33m             \u001b[1;32mreturn\u001b[0m \u001b[0mmeth\u001b[0m\u001b[1;33m(\u001b[0m\u001b[0mself\u001b[0m\u001b[1;33m,\u001b[0m \u001b[0mmultiparams\u001b[0m\u001b[1;33m,\u001b[0m \u001b[0mparams\u001b[0m\u001b[1;33m)\u001b[0m\u001b[1;33m\u001b[0m\u001b[1;33m\u001b[0m\u001b[0m\n\u001b[0m\u001b[0;32m    985\u001b[0m \u001b[1;33m\u001b[0m\u001b[0m\n\u001b[0;32m    986\u001b[0m     \u001b[1;32mdef\u001b[0m \u001b[0m_execute_function\u001b[0m\u001b[1;33m(\u001b[0m\u001b[0mself\u001b[0m\u001b[1;33m,\u001b[0m \u001b[0mfunc\u001b[0m\u001b[1;33m,\u001b[0m \u001b[0mmultiparams\u001b[0m\u001b[1;33m,\u001b[0m \u001b[0mparams\u001b[0m\u001b[1;33m)\u001b[0m\u001b[1;33m:\u001b[0m\u001b[1;33m\u001b[0m\u001b[1;33m\u001b[0m\u001b[0m\n",
      "\u001b[1;32m~\\Anaconda3\\lib\\site-packages\\sqlalchemy\\sql\\elements.py\u001b[0m in \u001b[0;36m_execute_on_connection\u001b[1;34m(self, connection, multiparams, params)\u001b[0m\n\u001b[0;32m    291\u001b[0m     \u001b[1;32mdef\u001b[0m \u001b[0m_execute_on_connection\u001b[0m\u001b[1;33m(\u001b[0m\u001b[0mself\u001b[0m\u001b[1;33m,\u001b[0m \u001b[0mconnection\u001b[0m\u001b[1;33m,\u001b[0m \u001b[0mmultiparams\u001b[0m\u001b[1;33m,\u001b[0m \u001b[0mparams\u001b[0m\u001b[1;33m)\u001b[0m\u001b[1;33m:\u001b[0m\u001b[1;33m\u001b[0m\u001b[1;33m\u001b[0m\u001b[0m\n\u001b[0;32m    292\u001b[0m         \u001b[1;32mif\u001b[0m \u001b[0mself\u001b[0m\u001b[1;33m.\u001b[0m\u001b[0msupports_execution\u001b[0m\u001b[1;33m:\u001b[0m\u001b[1;33m\u001b[0m\u001b[1;33m\u001b[0m\u001b[0m\n\u001b[1;32m--> 293\u001b[1;33m             \u001b[1;32mreturn\u001b[0m \u001b[0mconnection\u001b[0m\u001b[1;33m.\u001b[0m\u001b[0m_execute_clauseelement\u001b[0m\u001b[1;33m(\u001b[0m\u001b[0mself\u001b[0m\u001b[1;33m,\u001b[0m \u001b[0mmultiparams\u001b[0m\u001b[1;33m,\u001b[0m \u001b[0mparams\u001b[0m\u001b[1;33m)\u001b[0m\u001b[1;33m\u001b[0m\u001b[1;33m\u001b[0m\u001b[0m\n\u001b[0m\u001b[0;32m    294\u001b[0m         \u001b[1;32melse\u001b[0m\u001b[1;33m:\u001b[0m\u001b[1;33m\u001b[0m\u001b[1;33m\u001b[0m\u001b[0m\n\u001b[0;32m    295\u001b[0m             \u001b[1;32mraise\u001b[0m \u001b[0mexc\u001b[0m\u001b[1;33m.\u001b[0m\u001b[0mObjectNotExecutableError\u001b[0m\u001b[1;33m(\u001b[0m\u001b[0mself\u001b[0m\u001b[1;33m)\u001b[0m\u001b[1;33m\u001b[0m\u001b[1;33m\u001b[0m\u001b[0m\n",
      "\u001b[1;32m~\\Anaconda3\\lib\\site-packages\\sqlalchemy\\engine\\base.py\u001b[0m in \u001b[0;36m_execute_clauseelement\u001b[1;34m(self, elem, multiparams, params)\u001b[0m\n\u001b[0;32m   1101\u001b[0m             \u001b[0mdistilled_params\u001b[0m\u001b[1;33m,\u001b[0m\u001b[1;33m\u001b[0m\u001b[1;33m\u001b[0m\u001b[0m\n\u001b[0;32m   1102\u001b[0m             \u001b[0mcompiled_sql\u001b[0m\u001b[1;33m,\u001b[0m\u001b[1;33m\u001b[0m\u001b[1;33m\u001b[0m\u001b[0m\n\u001b[1;32m-> 1103\u001b[1;33m             \u001b[0mdistilled_params\u001b[0m\u001b[1;33m,\u001b[0m\u001b[1;33m\u001b[0m\u001b[1;33m\u001b[0m\u001b[0m\n\u001b[0m\u001b[0;32m   1104\u001b[0m         )\n\u001b[0;32m   1105\u001b[0m         \u001b[1;32mif\u001b[0m \u001b[0mself\u001b[0m\u001b[1;33m.\u001b[0m\u001b[0m_has_events\u001b[0m \u001b[1;32mor\u001b[0m \u001b[0mself\u001b[0m\u001b[1;33m.\u001b[0m\u001b[0mengine\u001b[0m\u001b[1;33m.\u001b[0m\u001b[0m_has_events\u001b[0m\u001b[1;33m:\u001b[0m\u001b[1;33m\u001b[0m\u001b[1;33m\u001b[0m\u001b[0m\n",
      "\u001b[1;32m~\\Anaconda3\\lib\\site-packages\\sqlalchemy\\engine\\base.py\u001b[0m in \u001b[0;36m_execute_context\u001b[1;34m(self, dialect, constructor, statement, parameters, *args)\u001b[0m\n\u001b[0;32m   1286\u001b[0m         \u001b[1;32mexcept\u001b[0m \u001b[0mBaseException\u001b[0m \u001b[1;32mas\u001b[0m \u001b[0me\u001b[0m\u001b[1;33m:\u001b[0m\u001b[1;33m\u001b[0m\u001b[1;33m\u001b[0m\u001b[0m\n\u001b[0;32m   1287\u001b[0m             self._handle_dbapi_exception(\n\u001b[1;32m-> 1288\u001b[1;33m                 \u001b[0me\u001b[0m\u001b[1;33m,\u001b[0m \u001b[0mstatement\u001b[0m\u001b[1;33m,\u001b[0m \u001b[0mparameters\u001b[0m\u001b[1;33m,\u001b[0m \u001b[0mcursor\u001b[0m\u001b[1;33m,\u001b[0m \u001b[0mcontext\u001b[0m\u001b[1;33m\u001b[0m\u001b[1;33m\u001b[0m\u001b[0m\n\u001b[0m\u001b[0;32m   1289\u001b[0m             )\n\u001b[0;32m   1290\u001b[0m \u001b[1;33m\u001b[0m\u001b[0m\n",
      "\u001b[1;32m~\\Anaconda3\\lib\\site-packages\\sqlalchemy\\engine\\base.py\u001b[0m in \u001b[0;36m_handle_dbapi_exception\u001b[1;34m(self, e, statement, parameters, cursor, context)\u001b[0m\n\u001b[0;32m   1480\u001b[0m             \u001b[1;32melif\u001b[0m \u001b[0mshould_wrap\u001b[0m\u001b[1;33m:\u001b[0m\u001b[1;33m\u001b[0m\u001b[1;33m\u001b[0m\u001b[0m\n\u001b[0;32m   1481\u001b[0m                 util.raise_(\n\u001b[1;32m-> 1482\u001b[1;33m                     \u001b[0msqlalchemy_exception\u001b[0m\u001b[1;33m,\u001b[0m \u001b[0mwith_traceback\u001b[0m\u001b[1;33m=\u001b[0m\u001b[0mexc_info\u001b[0m\u001b[1;33m[\u001b[0m\u001b[1;36m2\u001b[0m\u001b[1;33m]\u001b[0m\u001b[1;33m,\u001b[0m \u001b[0mfrom_\u001b[0m\u001b[1;33m=\u001b[0m\u001b[0me\u001b[0m\u001b[1;33m\u001b[0m\u001b[1;33m\u001b[0m\u001b[0m\n\u001b[0m\u001b[0;32m   1483\u001b[0m                 )\n\u001b[0;32m   1484\u001b[0m             \u001b[1;32melse\u001b[0m\u001b[1;33m:\u001b[0m\u001b[1;33m\u001b[0m\u001b[1;33m\u001b[0m\u001b[0m\n",
      "\u001b[1;32m~\\Anaconda3\\lib\\site-packages\\sqlalchemy\\util\\compat.py\u001b[0m in \u001b[0;36mraise_\u001b[1;34m(***failed resolving arguments***)\u001b[0m\n\u001b[0;32m    176\u001b[0m \u001b[1;33m\u001b[0m\u001b[0m\n\u001b[0;32m    177\u001b[0m         \u001b[1;32mtry\u001b[0m\u001b[1;33m:\u001b[0m\u001b[1;33m\u001b[0m\u001b[1;33m\u001b[0m\u001b[0m\n\u001b[1;32m--> 178\u001b[1;33m             \u001b[1;32mraise\u001b[0m \u001b[0mexception\u001b[0m\u001b[1;33m\u001b[0m\u001b[1;33m\u001b[0m\u001b[0m\n\u001b[0m\u001b[0;32m    179\u001b[0m         \u001b[1;32mfinally\u001b[0m\u001b[1;33m:\u001b[0m\u001b[1;33m\u001b[0m\u001b[1;33m\u001b[0m\u001b[0m\n\u001b[0;32m    180\u001b[0m             \u001b[1;31m# credit to\u001b[0m\u001b[1;33m\u001b[0m\u001b[1;33m\u001b[0m\u001b[1;33m\u001b[0m\u001b[0m\n",
      "\u001b[1;32m~\\Anaconda3\\lib\\site-packages\\sqlalchemy\\engine\\base.py\u001b[0m in \u001b[0;36m_execute_context\u001b[1;34m(self, dialect, constructor, statement, parameters, *args)\u001b[0m\n\u001b[0;32m   1246\u001b[0m                 \u001b[1;32mif\u001b[0m \u001b[1;32mnot\u001b[0m \u001b[0mevt_handled\u001b[0m\u001b[1;33m:\u001b[0m\u001b[1;33m\u001b[0m\u001b[1;33m\u001b[0m\u001b[0m\n\u001b[0;32m   1247\u001b[0m                     self.dialect.do_execute(\n\u001b[1;32m-> 1248\u001b[1;33m                         \u001b[0mcursor\u001b[0m\u001b[1;33m,\u001b[0m \u001b[0mstatement\u001b[0m\u001b[1;33m,\u001b[0m \u001b[0mparameters\u001b[0m\u001b[1;33m,\u001b[0m \u001b[0mcontext\u001b[0m\u001b[1;33m\u001b[0m\u001b[1;33m\u001b[0m\u001b[0m\n\u001b[0m\u001b[0;32m   1249\u001b[0m                     )\n\u001b[0;32m   1250\u001b[0m \u001b[1;33m\u001b[0m\u001b[0m\n",
      "\u001b[1;32m~\\Anaconda3\\lib\\site-packages\\sqlalchemy\\engine\\default.py\u001b[0m in \u001b[0;36mdo_execute\u001b[1;34m(self, cursor, statement, parameters, context)\u001b[0m\n\u001b[0;32m    588\u001b[0m \u001b[1;33m\u001b[0m\u001b[0m\n\u001b[0;32m    589\u001b[0m     \u001b[1;32mdef\u001b[0m \u001b[0mdo_execute\u001b[0m\u001b[1;33m(\u001b[0m\u001b[0mself\u001b[0m\u001b[1;33m,\u001b[0m \u001b[0mcursor\u001b[0m\u001b[1;33m,\u001b[0m \u001b[0mstatement\u001b[0m\u001b[1;33m,\u001b[0m \u001b[0mparameters\u001b[0m\u001b[1;33m,\u001b[0m \u001b[0mcontext\u001b[0m\u001b[1;33m=\u001b[0m\u001b[1;32mNone\u001b[0m\u001b[1;33m)\u001b[0m\u001b[1;33m:\u001b[0m\u001b[1;33m\u001b[0m\u001b[1;33m\u001b[0m\u001b[0m\n\u001b[1;32m--> 590\u001b[1;33m         \u001b[0mcursor\u001b[0m\u001b[1;33m.\u001b[0m\u001b[0mexecute\u001b[0m\u001b[1;33m(\u001b[0m\u001b[0mstatement\u001b[0m\u001b[1;33m,\u001b[0m \u001b[0mparameters\u001b[0m\u001b[1;33m)\u001b[0m\u001b[1;33m\u001b[0m\u001b[1;33m\u001b[0m\u001b[0m\n\u001b[0m\u001b[0;32m    591\u001b[0m \u001b[1;33m\u001b[0m\u001b[0m\n\u001b[0;32m    592\u001b[0m     \u001b[1;32mdef\u001b[0m \u001b[0mdo_execute_no_params\u001b[0m\u001b[1;33m(\u001b[0m\u001b[0mself\u001b[0m\u001b[1;33m,\u001b[0m \u001b[0mcursor\u001b[0m\u001b[1;33m,\u001b[0m \u001b[0mstatement\u001b[0m\u001b[1;33m,\u001b[0m \u001b[0mcontext\u001b[0m\u001b[1;33m=\u001b[0m\u001b[1;32mNone\u001b[0m\u001b[1;33m)\u001b[0m\u001b[1;33m:\u001b[0m\u001b[1;33m\u001b[0m\u001b[1;33m\u001b[0m\u001b[0m\n",
      "\u001b[1;32m~\\Anaconda3\\lib\\site-packages\\pymysql\\cursors.py\u001b[0m in \u001b[0;36mexecute\u001b[1;34m(self, query, args)\u001b[0m\n\u001b[0;32m    161\u001b[0m         \u001b[0mquery\u001b[0m \u001b[1;33m=\u001b[0m \u001b[0mself\u001b[0m\u001b[1;33m.\u001b[0m\u001b[0mmogrify\u001b[0m\u001b[1;33m(\u001b[0m\u001b[0mquery\u001b[0m\u001b[1;33m,\u001b[0m \u001b[0margs\u001b[0m\u001b[1;33m)\u001b[0m\u001b[1;33m\u001b[0m\u001b[1;33m\u001b[0m\u001b[0m\n\u001b[0;32m    162\u001b[0m \u001b[1;33m\u001b[0m\u001b[0m\n\u001b[1;32m--> 163\u001b[1;33m         \u001b[0mresult\u001b[0m \u001b[1;33m=\u001b[0m \u001b[0mself\u001b[0m\u001b[1;33m.\u001b[0m\u001b[0m_query\u001b[0m\u001b[1;33m(\u001b[0m\u001b[0mquery\u001b[0m\u001b[1;33m)\u001b[0m\u001b[1;33m\u001b[0m\u001b[1;33m\u001b[0m\u001b[0m\n\u001b[0m\u001b[0;32m    164\u001b[0m         \u001b[0mself\u001b[0m\u001b[1;33m.\u001b[0m\u001b[0m_executed\u001b[0m \u001b[1;33m=\u001b[0m \u001b[0mquery\u001b[0m\u001b[1;33m\u001b[0m\u001b[1;33m\u001b[0m\u001b[0m\n\u001b[0;32m    165\u001b[0m         \u001b[1;32mreturn\u001b[0m \u001b[0mresult\u001b[0m\u001b[1;33m\u001b[0m\u001b[1;33m\u001b[0m\u001b[0m\n",
      "\u001b[1;32m~\\Anaconda3\\lib\\site-packages\\pymysql\\cursors.py\u001b[0m in \u001b[0;36m_query\u001b[1;34m(self, q)\u001b[0m\n\u001b[0;32m    319\u001b[0m         \u001b[0mself\u001b[0m\u001b[1;33m.\u001b[0m\u001b[0m_last_executed\u001b[0m \u001b[1;33m=\u001b[0m \u001b[0mq\u001b[0m\u001b[1;33m\u001b[0m\u001b[1;33m\u001b[0m\u001b[0m\n\u001b[0;32m    320\u001b[0m         \u001b[0mself\u001b[0m\u001b[1;33m.\u001b[0m\u001b[0m_clear_result\u001b[0m\u001b[1;33m(\u001b[0m\u001b[1;33m)\u001b[0m\u001b[1;33m\u001b[0m\u001b[1;33m\u001b[0m\u001b[0m\n\u001b[1;32m--> 321\u001b[1;33m         \u001b[0mconn\u001b[0m\u001b[1;33m.\u001b[0m\u001b[0mquery\u001b[0m\u001b[1;33m(\u001b[0m\u001b[0mq\u001b[0m\u001b[1;33m)\u001b[0m\u001b[1;33m\u001b[0m\u001b[1;33m\u001b[0m\u001b[0m\n\u001b[0m\u001b[0;32m    322\u001b[0m         \u001b[0mself\u001b[0m\u001b[1;33m.\u001b[0m\u001b[0m_do_get_result\u001b[0m\u001b[1;33m(\u001b[0m\u001b[1;33m)\u001b[0m\u001b[1;33m\u001b[0m\u001b[1;33m\u001b[0m\u001b[0m\n\u001b[0;32m    323\u001b[0m         \u001b[1;32mreturn\u001b[0m \u001b[0mself\u001b[0m\u001b[1;33m.\u001b[0m\u001b[0mrowcount\u001b[0m\u001b[1;33m\u001b[0m\u001b[1;33m\u001b[0m\u001b[0m\n",
      "\u001b[1;32m~\\Anaconda3\\lib\\site-packages\\pymysql\\connections.py\u001b[0m in \u001b[0;36mquery\u001b[1;34m(self, sql, unbuffered)\u001b[0m\n\u001b[0;32m    503\u001b[0m                 \u001b[0msql\u001b[0m \u001b[1;33m=\u001b[0m \u001b[0msql\u001b[0m\u001b[1;33m.\u001b[0m\u001b[0mencode\u001b[0m\u001b[1;33m(\u001b[0m\u001b[0mself\u001b[0m\u001b[1;33m.\u001b[0m\u001b[0mencoding\u001b[0m\u001b[1;33m,\u001b[0m \u001b[1;34m'surrogateescape'\u001b[0m\u001b[1;33m)\u001b[0m\u001b[1;33m\u001b[0m\u001b[1;33m\u001b[0m\u001b[0m\n\u001b[0;32m    504\u001b[0m         \u001b[0mself\u001b[0m\u001b[1;33m.\u001b[0m\u001b[0m_execute_command\u001b[0m\u001b[1;33m(\u001b[0m\u001b[0mCOMMAND\u001b[0m\u001b[1;33m.\u001b[0m\u001b[0mCOM_QUERY\u001b[0m\u001b[1;33m,\u001b[0m \u001b[0msql\u001b[0m\u001b[1;33m)\u001b[0m\u001b[1;33m\u001b[0m\u001b[1;33m\u001b[0m\u001b[0m\n\u001b[1;32m--> 505\u001b[1;33m         \u001b[0mself\u001b[0m\u001b[1;33m.\u001b[0m\u001b[0m_affected_rows\u001b[0m \u001b[1;33m=\u001b[0m \u001b[0mself\u001b[0m\u001b[1;33m.\u001b[0m\u001b[0m_read_query_result\u001b[0m\u001b[1;33m(\u001b[0m\u001b[0munbuffered\u001b[0m\u001b[1;33m=\u001b[0m\u001b[0munbuffered\u001b[0m\u001b[1;33m)\u001b[0m\u001b[1;33m\u001b[0m\u001b[1;33m\u001b[0m\u001b[0m\n\u001b[0m\u001b[0;32m    506\u001b[0m         \u001b[1;32mreturn\u001b[0m \u001b[0mself\u001b[0m\u001b[1;33m.\u001b[0m\u001b[0m_affected_rows\u001b[0m\u001b[1;33m\u001b[0m\u001b[1;33m\u001b[0m\u001b[0m\n\u001b[0;32m    507\u001b[0m \u001b[1;33m\u001b[0m\u001b[0m\n",
      "\u001b[1;32m~\\Anaconda3\\lib\\site-packages\\pymysql\\connections.py\u001b[0m in \u001b[0;36m_read_query_result\u001b[1;34m(self, unbuffered)\u001b[0m\n\u001b[0;32m    722\u001b[0m         \u001b[1;32melse\u001b[0m\u001b[1;33m:\u001b[0m\u001b[1;33m\u001b[0m\u001b[1;33m\u001b[0m\u001b[0m\n\u001b[0;32m    723\u001b[0m             \u001b[0mresult\u001b[0m \u001b[1;33m=\u001b[0m \u001b[0mMySQLResult\u001b[0m\u001b[1;33m(\u001b[0m\u001b[0mself\u001b[0m\u001b[1;33m)\u001b[0m\u001b[1;33m\u001b[0m\u001b[1;33m\u001b[0m\u001b[0m\n\u001b[1;32m--> 724\u001b[1;33m             \u001b[0mresult\u001b[0m\u001b[1;33m.\u001b[0m\u001b[0mread\u001b[0m\u001b[1;33m(\u001b[0m\u001b[1;33m)\u001b[0m\u001b[1;33m\u001b[0m\u001b[1;33m\u001b[0m\u001b[0m\n\u001b[0m\u001b[0;32m    725\u001b[0m         \u001b[0mself\u001b[0m\u001b[1;33m.\u001b[0m\u001b[0m_result\u001b[0m \u001b[1;33m=\u001b[0m \u001b[0mresult\u001b[0m\u001b[1;33m\u001b[0m\u001b[1;33m\u001b[0m\u001b[0m\n\u001b[0;32m    726\u001b[0m         \u001b[1;32mif\u001b[0m \u001b[0mresult\u001b[0m\u001b[1;33m.\u001b[0m\u001b[0mserver_status\u001b[0m \u001b[1;32mis\u001b[0m \u001b[1;32mnot\u001b[0m \u001b[1;32mNone\u001b[0m\u001b[1;33m:\u001b[0m\u001b[1;33m\u001b[0m\u001b[1;33m\u001b[0m\u001b[0m\n",
      "\u001b[1;32m~\\Anaconda3\\lib\\site-packages\\pymysql\\connections.py\u001b[0m in \u001b[0;36mread\u001b[1;34m(self)\u001b[0m\n\u001b[0;32m   1067\u001b[0m     \u001b[1;32mdef\u001b[0m \u001b[0mread\u001b[0m\u001b[1;33m(\u001b[0m\u001b[0mself\u001b[0m\u001b[1;33m)\u001b[0m\u001b[1;33m:\u001b[0m\u001b[1;33m\u001b[0m\u001b[1;33m\u001b[0m\u001b[0m\n\u001b[0;32m   1068\u001b[0m         \u001b[1;32mtry\u001b[0m\u001b[1;33m:\u001b[0m\u001b[1;33m\u001b[0m\u001b[1;33m\u001b[0m\u001b[0m\n\u001b[1;32m-> 1069\u001b[1;33m             \u001b[0mfirst_packet\u001b[0m \u001b[1;33m=\u001b[0m \u001b[0mself\u001b[0m\u001b[1;33m.\u001b[0m\u001b[0mconnection\u001b[0m\u001b[1;33m.\u001b[0m\u001b[0m_read_packet\u001b[0m\u001b[1;33m(\u001b[0m\u001b[1;33m)\u001b[0m\u001b[1;33m\u001b[0m\u001b[1;33m\u001b[0m\u001b[0m\n\u001b[0m\u001b[0;32m   1070\u001b[0m \u001b[1;33m\u001b[0m\u001b[0m\n\u001b[0;32m   1071\u001b[0m             \u001b[1;32mif\u001b[0m \u001b[0mfirst_packet\u001b[0m\u001b[1;33m.\u001b[0m\u001b[0mis_ok_packet\u001b[0m\u001b[1;33m(\u001b[0m\u001b[1;33m)\u001b[0m\u001b[1;33m:\u001b[0m\u001b[1;33m\u001b[0m\u001b[1;33m\u001b[0m\u001b[0m\n",
      "\u001b[1;32m~\\Anaconda3\\lib\\site-packages\\pymysql\\connections.py\u001b[0m in \u001b[0;36m_read_packet\u001b[1;34m(self, packet_type)\u001b[0m\n\u001b[0;32m    674\u001b[0m             \u001b[1;32mif\u001b[0m \u001b[0mself\u001b[0m\u001b[1;33m.\u001b[0m\u001b[0m_result\u001b[0m \u001b[1;32mis\u001b[0m \u001b[1;32mnot\u001b[0m \u001b[1;32mNone\u001b[0m \u001b[1;32mand\u001b[0m \u001b[0mself\u001b[0m\u001b[1;33m.\u001b[0m\u001b[0m_result\u001b[0m\u001b[1;33m.\u001b[0m\u001b[0munbuffered_active\u001b[0m \u001b[1;32mis\u001b[0m \u001b[1;32mTrue\u001b[0m\u001b[1;33m:\u001b[0m\u001b[1;33m\u001b[0m\u001b[1;33m\u001b[0m\u001b[0m\n\u001b[0;32m    675\u001b[0m                 \u001b[0mself\u001b[0m\u001b[1;33m.\u001b[0m\u001b[0m_result\u001b[0m\u001b[1;33m.\u001b[0m\u001b[0munbuffered_active\u001b[0m \u001b[1;33m=\u001b[0m \u001b[1;32mFalse\u001b[0m\u001b[1;33m\u001b[0m\u001b[1;33m\u001b[0m\u001b[0m\n\u001b[1;32m--> 676\u001b[1;33m             \u001b[0mpacket\u001b[0m\u001b[1;33m.\u001b[0m\u001b[0mraise_for_error\u001b[0m\u001b[1;33m(\u001b[0m\u001b[1;33m)\u001b[0m\u001b[1;33m\u001b[0m\u001b[1;33m\u001b[0m\u001b[0m\n\u001b[0m\u001b[0;32m    677\u001b[0m         \u001b[1;32mreturn\u001b[0m \u001b[0mpacket\u001b[0m\u001b[1;33m\u001b[0m\u001b[1;33m\u001b[0m\u001b[0m\n\u001b[0;32m    678\u001b[0m \u001b[1;33m\u001b[0m\u001b[0m\n",
      "\u001b[1;32m~\\Anaconda3\\lib\\site-packages\\pymysql\\protocol.py\u001b[0m in \u001b[0;36mraise_for_error\u001b[1;34m(self)\u001b[0m\n\u001b[0;32m    221\u001b[0m         \u001b[0merrno\u001b[0m \u001b[1;33m=\u001b[0m \u001b[0mself\u001b[0m\u001b[1;33m.\u001b[0m\u001b[0mread_uint16\u001b[0m\u001b[1;33m(\u001b[0m\u001b[1;33m)\u001b[0m\u001b[1;33m\u001b[0m\u001b[1;33m\u001b[0m\u001b[0m\n\u001b[0;32m    222\u001b[0m         \u001b[1;32mif\u001b[0m \u001b[0mDEBUG\u001b[0m\u001b[1;33m:\u001b[0m \u001b[0mprint\u001b[0m\u001b[1;33m(\u001b[0m\u001b[1;34m\"errno =\"\u001b[0m\u001b[1;33m,\u001b[0m \u001b[0merrno\u001b[0m\u001b[1;33m)\u001b[0m\u001b[1;33m\u001b[0m\u001b[1;33m\u001b[0m\u001b[0m\n\u001b[1;32m--> 223\u001b[1;33m         \u001b[0merr\u001b[0m\u001b[1;33m.\u001b[0m\u001b[0mraise_mysql_exception\u001b[0m\u001b[1;33m(\u001b[0m\u001b[0mself\u001b[0m\u001b[1;33m.\u001b[0m\u001b[0m_data\u001b[0m\u001b[1;33m)\u001b[0m\u001b[1;33m\u001b[0m\u001b[1;33m\u001b[0m\u001b[0m\n\u001b[0m\u001b[0;32m    224\u001b[0m \u001b[1;33m\u001b[0m\u001b[0m\n\u001b[0;32m    225\u001b[0m     \u001b[1;32mdef\u001b[0m \u001b[0mdump\u001b[0m\u001b[1;33m(\u001b[0m\u001b[0mself\u001b[0m\u001b[1;33m)\u001b[0m\u001b[1;33m:\u001b[0m\u001b[1;33m\u001b[0m\u001b[1;33m\u001b[0m\u001b[0m\n",
      "\u001b[1;32m~\\Anaconda3\\lib\\site-packages\\pymysql\\err.py\u001b[0m in \u001b[0;36mraise_mysql_exception\u001b[1;34m(data)\u001b[0m\n\u001b[0;32m    105\u001b[0m     \u001b[1;32mif\u001b[0m \u001b[0merrorclass\u001b[0m \u001b[1;32mis\u001b[0m \u001b[1;32mNone\u001b[0m\u001b[1;33m:\u001b[0m\u001b[1;33m\u001b[0m\u001b[1;33m\u001b[0m\u001b[0m\n\u001b[0;32m    106\u001b[0m         \u001b[0merrorclass\u001b[0m \u001b[1;33m=\u001b[0m \u001b[0mInternalError\u001b[0m \u001b[1;32mif\u001b[0m \u001b[0merrno\u001b[0m \u001b[1;33m<\u001b[0m \u001b[1;36m1000\u001b[0m \u001b[1;32melse\u001b[0m \u001b[0mOperationalError\u001b[0m\u001b[1;33m\u001b[0m\u001b[1;33m\u001b[0m\u001b[0m\n\u001b[1;32m--> 107\u001b[1;33m     \u001b[1;32mraise\u001b[0m \u001b[0merrorclass\u001b[0m\u001b[1;33m(\u001b[0m\u001b[0merrno\u001b[0m\u001b[1;33m,\u001b[0m \u001b[0merrval\u001b[0m\u001b[1;33m)\u001b[0m\u001b[1;33m\u001b[0m\u001b[1;33m\u001b[0m\u001b[0m\n\u001b[0m",
      "\u001b[1;31mProgrammingError\u001b[0m: (pymysql.err.ProgrammingError) (1064, \"You have an error in your SQL syntax; check the manual that corresponds to your MariaDB server version for the right syntax to use near 'WHERE NOT (EXISTS (SELECT example_table.id \\nFROM example_table \\nWHERE example_ta' at line 2\")\n[SQL: INSERT INTO example_table (id, name) SELECT %(param_1)s AS anon_1, %(param_2)s AS anon_2 \nWHERE NOT (EXISTS (SELECT example_table.id \nFROM example_table \nWHERE example_table.id = %(id_1)s))]\n[parameters: {'param_1': '1', 'param_2': 'John', 'id_1': 1}]\n(Background on this error at: http://sqlalche.me/e/f405)"
     ]
    }
   ],
   "source": [
    "m = db.MetaData()\n",
    "\n",
    "example_table = db.Table(\"example_table\", m,\n",
    "                        db.Column('id', db.Integer),\n",
    "                        db.Column('name', db.String)\n",
    "                    )\n",
    "\n",
    "sel = db.select([db.literal(\"1\"), db.literal(\"John\")]).where(\n",
    "           ~db.exists([example_table.c.id]).where(example_table.c.id == 1)\n",
    "      )\n",
    "\n",
    "ins = example_table.insert().from_select([\"id\", \"name\"], sel)\n",
    "print(ins)\n",
    "conn.execute(ins)"
   ]
  },
  {
   "cell_type": "code",
   "execution_count": 34,
   "metadata": {},
   "outputs": [
    {
     "ename": "NameError",
     "evalue": "name 'select' is not defined",
     "output_type": "error",
     "traceback": [
      "\u001b[1;31m---------------------------------------------------------------------------\u001b[0m",
      "\u001b[1;31mNameError\u001b[0m                                 Traceback (most recent call last)",
      "\u001b[1;32m<ipython-input-34-ff1666a2fd89>\u001b[0m in \u001b[0;36m<module>\u001b[1;34m\u001b[0m\n\u001b[1;32m----> 1\u001b[1;33m \u001b[0msel\u001b[0m \u001b[1;33m=\u001b[0m \u001b[0mselect\u001b[0m\u001b[1;33m(\u001b[0m\u001b[0mtable1\u001b[0m\u001b[1;33m.\u001b[0m\u001b[0mc\u001b[0m\u001b[1;33m.\u001b[0m\u001b[0ma\u001b[0m\u001b[1;33m,\u001b[0m \u001b[0mtable1\u001b[0m\u001b[1;33m.\u001b[0m\u001b[0mc\u001b[0m\u001b[1;33m.\u001b[0m\u001b[0mb\u001b[0m\u001b[1;33m)\u001b[0m\u001b[1;33m.\u001b[0m\u001b[0mwhere\u001b[0m\u001b[1;33m(\u001b[0m\u001b[0mtable1\u001b[0m\u001b[1;33m.\u001b[0m\u001b[0mc\u001b[0m\u001b[1;33m.\u001b[0m\u001b[0mc\u001b[0m \u001b[1;33m>\u001b[0m \u001b[1;36m5\u001b[0m\u001b[1;33m)\u001b[0m\u001b[1;33m\u001b[0m\u001b[1;33m\u001b[0m\u001b[0m\n\u001b[0m\u001b[0;32m      2\u001b[0m \u001b[0mins\u001b[0m \u001b[1;33m=\u001b[0m \u001b[0mtable2\u001b[0m\u001b[1;33m.\u001b[0m\u001b[0minsert\u001b[0m\u001b[1;33m(\u001b[0m\u001b[1;33m)\u001b[0m\u001b[1;33m.\u001b[0m\u001b[0mfrom_select\u001b[0m\u001b[1;33m(\u001b[0m\u001b[1;33m[\u001b[0m\u001b[1;34m'a'\u001b[0m\u001b[1;33m,\u001b[0m \u001b[1;34m'b'\u001b[0m\u001b[1;33m]\u001b[0m\u001b[1;33m,\u001b[0m \u001b[0msel\u001b[0m\u001b[1;33m)\u001b[0m\u001b[1;33m\u001b[0m\u001b[1;33m\u001b[0m\u001b[0m\n",
      "\u001b[1;31mNameError\u001b[0m: name 'select' is not defined"
     ]
    }
   ],
   "source": [
    "sel = select(table1.c.a, table1.c.b).where(table1.c.c > 5)\n",
    "ins = table2.insert().from_select(['a', 'b'], sel)"
   ]
  },
  {
   "cell_type": "code",
   "execution_count": 37,
   "metadata": {
    "scrolled": true
   },
   "outputs": [
    {
     "ename": "NameError",
     "evalue": "name 'items' is not defined",
     "output_type": "error",
     "traceback": [
      "\u001b[1;31m---------------------------------------------------------------------------\u001b[0m",
      "\u001b[1;31mNameError\u001b[0m                                 Traceback (most recent call last)",
      "\u001b[1;32m<ipython-input-37-17fddb28028a>\u001b[0m in \u001b[0;36m<module>\u001b[1;34m\u001b[0m\n\u001b[1;32m----> 1\u001b[1;33m \u001b[0mitems\u001b[0m\u001b[1;33m.\u001b[0m\u001b[0mdrop\u001b[0m\u001b[1;33m(\u001b[0m\u001b[0mengine\u001b[0m\u001b[1;33m)\u001b[0m\u001b[1;33m\u001b[0m\u001b[1;33m\u001b[0m\u001b[0m\n\u001b[0m",
      "\u001b[1;31mNameError\u001b[0m: name 'items' is not defined"
     ]
    }
   ],
   "source": [
    "# How to drop tables completely\n",
    "# Question: Transactional? In SQLAlchemy this is known as \"sessions\"\n",
    "#students.drop(engine)\n"
   ]
  },
  {
   "cell_type": "code",
   "execution_count": 39,
   "metadata": {},
   "outputs": [
    {
     "ename": "SyntaxError",
     "evalue": "invalid syntax (<ipython-input-39-cdeddc0e9e93>, line 5)",
     "output_type": "error",
     "traceback": [
      "\u001b[1;36m  File \u001b[1;32m\"<ipython-input-39-cdeddc0e9e93>\"\u001b[1;36m, line \u001b[1;32m5\u001b[0m\n\u001b[1;33m    https://www.tutorialspoint.com/sqlalchemy/sqlalchemy_core_creating_table.htm\u001b[0m\n\u001b[1;37m           ^\u001b[0m\n\u001b[1;31mSyntaxError\u001b[0m\u001b[1;31m:\u001b[0m invalid syntax\n"
     ]
    }
   ],
   "source": [
    "# Create table \n",
    "# Insert Values\n",
    "# Repeatedly insert values\n",
    "\n",
    "https://www.tutorialspoint.com/sqlalchemy/sqlalchemy_core_creating_table.htm\n",
    "    https://leportella.com/sqlalchemy-tutorial/\n",
    "        https://www.michaelcho.me/article/sqlalchemy-commit-flush-expire-refresh-merge-whats-the-difference\n",
    "            Sessions\n",
    "            #https://docs.sqlalchemy.org/en/14/orm/session_basics.html#session-faq-whentocreate"
   ]
  },
  {
   "cell_type": "code",
   "execution_count": null,
   "metadata": {},
   "outputs": [],
   "source": []
  }
 ],
 "metadata": {
  "kernelspec": {
   "display_name": "Python 3",
   "language": "python",
   "name": "python3"
  },
  "language_info": {
   "codemirror_mode": {
    "name": "ipython",
    "version": 3
   },
   "file_extension": ".py",
   "mimetype": "text/x-python",
   "name": "python",
   "nbconvert_exporter": "python",
   "pygments_lexer": "ipython3",
   "version": "3.6.9"
  }
 },
 "nbformat": 4,
 "nbformat_minor": 4
}
